{
 "cells": [
  {
   "cell_type": "markdown",
   "metadata": {},
   "source": [
    "# Miniature/spontaneous postsynaptic currents\n",
    "Recording and analyzing miniature/spontaneous postsynaptic currents (m/sPSCs) is one of the most common experiments in patch clamp electrophysiology. m/sPSCs are ionic currents from AMPA, NMDA, glycine, or GABAA receptors that are evoked due to release of a single or multiple synaptic vesicles. We will cover both mPSCs and sPSCs, and go over how to analyze PSC events. While this chapter focuses on PSCs, most of the theory applies to miniature/spontaneous postsynaptic potentials (PSPs) as well. There are several experiments you can do that utilize PSCs; synapse number, silent synapses, excitatory/inhibitory ratio, synaptic multiplicity, and changes in synaptic release regulated by other non-ionic receptors.\n",
    "\n",
    "Postsynaptic currents have a very specific shape. This shape can modeled by multiply two exponentials of opposite direction together. This shape allows PSCs to act as coincidence detectors. The sharp rise allows PSCs to be temporally precise. The long decay allows PSCs to overlap in time and summate to drive an action potential. The shorter the decay the shorter the time window PSCs have to summate. Different cells and different PSC types have different rise rates and decay rates."
   ]
  },
  {
   "cell_type": "markdown",
   "metadata": {},
   "source": [
    "## Miniature postsynaptic currents\n",
    "Miniature postsynaptic currents (mPSCs) are ionic currents evoked from the release of a single synaptic vesicle {cite}`del_castillo_quantal_1954`. Frequency of mPSCs is used as a proxy for the number of functional synapses (synapses that have presynaptic input) that contain the receptor of interest (but not necessarily the number of synapses). The interpretation of mPSC data depends on what receptor you are recording from. If you are recording mEPSCs from AMPARs then you are likely getting the number of \"active\" or \"non-silent\" synapses. If you are recording NMDARs could be looking at the number of silent synapses (only if you compare to the AMPAR mEPSCs). If you are recording mIPSCs then you are getting the number of inhibitory synapses. With mIPSCs you could be getting GABAAR or GlyR. One important caveat of mPSCs is that you are not getting where the presynaptic input is coming from. If you want projection specific synaptic input you need to run a different type of experiment than we will be covering here, but is covered later in the book."
   ]
  },
  {
   "cell_type": "markdown",
   "metadata": {},
   "source": [
    "### Internal and external solutions\n",
    "You will need to block spontaneous activity including tetrodotoxin (TTX) in the bath. Preferably you would also use an internal solution that contains cesium and QX-314. For more information on internals see {doc}`./internal_solutions.ipynb`. Depending on the receptor current(s) you want to record you will need to block certain other receptors by including specific drugs in the external solutions. For more information on externals see {doc}`./external_solutions.ipynb`.\n",
    "\n",
    "### How should you record mPSCs\n",
    "mPSCs are currents which means you are recording in voltage-clamp mode. This means that the amplifier will injecct current into the cell to keep it at your choosen holding voltage. Any changes in current means that the cells had a change in voltage that the amplifier is counter acting\n",
    "\n",
    "There are two primary ways you can record mPSCs. One way is you can record continuously for about 3-5 minutes. Technically speaking this is the easiest method since you have a single recording and pretty much any simple recording software will implement this method. The second way is you can record 20-40 sweeps/acquisitions of 5-15 seconds each. Each of these acquisitions act as a kind of technical replicate. This method allows you to discard bad portions of the recording. Usually when you get proficient at patching you will rarely have bad recordings however sometimes you get 30 seconds where there is an unstable seal, digital cell phone noise, your bath gets too low, you get pump/vacuum noise or other issues. When this happens it is fine to discard the 5 or so acquisitions that are bad. You can create acquisitions from continuous recordings by splitting to get the same benefits of the sweeps/acquisitions method.\n",
    "\n",
    "Filtering and sample rate are the other important consideration for capturing mPSCs. You generally want the sample rate to be 3-4x greater than the filter cutoff you are using with the filter cutoff determining the high frequency you are interested in. While signal theory says you have to have the sample rate 2x greater than the high frequency you are interested in, generally to capture that high frequency well you need to sample 3-4x times that rate. In general mPSCs are recorded at a 10000 Hz with a 3000 Hz lowpass cutoff. A 10000 Hz sample rate is high enough to capture the rise of a mPSCs which are fairly quick, especially for mEPSCs on parvalbumin interneurons. 10000 Hz is also a good trade off between accuracy of the signal and digital storage space. In modern times you could realistically record at 20000 Hz with no storage space issues. I suggest a mininum sample rate of 10000 Hz."
   ]
  },
  {
   "cell_type": "markdown",
   "metadata": {},
   "source": [
    "## Spontaneous postsynaptic currents"
   ]
  },
  {
   "cell_type": "markdown",
   "metadata": {},
   "source": [
    "## Analyzing miniature/spontaneous PSCs.\n",
    "There are several important features of m/aPSCs that you will want to analyze. The primary feature is frequency (the number of events occuring every second). Frequency is used as a proxy for the number of synapses that contain the receptor whose currents you are recording. The more mPSCs, the more synapses. However, if there are changes in release probability you could also get a change in frequency without a change in synapse number. To determine whether there are changes in release probability you will need to run some pair-pulse experiments which are described in a later chapter. Another feature is mPSC amplitude. A larger amplitude could mean two things. Larger mPSCs could mean there are more receptors at the postsynaptic element. Alternatively, larger mPSCs could mean that you get less distal synapses due to decreased dendritic length or more synapses close to the cell body with no change in dendritic length (probably less likely to occur). Amplitude of mPSCs decreases the further from the cell body that the event occurs due to dendritic filtering. To rule out one of the interpretations you can use the mEPSC rise rate (amplitude/peak_time-baseline_start) to determine if the rise rate is changed. More distal mPSCs should have a slower rise rate due to dendritic lowpass filtering. Lastly, you can look at the tau or decay rate of the mPSC. Changes in tau are usually due to changes in receptor subunit composition. Tau is especially useful when you need to identify specific cells types. Interneurons, like parvalbumin interneurons, have a very short mPESC tau compared to pyramidal neurons. Tau can also be affected by dendritic filtering.\n",
    "\n",
    "There are several steps to processing acquisitions to find mEPSCS.\n",
    "1. Filter the acquisition\n",
    "2. Convolution/deconvolution to find events\n",
    "3. Clean events\n",
    "\n",
    "First we are going to import some python packages."
   ]
  },
  {
   "cell_type": "code",
   "execution_count": 64,
   "metadata": {},
   "outputs": [],
   "source": [
    "from pathlib import Path\n",
    "import json\n",
    "\n",
    "from ipywidgets import widgets, HBox, VBox, Label, FloatSlider\n",
    "from IPython.display import display\n",
    "import matplotlib.pyplot as plt\n",
    "import numpy as np\n",
    "from scipy import signal, optimize, fft"
   ]
  },
  {
   "cell_type": "markdown",
   "metadata": {},
   "source": [
    "Next we are going to load the data. All the data is stored on json files. While this file type is not the most practical for storing electrophysiological data, it is the very convenient since it does not require any third party python packages."
   ]
  },
  {
   "cell_type": "code",
   "execution_count": 7,
   "metadata": {},
   "outputs": [],
   "source": [
    "path = Path().cwd() \n",
    "path = path.parents[0]/ r\"data/mepsc\"\n",
    "paths = sorted(list(path.glob(\"*.json\")))\n",
    "exp_dict = {}\n",
    "for index, p in enumerate(paths):\n",
    "    with open(p, \"r\") as rf:\n",
    "        temp = json.load(rf)\n",
    "        temp[\"array\"] = temp[\"array\"][:100000]\n",
    "        exp_dict[index+1] = temp\n",
    "x_array = np.arange(len(exp_dict[1][\"array\"])) / 10"
   ]
  },
  {
   "cell_type": "markdown",
   "metadata": {},
   "source": [
    "The first thing to do is look through your data just to see what it looks like. For reference the data in this tutorial is from a layer 5 cell in the ACC of a P16 mouse. \n",
    "- The recorded data is usually in pA, as is the case for this data.\n",
    "- It can be hard to see the events, however this is a parvalbumin interneuron and has very large mEPSC events.\n",
    "- The acquisition mean hovers around -40 pA. This is the amount of current injected to keep the cell at the holding voltage which in this case is -70 mV."
   ]
  },
  {
   "cell_type": "code",
   "execution_count": 8,
   "metadata": {},
   "outputs": [
    {
     "data": {
      "application/vnd.jupyter.widget-view+json": {
       "model_id": "1ddd689239f445fb98756dd5fd71e515",
       "version_major": 2,
       "version_minor": 0
      },
      "text/plain": [
       "interactive(children=(IntSlider(value=1, description='index', max=5, min=1), Output()), _dom_classes=('widget-…"
      ]
     },
     "metadata": {},
     "output_type": "display_data"
    }
   ],
   "source": [
    "def explore_plots(index):\n",
    "    plt.plot(\n",
    "        x_array,\n",
    "        exp_dict[index][\"array\"],\n",
    "        label=f\"Acquisition: {index}\",\n",
    "    )\n",
    "\n",
    "    plt.ylabel(\"Current (pA)\")\n",
    "\n",
    "    plt.xlabel(\"Time (ms)\")\n",
    "    plt.legend(loc=(1.04, 0.5))\n",
    "\n",
    "\n",
    "out = widgets.interact(\n",
    "    explore_plots,\n",
    "    index=widgets.IntSlider(\n",
    "        value=0,\n",
    "        min=min(exp_dict.keys()),\n",
    "        max=max(exp_dict.keys()),\n",
    "        step=1,\n",
    "    ),\n",
    ")"
   ]
  },
  {
   "cell_type": "markdown",
   "metadata": {},
   "source": [
    "First, we will define some important features of the acquisition so that we can reuse the settings throughout the analysis. It is important to note that the all the parameters are going to be in samples. The current files were recorded at 10000 Hz so we multiply the time we want, in milliseconds, time by 10 or divide sample number by 10 to get to milliseconds."
   ]
  },
  {
   "cell_type": "code",
   "execution_count": 9,
   "metadata": {},
   "outputs": [],
   "source": [
    "baseline_start = 0\n",
    "baseline_end = 3000\n",
    "sample_rate = 10000"
   ]
  },
  {
   "cell_type": "markdown",
   "metadata": {},
   "source": [
    "### Filter the acquisition\n",
    "First thing we need to do is filter the acquisition. There are two ways to filter. You can remove the baseline then lowpass filter or you can apply a bandpass filter. Filtering achieves two goals. The first is remove the DC offset. The DC offset is actually the current need to clamp the voltage. The second goal is to remove extraneous high frequency noise which can hinder the analysis. You can also use notch filter to remove 60 Hz, however I recommend finding ways to reduce 60 Hz before you even record. Notch filters can introduce artifacts into and distort your signal.\n",
    "\n",
    "For this tutorial we will use remove the baseline by taking the mean and use a zero-phase Butterworth filter with an order 4 filter and a lowpass cutoff of 600 Hz and compare that to a bandpass cutoff of [0.01, 600] to remove the DC offset and high frequency noise. If you want to learn more about filtering checkout the chapter on filtering. For the PSC tutorial we are going to skip the RC check."
   ]
  },
  {
   "cell_type": "markdown",
   "metadata": {},
   "source": [
    "#### Filter method 1: Remove the baseline and lowpass filter"
   ]
  },
  {
   "cell_type": "code",
   "execution_count": 34,
   "metadata": {},
   "outputs": [],
   "source": [
    "for value in exp_dict.values():\n",
    "    baseline = np.mean(value[\"array\"])\n",
    "    temp = value[\"array\"] - baseline\n",
    "    value[\"holding_current\"] = baseline\n",
    "    sos = signal.butter(\n",
    "            4, Wn=600, btype=\"lowpass\", output=\"sos\", fs=sample_rate\n",
    "        )\n",
    "    filt_array = signal.sosfiltfilt(sos, temp)\n",
    "    value[\"lowpass\"] = filt_array"
   ]
  },
  {
   "cell_type": "markdown",
   "metadata": {},
   "source": [
    "#### Filter method 2: Bandpass filter"
   ]
  },
  {
   "cell_type": "code",
   "execution_count": 35,
   "metadata": {},
   "outputs": [],
   "source": [
    "for value in exp_dict.values():\n",
    "    baseline = np.mean(value[\"array\"])\n",
    "    temp = value[\"array\"] - baseline\n",
    "    sos = signal.butter(\n",
    "            4, Wn=[0.01, 600], btype=\"bandpass\", output=\"sos\", fs=sample_rate\n",
    "        )\n",
    "    filt_array = signal.sosfiltfilt(sos, temp)\n",
    "    value[\"bandpass\"] = filt_array"
   ]
  },
  {
   "cell_type": "markdown",
   "metadata": {},
   "source": [
    "Let's compare the two types of filtering. Some things to notice.\n",
    "- Both methods filter almost identically and substantially reduce the noise.\n",
    "- Both methods reduce the size of the mEPSC.\n",
    "- With a zero-phase filter we can prevent any phase changes so the timing of the baseline and peak of the mEPSC events is unchanged."
   ]
  },
  {
   "cell_type": "code",
   "execution_count": 36,
   "metadata": {},
   "outputs": [
    {
     "data": {
      "image/png": "[encoded data removed]",
      "text/plain": [
       "<Figure size 640x480 with 2 Axes>"
      ]
     },
     "metadata": {},
     "output_type": "display_data"
    }
   ],
   "source": [
    "fig, ax = plt.subplots(ncols=2)\n",
    "ax[0].plot(exp_dict[1][\"array\"]-exp_dict[1][\"holding_current\"], c=\"black\", linewidth=1)\n",
    "ax[0].plot(exp_dict[1][\"lowpass\"], c=\"red\", linewidth=1)\n",
    "ax[0].set_title(\"Lowpass\")\n",
    "ax[1].plot(exp_dict[1][\"array\"]-exp_dict[1][\"holding_current\"], c=\"black\", linewidth=1)\n",
    "ax[1].plot(exp_dict[1][\"bandpass\"], c=\"red\", linewidth=1)\n",
    "ax[1].set_title(\"Bandpass\")\n",
    "for a in ax:\n",
    "    a.set_xlim(10700,11200)\n",
    "    a.set_ylim(-40, 10)"
   ]
  },
  {
   "cell_type": "markdown",
   "metadata": {},
   "source": [
    "### Template matching vs deconvolution\n",
    "There are main two ways, template matching (correlation) and deconvolution, to identify m/sPSCs, both need a template PSC. Convolution is the \"traditional\" way however I have seen quite a few new papers using a deconvolution method since it is less dependent on the exact template shape. We will cover both methods to see how each works. If you want to learn more about convolution and deconvolution check out the signal processing chapter."
   ]
  },
  {
   "cell_type": "markdown",
   "metadata": {},
   "source": [
    "#### Create a template\n",
    "First we are going to create a template PSC. We will use the same template for each method. The template is a double exponential with a exponential rise multiplied by an exponential decay. You can see the template equation below. "
   ]
  },
  {
   "cell_type": "code",
   "execution_count": 44,
   "metadata": {},
   "outputs": [],
   "source": [
    "def create_template(\n",
    "    amplitude: int | float = -20,\n",
    "    rise_tau: int | float = 0.3,\n",
    "    decay_tau: int | float = 5,\n",
    "    risepower: int | float = 0.5,\n",
    "    length: int | float = 30,\n",
    "    spacer: int | float = 1.5,\n",
    "    sample_rate: int = 10000,\n",
    ") -> np.ndarray:\n",
    "    \"\"\"Creates a template based on several factors.\n",
    "\n",
    "    Args:\n",
    "        amplitude (float): Amplitude of template\n",
    "        rise_tau (float): Rise tau (ms) of template\n",
    "        decay_tau (float): Decay tau (ms) of template\n",
    "        risepower (float): Risepower of template\n",
    "        length (float): Length of time (ms) for template\n",
    "        spacer (int, optional): Delay (ms) until template starts. Defaults to 1.5.\n",
    "\n",
    "    Returns:\n",
    "        np.array: Numpy array of the template.\n",
    "    \"\"\"\n",
    "    if rise_tau == decay_tau:\n",
    "        raise ValueError(\"Rise tau cannot equal decay tau\")\n",
    "    s_r_c = sample_rate / 1000\n",
    "    rise_tau = int(rise_tau * s_r_c)\n",
    "    decay_tau = int(decay_tau * s_r_c)\n",
    "    length = int(length * s_r_c)\n",
    "    spacer = int(spacer * s_r_c)\n",
    "    template = np.zeros(length + spacer)\n",
    "    t_length = np.arange(0, length)\n",
    "    offset = len(template) - length\n",
    "    Aprime = (decay_tau / rise_tau) ** (rise_tau / (rise_tau - decay_tau))\n",
    "    y = (\n",
    "        amplitude\n",
    "        / Aprime\n",
    "        * ((1 - (np.exp(-t_length / rise_tau))) ** risepower * np.exp((-t_length / decay_tau)))\n",
    "    )\n",
    "    template[offset:] = y\n",
    "    return template"
   ]
  },
  {
   "cell_type": "markdown",
   "metadata": {},
   "source": [
    "You can see the default template that is output from the create_template function below. If you are using the notebook there is an interactive widget that allows you to change the parameters of the create_template equation."
   ]
  },
  {
   "cell_type": "code",
   "execution_count": 50,
   "metadata": {},
   "outputs": [
    {
     "data": {
      "text/plain": [
       "[<matplotlib.lines.Line2D at 0x1e15ab917f0>]"
      ]
     },
     "execution_count": 50,
     "metadata": {},
     "output_type": "execute_result"
    },
    {
     "data": {
      "image/png": "[encoded data removed]",
      "text/plain": [
       "<Figure size 640x480 with 1 Axes>"
      ]
     },
     "metadata": {},
     "output_type": "display_data"
    }
   ],
   "source": [
    "plt.plot(create_template())"
   ]
  },
  {
   "cell_type": "code",
   "execution_count": null,
   "metadata": {},
   "outputs": [
    {
     "data": {
      "application/vnd.jupyter.widget-view+json": {
       "model_id": "a39a170c7d6941a1b06ba3b700955842",
       "version_major": 2,
       "version_minor": 0
      },
      "text/plain": [
       "interactive(children=(IntSlider(value=-20, description='amplitude', max=-5, min=-100), FloatSlider(value=0.3, …"
      ]
     },
     "metadata": {},
     "output_type": "display_data"
    }
   ],
   "source": [
    "def explore_plots(amplitude=-20, rise_tau=0.3, decay_tau=5.0, risepower=0.5, length=30.0):\n",
    "    template = create_template(amplitude, rise_tau, decay_tau, risepower, length)\n",
    "    plt.plot(\n",
    "        np.arange(len(template))/10,\n",
    "        template,\n",
    "    )\n",
    "\n",
    "    plt.ylabel(\"Current (pA)\")\n",
    "\n",
    "    plt.xlabel(\"Time (ms)\")\n",
    "\n",
    "out = widgets.interact(\n",
    "    explore_plots,\n",
    "    amplitude = (-100, -5, 1),\n",
    "    rise_tau=(0.1, 5.0, 0.1),\n",
    "    decay_tau=(1.0, 10.0, 0.25),\n",
    "    risepower=(0.1, 5, 0.1),\n",
    "    length=(20.0, 100.0, 1.0),\n",
    "    )"
   ]
  },
  {
   "cell_type": "markdown",
   "metadata": {},
   "source": [
    "For the analysis of mEPSCs on parvalbumin interneurons we just need to modify the decay rate of the template since PV cell mEPSCs tend to have a very fast decay compared to other cell types (think about why this might be related to the function of PV cells in the larger circuit)."
   ]
  },
  {
   "cell_type": "code",
   "execution_count": 59,
   "metadata": {},
   "outputs": [],
   "source": [
    "template = create_template(decay_tau=2.5)"
   ]
  },
  {
   "cell_type": "markdown",
   "metadata": {},
   "source": [
    "#### Method 1: Template matching\n",
    "Template matching essentially slides the template along the acquisition and correlates the template with the segment of the acquisition it is currently aligned with. I do some extract work to ensure the template matched array is zero phase relative to the original array. This makes it easier to find PSC events."
   ]
  },
  {
   "cell_type": "code",
   "execution_count": 81,
   "metadata": {},
   "outputs": [],
   "source": [
    "for value in exp_dict.values():\n",
    "    temp_match = np.correlate(value[\"lowpass\"], template, mode=\"full\")\n",
    "    half = len(value[\"lowpass\"])//2\n",
    "    mid_point = len(temp_match)//2\n",
    "    temp_match = temp_match[mid_point-half:mid_point+half]\n",
    "    value[\"temp_match\"] = temp_match"
   ]
  },
  {
   "cell_type": "markdown",
   "metadata": {},
   "source": [
    "#### Method 2: Deconvolution\n",
    "Deconvolution essetially divides out the template from the acquisition. Deconvolution is inherently noisy so the deconvolve output has to be filtered to even see the signal."
   ]
  },
  {
   "cell_type": "code",
   "execution_count": 82,
   "metadata": {},
   "outputs": [],
   "source": [
    "for value in exp_dict.values():\n",
    "    kernel = np.hstack((template, np.zeros(len(value[\"lowpass\"]) - len(template))))\n",
    "    template_fft = fft.fft(kernel)\n",
    "    signal_fft = fft.fft(value[\"lowpass\"])\n",
    "    temp = signal_fft / template_fft\n",
    "    temp = np.real(fft.ifft(temp))\n",
    "    sos = signal.butter(\n",
    "            4, Wn=300, btype=\"lowpass\", output=\"sos\", fs=sample_rate\n",
    "        )\n",
    "    deconvolved = signal.sosfiltfilt(sos, temp)\n",
    "    value[\"deconvolved\"] = deconvolved"
   ]
  },
  {
   "cell_type": "code",
   "execution_count": null,
   "metadata": {},
   "outputs": [],
   "source": [
    "fig, ax = plt.subplots()"
   ]
  }
 ],
 "metadata": {
  "kernelspec": {
   "display_name": "ephysbook",
   "language": "python",
   "name": "python3"
  },
  "language_info": {
   "codemirror_mode": {
    "name": "ipython",
    "version": 3
   },
   "file_extension": ".py",
   "mimetype": "text/x-python",
   "name": "python",
   "nbconvert_exporter": "python",
   "pygments_lexer": "ipython3",
   "version": "3.12.1"
  }
 },
 "nbformat": 4,
 "nbformat_minor": 2
}
