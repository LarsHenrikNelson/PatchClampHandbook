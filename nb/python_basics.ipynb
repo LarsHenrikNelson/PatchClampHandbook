{
 "cells": [
  {
   "cell_type": "markdown",
   "id": "855d1e73",
   "metadata": {},
   "source": [
    "# Python basics"
   ]
  }
 ],
 "metadata": {
  "language_info": {
   "name": "python"
  }
 },
 "nbformat": 4,
 "nbformat_minor": 5
}
