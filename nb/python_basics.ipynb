{
 "cells": [
  {
   "cell_type": "markdown",
   "id": "855d1e73",
   "metadata": {},
   "source": [
    "# Python basics"
   ]
  },
  {
   "cell_type": "markdown",
   "id": "73d79f86",
   "metadata": {},
   "source": [
    "This chapter will go over the basics of Python. Python supports many different programming styles from structured to object-oriented to functional programming. Perhaps the most important thing in Python is that everything is an object. This makes programming in some sense very easy but can lead to some weird results. This chapter will not into depth but cover enough to get you started. Other chapters will go more into depth about using Python for scientific computing."
   ]
  },
  {
   "cell_type": "markdown",
   "id": "d763b67f",
   "metadata": {},
   "source": [
    "## Primatives\n",
    "Primatives in Python include floats, integers, boolean, strings and None. We will go over the basics of these."
   ]
  },
  {
   "cell_type": "markdown",
   "id": "85b68363",
   "metadata": {},
   "source": [
    "### Integers\n",
    "Integers are numbers that do not have values past the decimal place. In other languages you can have positive only integers and integers that can be negative and positive but in Python there is just one type of integer. Integers can be added, subtracted, multiplied and divided to create a new integer or inplace (using the `+=` operator)."
   ]
  },
  {
   "cell_type": "code",
   "execution_count": 95,
   "id": "0f1c2ce4",
   "metadata": {},
   "outputs": [
    {
     "name": "stdout",
     "output_type": "stream",
     "text": [
      "3, -1, 2, 0.5\n",
      "1, 140710219037112\n",
      "4, 140710219037208\n"
     ]
    }
   ],
   "source": [
    "a = 1\n",
    "b = 2\n",
    "print(a+b, a-b, a*b, a/b, sep=\", \")\n",
    "\n",
    "# Inplace addition\n",
    "print(a, id(a), sep=\", \")\n",
    "a += 3\n",
    "print(a, id(a), sep=\", \")"
   ]
  },
  {
   "cell_type": "markdown",
   "id": "bd916e9f",
   "metadata": {},
   "source": [
    "### Floats\n",
    "Floats are numbers that have values past the decimal place. Floats can be added, subtracted, multiplied and divided to create a new integer or inplace."
   ]
  },
  {
   "cell_type": "code",
   "execution_count": 3,
   "id": "e4d8e1e4",
   "metadata": {},
   "outputs": [
    {
     "name": "stdout",
     "output_type": "stream",
     "text": [
      "3.5903530000000003, -1.120353, 2.908860955, 0.5243375409121266\n"
     ]
    }
   ],
   "source": [
    "a = 1.235\n",
    "b = 2.355353\n",
    "print(a+b, a-b, a*b, a/b, sep=\", \")"
   ]
  },
  {
   "cell_type": "markdown",
   "id": "fd017e7c",
   "metadata": {},
   "source": [
    "### Strings\n",
    "Strings are essentially a list of characters or letters. You can add strings. You can turn integers and floats into strings by using the `str` function. When you add two strings together you create a new string."
   ]
  },
  {
   "cell_type": "code",
   "execution_count": 19,
   "id": "95bc6c6d",
   "metadata": {},
   "outputs": [
    {
     "name": "stdout",
     "output_type": "stream",
     "text": [
      "synapseneuron, synapse1, synapseneuron2.355\n"
     ]
    }
   ],
   "source": [
    "a = \"synapse\"\n",
    "b= \"neuron\"\n",
    "c = str(1)\n",
    "d = str(2.355)\n",
    "e = a + b\n",
    "print(e, a+c, e+d, sep=\", \")"
   ]
  },
  {
   "cell_type": "markdown",
   "id": "b35e371f",
   "metadata": {},
   "source": [
    "### Boolean\n",
    "Booleans are True or False. They can be created by testing for equality between two python objects such as numbers or strings using `==`. You can also subtract add booleans to integers and floats. This is because booleans also evaluate to 0 and 1 (False and True respectively)."
   ]
  },
  {
   "cell_type": "code",
   "execution_count": 16,
   "id": "a44b949b",
   "metadata": {},
   "outputs": [
    {
     "name": "stdout",
     "output_type": "stream",
     "text": [
      "False 1 -1.2999999999999998 True False\n"
     ]
    }
   ],
   "source": [
    "a = True\n",
    "b = False\n",
    "print(a == b, a-b, a-2.3, 2 == 2, \"test\" == \"y\")"
   ]
  },
  {
   "cell_type": "markdown",
   "id": "c8d001b6",
   "metadata": {},
   "source": [
    "### None\n",
    "This may be somewhat controversial but Nones plays a very important role in Python especially for use in optional inputs to functions. While not traditionally counted as a primitive I believe that it is very fundamental to programming in Python."
   ]
  },
  {
   "cell_type": "code",
   "execution_count": 17,
   "id": "204cfc69",
   "metadata": {},
   "outputs": [
    {
     "name": "stdout",
     "output_type": "stream",
     "text": [
      "None\n"
     ]
    }
   ],
   "source": [
    "a = None\n",
    "print(a)"
   ]
  },
  {
   "cell_type": "markdown",
   "id": "d755aae8",
   "metadata": {},
   "source": [
    "## Containers\n",
    "Containers are how you store many objects in Python. Typically containers include tuples, lists, dictionaries and sets. All containers in python can be indexed in some manner. Indexing just means grabbing an object by specifying its location in the container. Most indexing in Python uses the bracket `[]` operators. \n",
    "\n",
    "Tuples, lists and sets can index using integers such as `[1:3]`. To the first object in a indexable container starts at 0, this is called zero indexing. The last object can is at index position lenght of container - 1. You can grab a subset by `[1:3]` and when you grab a subset you all the elements starting a 1 and up but not including 3. This can be confusing for people who have never coded so I recommend trying it out.\n",
    "\n",
    "Dictionaries can be indexed using almost any Python object that is hashable or immutable. This includes integers, floats (don't use this), tuples (very powerful) and strings."
   ]
  },
  {
   "cell_type": "markdown",
   "id": "be0557f7",
   "metadata": {},
   "source": [
    "### Tuple\n",
    "Tuples are an immutable container. Immutable means that you can not add elements to the tuple without creating a new tuple. Tuple can hold any type of primitive or other containers. They are also used implicitly when you return many items from a function which we will see later. Because tuples are immutable you cannot change the items in a tuple by object assignment. Note the us of id to show the Python object id changes when the tuple is modified."
   ]
  },
  {
   "cell_type": "code",
   "execution_count": null,
   "id": "5c4299c6",
   "metadata": {},
   "outputs": [
    {
     "name": "stdout",
     "output_type": "stream",
     "text": [
      "(1, 3, 'string', True) 1763445268752\n",
      "(1, 3, 'string', True, 1) 1763444642720\n",
      "(1, 3, 'string', True, 1)\n"
     ]
    }
   ],
   "source": [
    "j = (1, 3, \"string\", True)\n",
    "print(j, id(j))\n",
    "j += (1, )\n",
    "print(j, id(j))\n",
    "\n",
    "# Cannot do this\n",
    "# j[0] = 3\n",
    "\n",
    "# This won't work either\n",
    "m = j[0]\n",
    "m += 5\n",
    "print(j)\n",
    "\n"
   ]
  },
  {
   "cell_type": "markdown",
   "id": "1888729a",
   "metadata": {},
   "source": [
    "### Lists\n",
    "Lists are mutable containers. Mutable means you can modify the object by adding and subtracting elements or subsetting elements. One thing to note about lists is that the elements inside can be modified by assigment. You can create lists using brackets `[]` or if you have another container you can use the `list()` function to convert it to a list. You can append to list by using the `.append()` append and extend the list with another list or tuple by using the `.extend()` method or `+=` operator."
   ]
  },
  {
   "cell_type": "code",
   "execution_count": 42,
   "id": "530bbc7c",
   "metadata": {},
   "outputs": [
    {
     "name": "stdout",
     "output_type": "stream",
     "text": [
      "[1, 3, 'string', True] 1763445445440\n",
      "[1, 3, 'string', True, 1] 1763445445440\n",
      "[1, 3, 'string', True, 1, 1] 1763445445440\n",
      "[3, 5, 'string', True, 1, 1, 1] 1763445445440\n",
      "3, 1\n"
     ]
    }
   ],
   "source": [
    "j = [1, 3, \"string\", True]\n",
    "print(j, id(j))\n",
    "j += [1]\n",
    "print(j, id(j))\n",
    "j.append(1)\n",
    "print(j, id(j))\n",
    "j.extend([1])\n",
    "j[0] = 3\n",
    "j[1] += 2\n",
    "print(j, id(j))\n",
    "print(j[0], j[5], sep=\", \")"
   ]
  },
  {
   "cell_type": "markdown",
   "id": "030a732d",
   "metadata": {},
   "source": [
    "### Dictionaries\n",
    "Dictionaries are a key, value container. The key is hashed to a unique (most of the time) value and that value is used to store an object in an array. The object can be retrieved by using the key. Similar to lists dictionaries are mutable. Dictionaries can be created using the `{}` brackets or by the `dict()` function. You can add elements dictionaries using `[]`, however if there is already an element with the same key you will overwrite the value. You can remove elements using the `.pop()` method."
   ]
  },
  {
   "cell_type": "code",
   "execution_count": 53,
   "id": "fb87dbc5",
   "metadata": {},
   "outputs": [
    {
     "name": "stdout",
     "output_type": "stream",
     "text": [
      "{'b': 1, 'c': 5}, {'a': 1}\n",
      "{'c': 5, 'a': 1, 'testing': 3, 0: 'testing'}, 1\n",
      "{'c': 5, 'a': 1, 'testing': 'fire', 0: 'testing'}\n"
     ]
    }
   ],
   "source": [
    "a = {\"b\": 1, \"c\": 5}\n",
    "b = dict(a=1)\n",
    "print(a, b, sep=\", \")\n",
    "a.update(b)\n",
    "a[\"testing\"] = 3\n",
    "a[0] = \"testing\"\n",
    "b = a.pop(\"b\")\n",
    "print(a, b, sep=\", \")\n",
    "a[\"testing\"] = \"fire\"\n",
    "print(a, sep=\", \")\n"
   ]
  },
  {
   "cell_type": "markdown",
   "id": "e5a52f0b",
   "metadata": {},
   "source": [
    "### Sets\n",
    "Sets are similar to dictionary except they don't have values, just keys. They cannot contain repeated elements. Sets are very useful to get unique values out of a list. Sets are mutable, so you update them with a list, tuple, set or string. If you want to add string to a set you will need to put it in another container since strings are just a container of characters (this can be confusing)."
   ]
  },
  {
   "cell_type": "code",
   "execution_count": 60,
   "id": "7937dc1f",
   "metadata": {},
   "outputs": [
    {
     "name": "stdout",
     "output_type": "stream",
     "text": [
      "{'a', 'b'}\n",
      "[1, 2, 2, 3, 4, 4, 4], {1, 2, 3, 4}\n",
      "{1, 2, 3, 4, 5, 'n', 't', 'r', 'i', 'g', 's'}\n"
     ]
    }
   ],
   "source": [
    "a = {\"a\", \"b\"}\n",
    "print(a)\n",
    "b = [1, 2, 2, 3, 4,4,4]\n",
    "c = set(b)\n",
    "print(b, c, sep=\", \")\n",
    "c.update([5])\n",
    "c.update(\"string\")\n",
    "print(c)"
   ]
  },
  {
   "cell_type": "markdown",
   "id": "fe4018de",
   "metadata": {},
   "source": [
    "## Operators\n",
    "Operators essentially tell Python do do something on variables. There are many operators we will cover the most relevant."
   ]
  },
  {
   "cell_type": "markdown",
   "id": "c9a1a575",
   "metadata": {},
   "source": [
    "### Arithmetic operators\n",
    "You may have noticed the use of mathematical operators including `+`, `-`, `/`, `*`. These are both basic mathematical functions and can act on other Python objects such as strings and other custom objects. Other mathematical functions include the inplace modifiers `+=`, `-=`, `/=`, `*=`. These will not return a new integer or float when used. There are two other useful operators the floor division `//` and the modulus `%`. These operators divide like you likely taught to divide. The floor gives the integer number of times a number goes into another and the modulus gives the remainder."
   ]
  },
  {
   "cell_type": "code",
   "execution_count": 63,
   "id": "9d7e1aac",
   "metadata": {},
   "outputs": [
    {
     "name": "stdout",
     "output_type": "stream",
     "text": [
      "2 1\n",
      "6\n"
     ]
    }
   ],
   "source": [
    "a = 5\n",
    "b = 2\n",
    "print(a//b, a%b)\n",
    "a += 1\n",
    "print(a)"
   ]
  },
  {
   "cell_type": "markdown",
   "id": "0ad6b391",
   "metadata": {},
   "source": [
    "### Comparison operators\n",
    " There are comparision operators greater than `>`, less than `<`, greater than or equal to `>=`, less than or equal to `<=`, equal to `==` and not equal to `!=`. Comparison operators always return a boolean value unless you try to compare an object that cannot be compared."
   ]
  },
  {
   "cell_type": "code",
   "execution_count": 65,
   "id": "2b3b713f",
   "metadata": {},
   "outputs": [
    {
     "name": "stdout",
     "output_type": "stream",
     "text": [
      "False, True, True\n"
     ]
    }
   ],
   "source": [
    "print(1>2, 2<3, 2!=3, sep=\", \")"
   ]
  },
  {
   "cell_type": "markdown",
   "id": "9d03c8a8",
   "metadata": {},
   "source": [
    "## Functions\n",
    "Functions are key to compartmentalizing you code. Functions can have any number of arguments and output a single value or a tuple of values. Functions are created using the syntax `def function_name(args...):`. Everything inside a function needs to be 4 whites spaces in. Most code editors allow you to use tab and insert the spaces for you. You can have positional, keyword, *args and **kwargs. Positional keywords mean you can just pass a value to a function without specifying which argument it is, the input will automatically be assigned to the arguments in order they occur in the function definition. Keywords can be supplied in any order but you must specify which argument they go to. Default (or optional) arguments are defined in the function definition (such b and c) where as a is necessary. *args are positional arguments not specified in the function definition but can be accessed in the fuction as a tuple. **kwargs are keyword arguments that are not specified in the function definition but can be accessed in the function as a dictionary. *args and **kwargs can be confusing, if anything I recommend sticking with **kwargs in the beginning. You will notice below that you can return all the items from a function into a single variable or explode the list into three variables. You can pass anything to a function in Python including other functions such as the built-in `list()`."
   ]
  },
  {
   "cell_type": "code",
   "execution_count": 86,
   "id": "0bd13c97",
   "metadata": {},
   "outputs": [
    {
     "name": "stdout",
     "output_type": "stream",
     "text": [
      "3, 3, None, (), {}\n",
      "3, 12, <class 'list'>, (), {'k': 11, 'mm': 5}\n",
      "Output 1: (3, 3, None)\n",
      "Output 2: 3 12 <class 'list'>\n"
     ]
    }
   ],
   "source": [
    "def synapse(a, b=3, c=None, *args, **kwargs):\n",
    "    print(a, b, c, args, kwargs, sep=\", \")\n",
    "    return a, b, c\n",
    "\n",
    "output = synapse(3)\n",
    "# The first three inputs are assigned to the function arguments everything else goes to *args\n",
    "a, b, c = synapse(3, 12, c=list, k=11, mm=5)\n",
    "print(\"Output 1:\", output)\n",
    "print(\"Output 2:\", a, b, c)"
   ]
  },
  {
   "cell_type": "markdown",
   "id": "746c93e1",
   "metadata": {},
   "source": [
    "## Scope\n",
    "Scope is very important in Python when using functions. You can access variables outside a Python function that are not declared inside a Python function. This can cause a lot of problems. Python functions first look for the variable inside the function, if not found then outside the function.\n",
    "You will also notice that the function below does not return anything. Functions do not need to return anything but generally do."
   ]
  },
  {
   "cell_type": "code",
   "execution_count": 83,
   "id": "4c19182a",
   "metadata": {},
   "outputs": [
    {
     "name": "stdout",
     "output_type": "stream",
     "text": [
      "10\n"
     ]
    }
   ],
   "source": [
    "b = 10\n",
    "def test():\n",
    "    print(b)\n",
    "test()"
   ]
  },
  {
   "cell_type": "markdown",
   "id": "9c925176",
   "metadata": {},
   "source": [
    "### Mutables, immutables, scope and pass by assignment\n",
    "Modifications to mutable containers inside functions turn up outside functions. Notice how a gets modified and the returned value from test is the same object as a. However, primitives, even if you use the inplace operators, do not get modified in place."
   ]
  },
  {
   "cell_type": "code",
   "execution_count": 96,
   "id": "ec3e9400",
   "metadata": {},
   "outputs": [
    {
     "name": "stdout",
     "output_type": "stream",
     "text": [
      "[0, 1, 2], 1763444478784\n",
      "Modifying lists:\n",
      "[0, 1, 2, 5], 1763444478784\n",
      "[0, 1, 2, 5], 1763444478784\n",
      "[0, 1, 2, 5], 1763444478784\n",
      "Modifying primitives:\n",
      "5, 140710219037240\n",
      "6, 140710219037272\n"
     ]
    }
   ],
   "source": [
    "a = [0,1,2]\n",
    "c = 5\n",
    "print(a, id(a), sep=\", \")\n",
    "def test(b, d):\n",
    "    a = b\n",
    "    b.append(5)\n",
    "    d += 1\n",
    "    return b, d, a\n",
    "j, g, x = test(a, c)\n",
    "\n",
    "print(\"Modifying lists:\")\n",
    "print(a, id(a), sep=\", \")\n",
    "print(j, id(j), sep=\", \")\n",
    "print(x, id(x), sep=\", \")\n",
    "print(\"Modifying primitives:\")\n",
    "print(c, id(c), sep=\", \")\n",
    "print(g, id(g), sep=\", \")"
   ]
  },
  {
   "cell_type": "markdown",
   "id": "d656452b",
   "metadata": {},
   "source": [
    "The reason the mutable containers get modified in place even if you assign it to a new variable is pass by assignment that Python uses. In Python all objects are created into a memory pool. There is a reference counter that keeps track of how many assignments each object has. A single object can have multiple assignments. This is cuts on down on memory usage and helps with garbage collection (removal items that done have any assigments) but means that assigning a mutable object to a new variable does not create an new copy of the mutable object."
   ]
  },
  {
   "cell_type": "markdown",
   "id": "f2e5a455",
   "metadata": {},
   "source": [
    "## Flow control\n",
    "Flow control includes if statements, for loops and while loops. There are other more complicated flow controls but we will not cover those here."
   ]
  },
  {
   "cell_type": "markdown",
   "id": "916adc47",
   "metadata": {},
   "source": [
    "### If statements\n",
    "If statements control whether code precedes by using a comparison operator or if an object is a specific type. The key is that the statement must resolve to a boolean value. Typically you start with a if statement then procede to a elif statement if need and finally end with an else statement. You can also just use an if statement."
   ]
  },
  {
   "cell_type": "code",
   "execution_count": 103,
   "id": "07c6f8ea",
   "metadata": {},
   "outputs": [
    {
     "name": "stdout",
     "output_type": "stream",
     "text": [
      "First statement\n",
      "Second statement\n",
      "3\n",
      "Third statement\n",
      "3\n",
      "Fourth statement\n",
      "None\n"
     ]
    }
   ],
   "source": [
    "a = None\n",
    "b = 3\n",
    "print(\"First statement\")\n",
    "if a:\n",
    "    print(a)\n",
    "print(\"Second statement\")\n",
    "if b: \n",
    "    print(b)\n",
    "print(\"Third statement\")\n",
    "if a:\n",
    "    print(a)\n",
    "elif isinstance(b, int):\n",
    "    print(b)\n",
    "\n",
    "print(\"Fourth statement\")\n",
    "if a:\n",
    "    print(a)\n",
    "else:\n",
    "    print(a)"
   ]
  },
  {
   "cell_type": "markdown",
   "id": "06de7d68",
   "metadata": {},
   "source": [
    "### For loops\n",
    "For loops allow you to loop through an iterable. Iterables include lists, tuples, sets, and dictionaries.\n",
    "you start with a for statement. One common function is to use the `range()` function to use a for loop."
   ]
  },
  {
   "cell_type": "code",
   "execution_count": 109,
   "id": "9d7fca4e",
   "metadata": {},
   "outputs": [
    {
     "name": "stdout",
     "output_type": "stream",
     "text": [
      "First loop\n",
      "0\n",
      "1\n",
      "2\n",
      "3\n",
      "Second loop\n",
      "1\n",
      "2\n",
      "3\n",
      "4\n",
      "Third loop\n",
      "a 1\n",
      "b 2\n",
      "c 3\n",
      "d 4\n"
     ]
    }
   ],
   "source": [
    "print(\"First loop\")\n",
    "for i in range(4):\n",
    "    print(i)\n",
    "print(\"Second loop\")\n",
    "j = [1,2,3,4]\n",
    "for i in j:\n",
    "    print(i)\n",
    "\n",
    "print(\"Third loop\")\n",
    "j = {\"a\":1,\"b\":2,\"c\":3,\"d\":4}\n",
    "for key, value in j.items():\n",
    "    print(key, value)"
   ]
  },
  {
   "cell_type": "markdown",
   "id": "a25674fb",
   "metadata": {},
   "source": [
    "### While loops\n",
    "While test for something on each iteration. They are useful is you don't know how many loops you need to run. These are common in optimization problems."
   ]
  },
  {
   "cell_type": "code",
   "execution_count": 113,
   "id": "e4efc885",
   "metadata": {},
   "outputs": [
    {
     "name": "stdout",
     "output_type": "stream",
     "text": [
      "1\n",
      "2\n",
      "3\n",
      "4\n",
      "5\n"
     ]
    }
   ],
   "source": [
    "i = 0\n",
    "while i < 5:\n",
    "    i += 1\n",
    "    print(i) "
   ]
  },
  {
   "cell_type": "markdown",
   "id": "ef26732e",
   "metadata": {},
   "source": [
    "That is it for the basic Python tutorial. For further reading and learning I have some recommendations\n",
    "Books (in order):\n",
    "- Python for data analysis: data wrangling with pandas, NumPy, and Jupyter (now free online) {cite}`mckinney_python_2022`\n",
    "- Fluent Python: clear, concise, and effective programming {cite}`ramalho_fluent_2022`\n",
    "- Python crash course: a hands-on, project-based introduction to programming {cite}`matthes_python_2016`\n",
    "\n",
    "Websites:\n",
    "- Coursera (free courses)\n",
    "- Edx (free courses)\n",
    "- realpython.com\n",
    "- geeksforgeeks.com\n",
    "- w3schools.com"
   ]
  }
 ],
 "metadata": {
  "kernelspec": {
   "display_name": "ephysbook",
   "language": "python",
   "name": "python3"
  },
  "language_info": {
   "codemirror_mode": {
    "name": "ipython",
    "version": 3
   },
   "file_extension": ".py",
   "mimetype": "text/x-python",
   "name": "python",
   "nbconvert_exporter": "python",
   "pygments_lexer": "ipython3",
   "version": "3.12.1"
  }
 },
 "nbformat": 4,
 "nbformat_minor": 5
}
