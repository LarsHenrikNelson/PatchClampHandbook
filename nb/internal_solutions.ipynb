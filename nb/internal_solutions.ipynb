{
 "cells": [
  {
   "cell_type": "code",
   "execution_count": 1,
   "metadata": {
    "tags": [
     "remove-cell"
    ]
   },
   "outputs": [],
   "source": [
    "import pandas as pd\n",
    "from pathlib import Path\n",
    "cwd = Path.cwd().parent/\"data/internal_solutions\""
   ]
  },
  {
   "cell_type": "markdown",
   "metadata": {},
   "source": [
    "# Internal solutions \n",
    "\n",
    "Internal solutions are particularly important for slice electrophysiology. They are designed to mimic the internal osmolarity and ionic balance of cells when paired with ACSF. The type of internal solution you use depends on the experiment you want to do. However, the most common internal solution for current clamp recordings is a K-based internal and a Cs-based internal is typically used for voltage clamp recordings. There are a couple of somewhat common items you can add to your internal that help in visualizing cells. Alexa-fluor hydrazides (25 uM is usually enough) can be added to visualize cells acutely while you are patching. If you want to post-fix the tissue and label the neurons then you would use something like 0.1 uM biocytin. These can be added the day of the recording by making a stock solution and adding about 1 uL to your internal solution.\n",
    "\n",
    "Some tips for making internal solutions:\n",
    "Use volumetric flasks if possible.\n",
    "- Always start with less water than you need, add the reagents and then top off the solution with water to the volume you need.\n",
    "- Always use high purity water, typically water made by a MilliQ machine or water that had ~18.2 MOhm of resistance (this is highly pure water).\n",
    "- <font color=\"magenta\">**Important**</font>: Always pH you solutions to 7.4 before adding ATP, after adding ATP and before adding GTP, and after adding GTP. This is because ATP and GTP are acidic (especially ATP) and will lower the pH of your solution. Use KOH or CsOH (depending on the main ingredient in your internal solution) to adjust the pH.\n",
    "- Store the internal in the -80 C freezer. Your internal should last a long time.\n",
    "- <font color=\"magenta\">**Important**</font>: Always double check whether you are using the magnesium or sodium salts of ATP and GTP. These are important for setting the ionic gradients in your cells."
   ]
  },
  {
   "cell_type": "markdown",
   "metadata": {},
   "source": [
    "## Osmolarity\n",
    "The osmolarity of internal solution can be anywhere from 285-315 mOsmo. The interanal solution omsolarity should be within 10 mOsmo of your external solution. If you find your cells shrinking that means you internal solution osmolarity is too low compared to your extrenal solution osmolarity. You can add a sucrose crystal to the internal to raise the osmolarity or adjust your extrenal solution. If your cells are bloating and they are not unhealthy then you can raise the osmolarity of your external solution by adding some glucose. You can add water to your internal but there is a greater chance of diluting the internal too much thus changing the ionic gradient or diluting the ATP/GTP/phosphocreatine too much. \n",
    "\n",
    "You should check the osmolarity of your solution at least once after making it. You can use a vapor pressure or freezing point depression osmometer. I have found the freezing point depression osmometers to be more accurate. <font color=\"magenta\">**Important**</font>: Make sure your sample is at room temperature before testing the osmolarity."
   ]
  },
  {
   "cell_type": "markdown",
   "metadata": {},
   "source": [
    "## Gluconate vs methanesulfonate \n",
    "\n",
    "Gluconate and methanesulfonate are biologically neutral anions that are carriers for K+ or Cs+. Gluconate (HOCH2(CHOH)4CO2H) is an organic anion. Gluconate chelates K+ and Ca2+ ions. Gluconate can be used as a substitute for Cl- to maintain osmotic balance without contributing to Cl- currents. Methanesulfonate (CH3SO3H) is a mesylate or organosulfuric compound and a strong acid. Unlike gluconate methanesulfonate is not known to chelate or bind to other metal ions in water. You may recipes with methanesulfuric acid (CH3SO4H), however I believe this is mostly likely a mistake passed down. I tried making internal with the methanesulfuric acid but the osmolarit always turns out way to low. Additionally cesium methansulfuric acid is very hard to get."
   ]
  },
  {
   "cell_type": "markdown",
   "metadata": {},
   "source": [
    "## Other chemicals\n",
    "- HEPES: Anion buffering agent that maintains pH despite changes in carbon dioxide and does not bind to metal ions.\n",
    "- EGTA: buffers Ca2+ prevents rundown/inactivation of Ca2+ currents, prevents Ca2+-dependent plasticity, prevents the membrane from reforming in whole-cell recordings.\n",
    "- Spermine: blocks Ca2+ channels.\n",
    "- QX-314: blocks voltage-gated Na+ channels.\n",
    "-TEA-Cl: blocks K+ channels.\n",
    "- ATP: provides energy to the cells.\n",
    "- GTP: provide energy to the cells.\n",
    "- Phosphocreatine: reserve of phosphate to recycle ATP."
   ]
  },
  {
   "cell_type": "markdown",
   "metadata": {},
   "source": [
    "## Potassium-based internal\n",
    "Potassium internals are used for recordings where you do not want to block an channels. This is very important for current clamp where you want to the neuron to spike as naturally as possible. Potassium-based internals are also used in voltage-clamp recordings where specific ionic currents are being recorded. For example potassium-based internal is often use to record Ih currents in voltage-clamp. By using a potassium interal you have more control over what channels you can block."
   ]
  },
  {
   "cell_type": "markdown",
   "metadata": {},
   "source": [
    "### Potassium gluconate"
   ]
  },
  {
   "cell_type": "code",
   "execution_count": 2,
   "metadata": {
    "tags": [
     "remove-input"
    ]
   },
   "outputs": [
    {
     "data": {
      "text/html": [
       "<style type=\"text/css\">\n",
       "</style>\n",
       "<table id=\"T_a2ab1\">\n",
       "  <thead>\n",
       "    <tr>\n",
       "      <th id=\"T_a2ab1_level0_col0\" class=\"col_heading level0 col0\" >Reagent</th>\n",
       "      <th id=\"T_a2ab1_level0_col1\" class=\"col_heading level0 col1\" >Molar Mass (g/mol)</th>\n",
       "      <th id=\"T_a2ab1_level0_col2\" class=\"col_heading level0 col2\" >Concentration (mM)</th>\n",
       "      <th id=\"T_a2ab1_level0_col3\" class=\"col_heading level0 col3\" >mg per 50 mL</th>\n",
       "    </tr>\n",
       "  </thead>\n",
       "  <tbody>\n",
       "    <tr>\n",
       "      <td id=\"T_a2ab1_row0_col0\" class=\"data row0 col0\" >K-gluconate</td>\n",
       "      <td id=\"T_a2ab1_row0_col1\" class=\"data row0 col1\" >234.25</td>\n",
       "      <td id=\"T_a2ab1_row0_col2\" class=\"data row0 col2\" >142.00</td>\n",
       "      <td id=\"T_a2ab1_row0_col3\" class=\"data row0 col3\" >1663.20</td>\n",
       "    </tr>\n",
       "    <tr>\n",
       "      <td id=\"T_a2ab1_row1_col0\" class=\"data row1 col0\" >KCl</td>\n",
       "      <td id=\"T_a2ab1_row1_col1\" class=\"data row1 col1\" >74.55</td>\n",
       "      <td id=\"T_a2ab1_row1_col2\" class=\"data row1 col2\" >4.00</td>\n",
       "      <td id=\"T_a2ab1_row1_col3\" class=\"data row1 col3\" >14.91</td>\n",
       "    </tr>\n",
       "    <tr>\n",
       "      <td id=\"T_a2ab1_row2_col0\" class=\"data row2 col0\" >EGTA</td>\n",
       "      <td id=\"T_a2ab1_row2_col1\" class=\"data row2 col1\" >380.36</td>\n",
       "      <td id=\"T_a2ab1_row2_col2\" class=\"data row2 col2\" >0.50</td>\n",
       "      <td id=\"T_a2ab1_row2_col3\" class=\"data row2 col3\" >9.51</td>\n",
       "    </tr>\n",
       "    <tr>\n",
       "      <td id=\"T_a2ab1_row3_col0\" class=\"data row3 col0\" >HEPES</td>\n",
       "      <td id=\"T_a2ab1_row3_col1\" class=\"data row3 col1\" >238.30</td>\n",
       "      <td id=\"T_a2ab1_row3_col2\" class=\"data row3 col2\" >10.00</td>\n",
       "      <td id=\"T_a2ab1_row3_col3\" class=\"data row3 col3\" >119.15</td>\n",
       "    </tr>\n",
       "    <tr>\n",
       "      <td id=\"T_a2ab1_row4_col0\" class=\"data row4 col0\" >MgCl2 6*H20</td>\n",
       "      <td id=\"T_a2ab1_row4_col1\" class=\"data row4 col1\" >203.30</td>\n",
       "      <td id=\"T_a2ab1_row4_col2\" class=\"data row4 col2\" >2.00</td>\n",
       "      <td id=\"T_a2ab1_row4_col3\" class=\"data row4 col3\" >20.33</td>\n",
       "    </tr>\n",
       "    <tr>\n",
       "      <td id=\"T_a2ab1_row5_col0\" class=\"data row5 col0\" >Na-Phosphocreatine</td>\n",
       "      <td id=\"T_a2ab1_row5_col1\" class=\"data row5 col1\" >255.08</td>\n",
       "      <td id=\"T_a2ab1_row5_col2\" class=\"data row5 col2\" >10.00</td>\n",
       "      <td id=\"T_a2ab1_row5_col3\" class=\"data row5 col3\" >127.54</td>\n",
       "    </tr>\n",
       "    <tr>\n",
       "      <td id=\"T_a2ab1_row6_col0\" class=\"data row6 col0\" >Na2-ATP</td>\n",
       "      <td id=\"T_a2ab1_row6_col1\" class=\"data row6 col1\" >551.40</td>\n",
       "      <td id=\"T_a2ab1_row6_col2\" class=\"data row6 col2\" >2.00</td>\n",
       "      <td id=\"T_a2ab1_row6_col3\" class=\"data row6 col3\" >55.14</td>\n",
       "    </tr>\n",
       "    <tr>\n",
       "      <td id=\"T_a2ab1_row7_col0\" class=\"data row7 col0\" >Na-GTP</td>\n",
       "      <td id=\"T_a2ab1_row7_col1\" class=\"data row7 col1\" >523.18</td>\n",
       "      <td id=\"T_a2ab1_row7_col2\" class=\"data row7 col2\" >0.30</td>\n",
       "      <td id=\"T_a2ab1_row7_col3\" class=\"data row7 col3\" >7.85</td>\n",
       "    </tr>\n",
       "  </tbody>\n",
       "</table>\n"
      ],
      "text/plain": [
       "<pandas.io.formats.style.Styler at 0x72ea89dad430>"
      ]
     },
     "execution_count": 2,
     "metadata": {},
     "output_type": "execute_result"
    }
   ],
   "source": [
    "df = pd.read_csv(cwd/\"potassium_gluconate.csv\")\n",
    "styled_df = df.style.format(precision=2)\n",
    "styled_df.hide()"
   ]
  },
  {
   "cell_type": "markdown",
   "metadata": {},
   "source": [
    "### Potassium methanesulfonate"
   ]
  },
  {
   "cell_type": "code",
   "execution_count": 3,
   "metadata": {
    "tags": [
     "remove-input"
    ]
   },
   "outputs": [
    {
     "data": {
      "text/html": [
       "<style type=\"text/css\">\n",
       "</style>\n",
       "<table id=\"T_f1f99\">\n",
       "  <thead>\n",
       "    <tr>\n",
       "      <th id=\"T_f1f99_level0_col0\" class=\"col_heading level0 col0\" >Reagent</th>\n",
       "      <th id=\"T_f1f99_level0_col1\" class=\"col_heading level0 col1\" >Molar Mass (g/mol)</th>\n",
       "      <th id=\"T_f1f99_level0_col2\" class=\"col_heading level0 col2\" >Concentration (mM)</th>\n",
       "      <th id=\"T_f1f99_level0_col3\" class=\"col_heading level0 col3\" >mg per 50 mL</th>\n",
       "    </tr>\n",
       "  </thead>\n",
       "  <tbody>\n",
       "    <tr>\n",
       "      <td id=\"T_f1f99_row0_col0\" class=\"data row0 col0\" >KMeSO3</td>\n",
       "      <td id=\"T_f1f99_row0_col1\" class=\"data row0 col1\" >134.20</td>\n",
       "      <td id=\"T_f1f99_row0_col2\" class=\"data row0 col2\" >130.00</td>\n",
       "      <td id=\"T_f1f99_row0_col3\" class=\"data row0 col3\" >872.30</td>\n",
       "    </tr>\n",
       "    <tr>\n",
       "      <td id=\"T_f1f99_row1_col0\" class=\"data row1 col0\" >HEPES</td>\n",
       "      <td id=\"T_f1f99_row1_col1\" class=\"data row1 col1\" >238.30</td>\n",
       "      <td id=\"T_f1f99_row1_col2\" class=\"data row1 col2\" >10.00</td>\n",
       "      <td id=\"T_f1f99_row1_col3\" class=\"data row1 col3\" >119.15</td>\n",
       "    </tr>\n",
       "    <tr>\n",
       "      <td id=\"T_f1f99_row2_col0\" class=\"data row2 col0\" >Na-Phosphocreatine</td>\n",
       "      <td id=\"T_f1f99_row2_col1\" class=\"data row2 col1\" >255.08</td>\n",
       "      <td id=\"T_f1f99_row2_col2\" class=\"data row2 col2\" >8.00</td>\n",
       "      <td id=\"T_f1f99_row2_col3\" class=\"data row2 col3\" >102.03</td>\n",
       "    </tr>\n",
       "    <tr>\n",
       "      <td id=\"T_f1f99_row3_col0\" class=\"data row3 col0\" >KCl</td>\n",
       "      <td id=\"T_f1f99_row3_col1\" class=\"data row3 col1\" >74.55</td>\n",
       "      <td id=\"T_f1f99_row3_col2\" class=\"data row3 col2\" >3.00</td>\n",
       "      <td id=\"T_f1f99_row3_col3\" class=\"data row3 col3\" >11.18</td>\n",
       "    </tr>\n",
       "    <tr>\n",
       "      <td id=\"T_f1f99_row4_col0\" class=\"data row4 col0\" >EGTA</td>\n",
       "      <td id=\"T_f1f99_row4_col1\" class=\"data row4 col1\" >380.35</td>\n",
       "      <td id=\"T_f1f99_row4_col2\" class=\"data row4 col2\" >1.00</td>\n",
       "      <td id=\"T_f1f99_row4_col3\" class=\"data row4 col3\" >19.02</td>\n",
       "    </tr>\n",
       "    <tr>\n",
       "      <td id=\"T_f1f99_row5_col0\" class=\"data row5 col0\" >Mg-ATP</td>\n",
       "      <td id=\"T_f1f99_row5_col1\" class=\"data row5 col1\" >507.18</td>\n",
       "      <td id=\"T_f1f99_row5_col2\" class=\"data row5 col2\" >4.00</td>\n",
       "      <td id=\"T_f1f99_row5_col3\" class=\"data row5 col3\" >101.44</td>\n",
       "    </tr>\n",
       "    <tr>\n",
       "      <td id=\"T_f1f99_row6_col0\" class=\"data row6 col0\" >Na-GTP</td>\n",
       "      <td id=\"T_f1f99_row6_col1\" class=\"data row6 col1\" >523.18</td>\n",
       "      <td id=\"T_f1f99_row6_col2\" class=\"data row6 col2\" >0.30</td>\n",
       "      <td id=\"T_f1f99_row6_col3\" class=\"data row6 col3\" >7.85</td>\n",
       "    </tr>\n",
       "  </tbody>\n",
       "</table>\n"
      ],
      "text/plain": [
       "<pandas.io.formats.style.Styler at 0x72ea88135670>"
      ]
     },
     "execution_count": 3,
     "metadata": {},
     "output_type": "execute_result"
    }
   ],
   "source": [
    "df = pd.read_csv(cwd/\"potassium_methanesulfonate.csv\")\n",
    "styled_df = df.style.format(precision=2)\n",
    "styled_df.hide()"
   ]
  },
  {
   "cell_type": "markdown",
   "metadata": {},
   "source": [
    "## Cesium internal\n",
    "Cesium internal solutions are used for voltage-clamp recordings. Cesium blocks many inwardly-rectifying potassium channels as well as all 4 HCN channels. By blocking potassium and HCN channels, cesium internal makes it easier to voltage-clamp a cell by increasing the resistance of the cell, thus reducing the current needed to hold the cell at any voltage (remember $\\Delta V=IR$). By increasing the resistance you also reduce space-clamp issues since it becomes easier to clamp to the cell. Space-clamp occurs when the effectiveness of voltage-clamp deceases the farther you get from the point of access to the cell. This means that dendrites may not be effectively clamp. If dendrites are not effectively clamped then you may have trouble recording mEPSCs from more distal dendrites thus biasing your data. Cesium internal needs about 2-4 min to perfuse throughout the cell for it to be effective.\n",
    "\n",
    "I have found cesium internals to come in several varieties. There is a high chloride version that allows you to record GABAA currents at -70 mV as long as you block AMPA and NMDA currents.\n",
    "\n",
    "Recipe notes:\n",
    "- QX-314 (bromide) is used to block voltage-gated sodium channels. Be sure to use the bromide version so you do not change the chloride ionic gradient."
   ]
  },
  {
   "cell_type": "markdown",
   "metadata": {},
   "source": [
    "### Standard Cesium methanesulfonate\n",
    "A standard cesium interal used to measure AMPAR currents at -70 mV. You can record NMDAR currents at +40 mV as long as GABAA and AMPA receptors are blocked. One caveat to measuring NMDAR currents is that you can actually measure evoked NMDAR without blocking AMPAR currents however you the peak amplitude must be measured later than the actual peak because there are still AMPAR currents but they decay quickly. IPSCs can be recorded at 0 mV as long as NMDA and AMPA receptors are blocked."
   ]
  },
  {
   "cell_type": "code",
   "execution_count": 4,
   "metadata": {
    "tags": [
     "remove-input"
    ]
   },
   "outputs": [
    {
     "data": {
      "text/html": [
       "<style type=\"text/css\">\n",
       "</style>\n",
       "<table id=\"T_59cdb\">\n",
       "  <thead>\n",
       "    <tr>\n",
       "      <th id=\"T_59cdb_level0_col0\" class=\"col_heading level0 col0\" >Reagent</th>\n",
       "      <th id=\"T_59cdb_level0_col1\" class=\"col_heading level0 col1\" >Molar Mass (g/mol)</th>\n",
       "      <th id=\"T_59cdb_level0_col2\" class=\"col_heading level0 col2\" >Concentration (mM)</th>\n",
       "      <th id=\"T_59cdb_level0_col3\" class=\"col_heading level0 col3\" >mg per 50 mL</th>\n",
       "    </tr>\n",
       "  </thead>\n",
       "  <tbody>\n",
       "    <tr>\n",
       "      <td id=\"T_59cdb_row0_col0\" class=\"data row0 col0\" >CsMeSO3</td>\n",
       "      <td id=\"T_59cdb_row0_col1\" class=\"data row0 col1\" >228.00</td>\n",
       "      <td id=\"T_59cdb_row0_col2\" class=\"data row0 col2\" >130.00</td>\n",
       "      <td id=\"T_59cdb_row0_col3\" class=\"data row0 col3\" >1482.00</td>\n",
       "    </tr>\n",
       "    <tr>\n",
       "      <td id=\"T_59cdb_row1_col0\" class=\"data row1 col0\" >HEPES</td>\n",
       "      <td id=\"T_59cdb_row1_col1\" class=\"data row1 col1\" >238.30</td>\n",
       "      <td id=\"T_59cdb_row1_col2\" class=\"data row1 col2\" >10.00</td>\n",
       "      <td id=\"T_59cdb_row1_col3\" class=\"data row1 col3\" >119.15</td>\n",
       "    </tr>\n",
       "    <tr>\n",
       "      <td id=\"T_59cdb_row2_col0\" class=\"data row2 col0\" >MgCl2 (6*H2O)</td>\n",
       "      <td id=\"T_59cdb_row2_col1\" class=\"data row2 col1\" >203.30</td>\n",
       "      <td id=\"T_59cdb_row2_col2\" class=\"data row2 col2\" >1.80</td>\n",
       "      <td id=\"T_59cdb_row2_col3\" class=\"data row2 col3\" >18.30</td>\n",
       "    </tr>\n",
       "    <tr>\n",
       "      <td id=\"T_59cdb_row3_col0\" class=\"data row3 col0\" >Na-Phosphocreatine</td>\n",
       "      <td id=\"T_59cdb_row3_col1\" class=\"data row3 col1\" >255.08</td>\n",
       "      <td id=\"T_59cdb_row3_col2\" class=\"data row3 col2\" >8.00</td>\n",
       "      <td id=\"T_59cdb_row3_col3\" class=\"data row3 col3\" >102.03</td>\n",
       "    </tr>\n",
       "    <tr>\n",
       "      <td id=\"T_59cdb_row4_col0\" class=\"data row4 col0\" >CsCl</td>\n",
       "      <td id=\"T_59cdb_row4_col1\" class=\"data row4 col1\" >168.36</td>\n",
       "      <td id=\"T_59cdb_row4_col2\" class=\"data row4 col2\" >10.00</td>\n",
       "      <td id=\"T_59cdb_row4_col3\" class=\"data row4 col3\" >84.18</td>\n",
       "    </tr>\n",
       "    <tr>\n",
       "      <td id=\"T_59cdb_row5_col0\" class=\"data row5 col0\" >QX-314</td>\n",
       "      <td id=\"T_59cdb_row5_col1\" class=\"data row5 col1\" >343.31</td>\n",
       "      <td id=\"T_59cdb_row5_col2\" class=\"data row5 col2\" >3.30</td>\n",
       "      <td id=\"T_59cdb_row5_col3\" class=\"data row5 col3\" >56.65</td>\n",
       "    </tr>\n",
       "    <tr>\n",
       "      <td id=\"T_59cdb_row6_col0\" class=\"data row6 col0\" >Na2-ATP</td>\n",
       "      <td id=\"T_59cdb_row6_col1\" class=\"data row6 col1\" >551.40</td>\n",
       "      <td id=\"T_59cdb_row6_col2\" class=\"data row6 col2\" >4.00</td>\n",
       "      <td id=\"T_59cdb_row6_col3\" class=\"data row6 col3\" >110.28</td>\n",
       "    </tr>\n",
       "    <tr>\n",
       "      <td id=\"T_59cdb_row7_col0\" class=\"data row7 col0\" >Na-GTP</td>\n",
       "      <td id=\"T_59cdb_row7_col1\" class=\"data row7 col1\" >523.18</td>\n",
       "      <td id=\"T_59cdb_row7_col2\" class=\"data row7 col2\" >0.30</td>\n",
       "      <td id=\"T_59cdb_row7_col3\" class=\"data row7 col3\" >7.85</td>\n",
       "    </tr>\n",
       "  </tbody>\n",
       "</table>\n"
      ],
      "text/plain": [
       "<pandas.io.formats.style.Styler at 0x72ea9e073080>"
      ]
     },
     "execution_count": 4,
     "metadata": {},
     "output_type": "execute_result"
    }
   ],
   "source": [
    "df = pd.read_csv(cwd/\"standard_cesium_methanesulfonate.csv\")\n",
    "styled_df = df.style.format(precision=2)\n",
    "styled_df.hide()"
   ]
  },
  {
   "cell_type": "markdown",
   "metadata": {},
   "source": [
    "### Low chloride cesium methanesulfonate\n",
    "This low chloride version of the cesium internal that allows you to measure AMPAR currents at -70 mV and GABAA currents at +0 mV as long as you block NMDA currents. The reversal potential of AMPA receptors is at 0 mV and the reversal potential of GABAA receptors is at -70 mV."
   ]
  },
  {
   "cell_type": "code",
   "execution_count": 5,
   "metadata": {
    "tags": [
     "remove-input"
    ]
   },
   "outputs": [
    {
     "data": {
      "text/html": [
       "<style type=\"text/css\">\n",
       "</style>\n",
       "<table id=\"T_ced06\">\n",
       "  <thead>\n",
       "    <tr>\n",
       "      <th id=\"T_ced06_level0_col0\" class=\"col_heading level0 col0\" >Reagent</th>\n",
       "      <th id=\"T_ced06_level0_col1\" class=\"col_heading level0 col1\" >Molar Mass (g/mol)</th>\n",
       "      <th id=\"T_ced06_level0_col2\" class=\"col_heading level0 col2\" >Concentration (mM)</th>\n",
       "      <th id=\"T_ced06_level0_col3\" class=\"col_heading level0 col3\" >mg per 50 mL</th>\n",
       "    </tr>\n",
       "  </thead>\n",
       "  <tbody>\n",
       "    <tr>\n",
       "      <td id=\"T_ced06_row0_col0\" class=\"data row0 col0\" >CsMeSO3</td>\n",
       "      <td id=\"T_ced06_row0_col1\" class=\"data row0 col1\" >228.00</td>\n",
       "      <td id=\"T_ced06_row0_col2\" class=\"data row0 col2\" >135.00</td>\n",
       "      <td id=\"T_ced06_row0_col3\" class=\"data row0 col3\" >1539.00</td>\n",
       "    </tr>\n",
       "    <tr>\n",
       "      <td id=\"T_ced06_row1_col0\" class=\"data row1 col0\" >HEPES</td>\n",
       "      <td id=\"T_ced06_row1_col1\" class=\"data row1 col1\" >238.30</td>\n",
       "      <td id=\"T_ced06_row1_col2\" class=\"data row1 col2\" >10.00</td>\n",
       "      <td id=\"T_ced06_row1_col3\" class=\"data row1 col3\" >119.15</td>\n",
       "    </tr>\n",
       "    <tr>\n",
       "      <td id=\"T_ced06_row2_col0\" class=\"data row2 col0\" >EGTA</td>\n",
       "      <td id=\"T_ced06_row2_col1\" class=\"data row2 col1\" >380.35</td>\n",
       "      <td id=\"T_ced06_row2_col2\" class=\"data row2 col2\" >1.00</td>\n",
       "      <td id=\"T_ced06_row2_col3\" class=\"data row2 col3\" >19.02</td>\n",
       "    </tr>\n",
       "    <tr>\n",
       "      <td id=\"T_ced06_row3_col0\" class=\"data row3 col0\" >Na2-Phosphocreatine</td>\n",
       "      <td id=\"T_ced06_row3_col1\" class=\"data row3 col1\" >255.08</td>\n",
       "      <td id=\"T_ced06_row3_col2\" class=\"data row3 col2\" >8.00</td>\n",
       "      <td id=\"T_ced06_row3_col3\" class=\"data row3 col3\" >102.03</td>\n",
       "    </tr>\n",
       "    <tr>\n",
       "      <td id=\"T_ced06_row4_col0\" class=\"data row4 col0\" >QX-314</td>\n",
       "      <td id=\"T_ced06_row4_col1\" class=\"data row4 col1\" >343.31</td>\n",
       "      <td id=\"T_ced06_row4_col2\" class=\"data row4 col2\" >3.30</td>\n",
       "      <td id=\"T_ced06_row4_col3\" class=\"data row4 col3\" >56.65</td>\n",
       "    </tr>\n",
       "    <tr>\n",
       "      <td id=\"T_ced06_row5_col0\" class=\"data row5 col0\" >Mg-ATP</td>\n",
       "      <td id=\"T_ced06_row5_col1\" class=\"data row5 col1\" >507.18</td>\n",
       "      <td id=\"T_ced06_row5_col2\" class=\"data row5 col2\" >4.00</td>\n",
       "      <td id=\"T_ced06_row5_col3\" class=\"data row5 col3\" >101.44</td>\n",
       "    </tr>\n",
       "    <tr>\n",
       "      <td id=\"T_ced06_row6_col0\" class=\"data row6 col0\" >Na-GTP</td>\n",
       "      <td id=\"T_ced06_row6_col1\" class=\"data row6 col1\" >523.18</td>\n",
       "      <td id=\"T_ced06_row6_col2\" class=\"data row6 col2\" >0.30</td>\n",
       "      <td id=\"T_ced06_row6_col3\" class=\"data row6 col3\" >7.85</td>\n",
       "    </tr>\n",
       "  </tbody>\n",
       "</table>\n"
      ],
      "text/plain": [
       "<pandas.io.formats.style.Styler at 0x72ea896ed100>"
      ]
     },
     "execution_count": 5,
     "metadata": {},
     "output_type": "execute_result"
    }
   ],
   "source": [
    "df = pd.read_csv(cwd/\"low_chloride_cesium.csv\")\n",
    "styled_df = df.style.format(precision=2)\n",
    "styled_df.hide()"
   ]
  },
  {
   "cell_type": "markdown",
   "metadata": {},
   "source": [
    "### Cesium methanesulfonate with Ca2+ channel block\n",
    "This internal is very similar to the standard cesium methansulfonate internal except that is has spermine added to block Ca2+ channels."
   ]
  },
  {
   "cell_type": "code",
   "execution_count": 6,
   "metadata": {
    "tags": [
     "remove-input"
    ]
   },
   "outputs": [
    {
     "data": {
      "text/html": [
       "<style type=\"text/css\">\n",
       "</style>\n",
       "<table id=\"T_411bb\">\n",
       "  <thead>\n",
       "    <tr>\n",
       "      <th id=\"T_411bb_level0_col0\" class=\"col_heading level0 col0\" >Reagent</th>\n",
       "      <th id=\"T_411bb_level0_col1\" class=\"col_heading level0 col1\" >Molar Mass (g/mol)</th>\n",
       "      <th id=\"T_411bb_level0_col2\" class=\"col_heading level0 col2\" >Concentration (mM)</th>\n",
       "      <th id=\"T_411bb_level0_col3\" class=\"col_heading level0 col3\" >mg per 50 mL</th>\n",
       "    </tr>\n",
       "  </thead>\n",
       "  <tbody>\n",
       "    <tr>\n",
       "      <td id=\"T_411bb_row0_col0\" class=\"data row0 col0\" >CsMeSO3</td>\n",
       "      <td id=\"T_411bb_row0_col1\" class=\"data row0 col1\" >228.00</td>\n",
       "      <td id=\"T_411bb_row0_col2\" class=\"data row0 col2\" >115.00</td>\n",
       "      <td id=\"T_411bb_row0_col3\" class=\"data row0 col3\" >1311.00</td>\n",
       "    </tr>\n",
       "    <tr>\n",
       "      <td id=\"T_411bb_row1_col0\" class=\"data row1 col0\" >EGTA</td>\n",
       "      <td id=\"T_411bb_row1_col1\" class=\"data row1 col1\" >380.35</td>\n",
       "      <td id=\"T_411bb_row1_col2\" class=\"data row1 col2\" >0.40</td>\n",
       "      <td id=\"T_411bb_row1_col3\" class=\"data row1 col3\" >7.61</td>\n",
       "    </tr>\n",
       "    <tr>\n",
       "      <td id=\"T_411bb_row2_col0\" class=\"data row2 col0\" >TEA-Cl</td>\n",
       "      <td id=\"T_411bb_row2_col1\" class=\"data row2 col1\" >165.71</td>\n",
       "      <td id=\"T_411bb_row2_col2\" class=\"data row2 col2\" >5.00</td>\n",
       "      <td id=\"T_411bb_row2_col3\" class=\"data row2 col3\" >41.43</td>\n",
       "    </tr>\n",
       "    <tr>\n",
       "      <td id=\"T_411bb_row3_col0\" class=\"data row3 col0\" >QX-314</td>\n",
       "      <td id=\"T_411bb_row3_col1\" class=\"data row3 col1\" >343.31</td>\n",
       "      <td id=\"T_411bb_row3_col2\" class=\"data row3 col2\" >1.00</td>\n",
       "      <td id=\"T_411bb_row3_col3\" class=\"data row3 col3\" >17.17</td>\n",
       "    </tr>\n",
       "    <tr>\n",
       "      <td id=\"T_411bb_row4_col0\" class=\"data row4 col0\" >NaCl</td>\n",
       "      <td id=\"T_411bb_row4_col1\" class=\"data row4 col1\" >58.44</td>\n",
       "      <td id=\"T_411bb_row4_col2\" class=\"data row4 col2\" >2.80</td>\n",
       "      <td id=\"T_411bb_row4_col3\" class=\"data row4 col3\" >8.18</td>\n",
       "    </tr>\n",
       "    <tr>\n",
       "      <td id=\"T_411bb_row5_col0\" class=\"data row5 col0\" >HEPES</td>\n",
       "      <td id=\"T_411bb_row5_col1\" class=\"data row5 col1\" >238.30</td>\n",
       "      <td id=\"T_411bb_row5_col2\" class=\"data row5 col2\" >20.00</td>\n",
       "      <td id=\"T_411bb_row5_col3\" class=\"data row5 col3\" >238.30</td>\n",
       "    </tr>\n",
       "    <tr>\n",
       "      <td id=\"T_411bb_row6_col0\" class=\"data row6 col0\" >Mg-ATP</td>\n",
       "      <td id=\"T_411bb_row6_col1\" class=\"data row6 col1\" >507.18</td>\n",
       "      <td id=\"T_411bb_row6_col2\" class=\"data row6 col2\" >3.00</td>\n",
       "      <td id=\"T_411bb_row6_col3\" class=\"data row6 col3\" >76.08</td>\n",
       "    </tr>\n",
       "    <tr>\n",
       "      <td id=\"T_411bb_row7_col0\" class=\"data row7 col0\" >Na-GTP</td>\n",
       "      <td id=\"T_411bb_row7_col1\" class=\"data row7 col1\" >528.18</td>\n",
       "      <td id=\"T_411bb_row7_col2\" class=\"data row7 col2\" >0.50</td>\n",
       "      <td id=\"T_411bb_row7_col3\" class=\"data row7 col3\" >13.20</td>\n",
       "    </tr>\n",
       "    <tr>\n",
       "      <td id=\"T_411bb_row8_col0\" class=\"data row8 col0\" >Na2-phosphocreatine</td>\n",
       "      <td id=\"T_411bb_row8_col1\" class=\"data row8 col1\" >255.08</td>\n",
       "      <td id=\"T_411bb_row8_col2\" class=\"data row8 col2\" >10.00</td>\n",
       "      <td id=\"T_411bb_row8_col3\" class=\"data row8 col3\" >127.54</td>\n",
       "    </tr>\n",
       "    <tr>\n",
       "      <td id=\"T_411bb_row9_col0\" class=\"data row9 col0\" >spermine</td>\n",
       "      <td id=\"T_411bb_row9_col1\" class=\"data row9 col1\" >202.34</td>\n",
       "      <td id=\"T_411bb_row9_col2\" class=\"data row9 col2\" >0.10</td>\n",
       "      <td id=\"T_411bb_row9_col3\" class=\"data row9 col3\" >1.01</td>\n",
       "    </tr>\n",
       "  </tbody>\n",
       "</table>\n"
      ],
      "text/plain": [
       "<pandas.io.formats.style.Styler at 0x72ea7d587c50>"
      ]
     },
     "execution_count": 6,
     "metadata": {},
     "output_type": "execute_result"
    }
   ],
   "source": [
    "df = pd.read_csv(cwd/\"ca_permeable_ampa.csv\")\n",
    "styled_df = df.style.format(precision=2)\n",
    "styled_df.hide() "
   ]
  },
  {
   "cell_type": "markdown",
   "metadata": {},
   "source": [
    "### High chloride cesium methanesulfonate\n"
   ]
  },
  {
   "cell_type": "code",
   "execution_count": 7,
   "metadata": {},
   "outputs": [
    {
     "data": {
      "text/html": [
       "<style type=\"text/css\">\n",
       "</style>\n",
       "<table id=\"T_dc640\">\n",
       "  <thead>\n",
       "    <tr>\n",
       "      <th id=\"T_dc640_level0_col0\" class=\"col_heading level0 col0\" >Reagent</th>\n",
       "      <th id=\"T_dc640_level0_col1\" class=\"col_heading level0 col1\" >Molar Mass (g/mol)</th>\n",
       "      <th id=\"T_dc640_level0_col2\" class=\"col_heading level0 col2\" >Concentration (mM)</th>\n",
       "      <th id=\"T_dc640_level0_col3\" class=\"col_heading level0 col3\" >mg per 50 mL</th>\n",
       "    </tr>\n",
       "  </thead>\n",
       "  <tbody>\n",
       "    <tr>\n",
       "      <td id=\"T_dc640_row0_col0\" class=\"data row0 col0\" >CsMeSO3</td>\n",
       "      <td id=\"T_dc640_row0_col1\" class=\"data row0 col1\" >228.00</td>\n",
       "      <td id=\"T_dc640_row0_col2\" class=\"data row0 col2\" >135.00</td>\n",
       "      <td id=\"T_dc640_row0_col3\" class=\"data row0 col3\" >1539.00</td>\n",
       "    </tr>\n",
       "    <tr>\n",
       "      <td id=\"T_dc640_row1_col0\" class=\"data row1 col0\" >HEPES</td>\n",
       "      <td id=\"T_dc640_row1_col1\" class=\"data row1 col1\" >238.30</td>\n",
       "      <td id=\"T_dc640_row1_col2\" class=\"data row1 col2\" >10.00</td>\n",
       "      <td id=\"T_dc640_row1_col3\" class=\"data row1 col3\" >119.15</td>\n",
       "    </tr>\n",
       "    <tr>\n",
       "      <td id=\"T_dc640_row2_col0\" class=\"data row2 col0\" >EGTA</td>\n",
       "      <td id=\"T_dc640_row2_col1\" class=\"data row2 col1\" >380.35</td>\n",
       "      <td id=\"T_dc640_row2_col2\" class=\"data row2 col2\" >1.00</td>\n",
       "      <td id=\"T_dc640_row2_col3\" class=\"data row2 col3\" >19.02</td>\n",
       "    </tr>\n",
       "    <tr>\n",
       "      <td id=\"T_dc640_row3_col0\" class=\"data row3 col0\" >Na2-Phosphocreatine</td>\n",
       "      <td id=\"T_dc640_row3_col1\" class=\"data row3 col1\" >255.08</td>\n",
       "      <td id=\"T_dc640_row3_col2\" class=\"data row3 col2\" >8.00</td>\n",
       "      <td id=\"T_dc640_row3_col3\" class=\"data row3 col3\" >102.03</td>\n",
       "    </tr>\n",
       "    <tr>\n",
       "      <td id=\"T_dc640_row4_col0\" class=\"data row4 col0\" >QX-314</td>\n",
       "      <td id=\"T_dc640_row4_col1\" class=\"data row4 col1\" >343.31</td>\n",
       "      <td id=\"T_dc640_row4_col2\" class=\"data row4 col2\" >3.30</td>\n",
       "      <td id=\"T_dc640_row4_col3\" class=\"data row4 col3\" >56.65</td>\n",
       "    </tr>\n",
       "    <tr>\n",
       "      <td id=\"T_dc640_row5_col0\" class=\"data row5 col0\" >Mg-ATP</td>\n",
       "      <td id=\"T_dc640_row5_col1\" class=\"data row5 col1\" >507.18</td>\n",
       "      <td id=\"T_dc640_row5_col2\" class=\"data row5 col2\" >4.00</td>\n",
       "      <td id=\"T_dc640_row5_col3\" class=\"data row5 col3\" >101.44</td>\n",
       "    </tr>\n",
       "    <tr>\n",
       "      <td id=\"T_dc640_row6_col0\" class=\"data row6 col0\" >Na-GTP</td>\n",
       "      <td id=\"T_dc640_row6_col1\" class=\"data row6 col1\" >523.18</td>\n",
       "      <td id=\"T_dc640_row6_col2\" class=\"data row6 col2\" >0.30</td>\n",
       "      <td id=\"T_dc640_row6_col3\" class=\"data row6 col3\" >7.85</td>\n",
       "    </tr>\n",
       "  </tbody>\n",
       "</table>\n"
      ],
      "text/plain": [
       "<pandas.io.formats.style.Styler at 0x72ea7d587dd0>"
      ]
     },
     "execution_count": 7,
     "metadata": {},
     "output_type": "execute_result"
    }
   ],
   "source": [
    "df = pd.read_csv(cwd/\"low_chloride_cesium.csv\")\n",
    "styled_df = df.style.format(precision=2)\n",
    "styled_df.hide()"
   ]
  }
 ],
 "metadata": {
  "kernelspec": {
   "display_name": "ephysbook",
   "language": "python",
   "name": "python3"
  },
  "language_info": {
   "codemirror_mode": {
    "name": "ipython",
    "version": 3
   },
   "file_extension": ".py",
   "mimetype": "text/x-python",
   "name": "python",
   "nbconvert_exporter": "python",
   "pygments_lexer": "ipython3",
   "version": "3.12.9"
  }
 },
 "nbformat": 4,
 "nbformat_minor": 2
}
