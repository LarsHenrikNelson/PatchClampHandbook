{
 "cells": [
  {
   "cell_type": "markdown",
   "id": "2d186d22",
   "metadata": {},
   "source": [
    "# Filtering"
   ]
  }
 ],
 "metadata": {
  "kernelspec": {
   "display_name": "ephysbook",
   "language": "python",
   "name": "python3"
  },
  "language_info": {
   "name": "python",
   "version": "3.12.7"
  }
 },
 "nbformat": 4,
 "nbformat_minor": 5
}
