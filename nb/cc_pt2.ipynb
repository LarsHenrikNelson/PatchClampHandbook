{
 "cells": [
  {
   "cell_type": "markdown",
   "id": "d81c3120",
   "metadata": {},
   "source": [
    "(cc_pt2)=\n",
    "# Current clamp: Part 2\n",
    "In part 2 if the current clamp section we will extend the anaysis of spike features such as how spike shape changes with spike number. We will cover how rheobase, membrane resistance and spike width are related. We also cover differences between cells types. A note about the data we will be using. The PV cells come from layer 5 of the ACC from ~P16 mice, the pyramidal cells come from layer 5 of the ACC from ~P16 mice and the MSNs come from the DMS of adult mice. Since they PV cells are not mature they may not show the features you typically see from fast-spiking interneurons, namely the high spike rate (>100 Hz). The datasets have been cleaned to the point where I would run statistics on them and use the data for plotting."
   ]
  },
  {
   "cell_type": "code",
   "execution_count": null,
   "id": "6be5401d",
   "metadata": {},
   "outputs": [],
   "source": [
    "from collections import defaultdict\n",
    "\n",
    "import numpy as np\n",
    "import pandas as pd\n",
    "from bokeh.io import output_notebook, show\n",
    "from bokeh.layouts import column, row\n",
    "from bokeh.models import (\n",
    "    ColumnDataSource,\n",
    "    CustomJS,\n",
    "    Select,\n",
    ")\n",
    "from bokeh.plotting import figure\n",
    "from bokeh.transform import factor_cmap, jitter\n",
    "\n",
    "url_path = \"https://cdn.jsdelivr.net/gh/LarsHenrikNelson/PatchClampHandbook/data/\"\n",
    "\n",
    "output_notebook()"
   ]
  },
  {
   "cell_type": "code",
   "execution_count": null,
   "id": "476d967d",
   "metadata": {},
   "outputs": [],
   "source": [
    "pyramidal = pd.read_csv(url_path + \"pyramidal/spike_data.csv\")\n",
    "msn = pd.read_csv(url_path + \"msn/spike_data.csv\")\n",
    "pv = pd.read_csv(url_path + \"pv/spike_data.csv\")\n",
    "\n",
    "# Normalizing some measures to the start of the spike.\n",
    "for i in [msn, pyramidal, pv]:\n",
    "    i[\"Spike (ms) adj\"] = i[\"Spike (ms)\"] - i[\"Threshold (ms)\"]\n",
    "    i[\"Max Velocity (ms) adj\"] = i[\"Max Velocity (ms)\"] - i[\"Threshold (ms)\"]\n",
    "    i[\"Min Velocity (ms) adj\"] = i[\"Min Velocity (ms)\"] - i[\"Threshold (ms)\"]\n",
    "    i[\"AHP (ms) adj\"] = i[\"AHP (ms)\"] - i[\"Threshold (ms)\"]"
   ]
  },
  {
   "cell_type": "markdown",
   "id": "d17d5a29",
   "metadata": {},
   "source": [
    "## Changes in spike shape with increasing number of spikes\n",
    "One important feature of spikes is how their shape adapts to increasing firing rate. Since there is a limit to how fast and often some ion channels can open the spike shape will change with increasing spike frequency. One interesting thing to look as is how the area under the curve (AUC) of the spike changes. You can see how the depolarization phase of the spike remains virtually unchanged where as the repolarization phase gets much longer. The reason the repolorization phase gets so much larger is due to progressive inactivation of BK channels (Ca2+ activated K+ channel) or Kv4 channels (voltage-gated K+ channel). By splitting the AUC into pre peak and post peak components we can see that Na+ currents likely remain relatively unchanged however, depolarization of the cell is prolonged due decreased K+/Ca2+ currents. Some cell types, such as parvalbumin interneurons, have extremely stable spike waveform features. Lastly, notice how some relationships look to be mostly linear whereas some seem to be linear. Spike threshold, Spike (mV), Depolarization time (ms) and Pre-peak AUC are all pretty much linear. This likely because there is a single type of channel regulating these features (i.e Na+ channels). The features that are regulated by K+ and Ca2+ channels seem to be logarithmic or, some other curve in the case of the AHP."
   ]
  },
  {
   "cell_type": "code",
   "execution_count": null,
   "id": "d4dd3d99",
   "metadata": {
    "tags": [
     "hide-input"
    ]
   },
   "outputs": [],
   "source": [
    "columns = [\n",
    "    \"Threshold (mV)\",\n",
    "    \"HW (ms)\",\n",
    "    \"HW (mV)\",\n",
    "    \"FW (ms)\",\n",
    "    \"AUC\",\n",
    "    \"AUC Left\",\n",
    "    \"AUC Right\",\n",
    "    \"Min Velocity (ms) adj\",\n",
    "    \"Min Velocity\",\n",
    "    \"Max Velocity (ms) adj\",\n",
    "    \"Max Velocity\",\n",
    "    \"AHP (ms) adj\",\n",
    "    \"AHP (mV)\",\n",
    "    \"Spike (mV)\",\n",
    "    \"Spike (ms) adj\",\n",
    "    \"Spike Number\",\n",
    "]"
   ]
  },
  {
   "cell_type": "code",
   "execution_count": null,
   "id": "cad64bd7",
   "metadata": {},
   "outputs": [],
   "source": [
    "def create_multline_source(data):\n",
    "    data_groupby = data.groupby(\"Acq Number\")\n",
    "    data_groupby.groups\n",
    "    data_source = defaultdict(list)\n",
    "    for c in columns:\n",
    "        for key, value in data_groupby.groups.items():\n",
    "            data_source[c].append(data.loc[value, c])\n",
    "    data_source[\"y\"] = data_source[columns[0]]\n",
    "    data_source = ColumnDataSource(data_source)\n",
    "    return data_source\n",
    "\n",
    "msn_source = create_multline_source(msn)\n",
    "fig1 = figure(height=200, width=250, title=\"MSN\")\n",
    "mline = fig1.multi_line(\"Spike Number\", \"y\", source=msn_source, color=\"black\")\n",
    "\n",
    "pyramidal_source = create_multline_source(pyramidal)\n",
    "fig2 = figure(height=200, width=250, title=\"Pyramidal\")\n",
    "mline = fig2.multi_line(\"Spike Number\", \"y\", source=pyramidal_source, color=\"black\")\n",
    "menu = Select(title=\"Column\", value=columns[0], options=columns)\n",
    "\n",
    "pv_source = create_multline_source(pv)\n",
    "fig3 = figure(height=200, width=250, title=\"PV\")\n",
    "mline = fig3.multi_line(\"Spike Number\", \"y\", source=pv_source, color=\"black\")\n",
    "menu = Select(title=\"Column\", value=columns[0], options=columns[:-1])\n",
    "\n",
    "callback = CustomJS(\n",
    "    args=dict(\n",
    "        msn_source=msn_source,\n",
    "        pyramidal_source=pyramidal_source,\n",
    "        pv_source=pv_source,\n",
    "        menu=menu,\n",
    "    ),\n",
    "    code=\"\"\"\n",
    "    msn_source.data.y = msn_source.data[menu.value];\n",
    "    msn_source.change.emit();\n",
    "    pyramidal_source.data.y = pyramidal_source.data[menu.value];\n",
    "    pyramidal_source.change.emit();\n",
    "\n",
    "    pv_source.data.y = pv_source.data[menu.value];\n",
    "    pv_source.change.emit();\n",
    "\"\"\",)\n",
    "menu.js_on_change(\"value\", callback)\n",
    "show(column(menu, row(fig1, fig2, fig3)))"
   ]
  },
  {
   "cell_type": "markdown",
   "id": "1f3727c1",
   "metadata": {},
   "source": [
    "How would you compare whether there are differences between cells or genotypes or treatments? One of the easiest ways is to curve fit similar to what we did with FI curve and the sigmoid curve. Looking at the data there are couple curves you could choose. The primary curve I would is a logarithmic curve. Some curves look more linear or even polynomial in the case of the AHP. Choosing a curve to fit may also depend on the cell type. If you want to learn more about curve fitting check out the [curves](curves) chapter."
   ]
  },
  {
   "cell_type": "markdown",
   "id": "6d0ce85e",
   "metadata": {},
   "source": [
    "### Changes in IEI with frequency\n",
    "The time between each spike, interevent interval (IEI) or interspike interval (ISI), can also change with spike frequency. Parvalbumin interneurons tend to have a very stable IEI. They can also burst fire a lower current injects with short IEIs followed by a longer IEI then short IEIs. Pyramidal cells on the other can have a lengthing of the IEI the more spikes there are. However, I have noticed in younger mice (P16) that this only occurs when the cell is spiking at higher frequencies."
   ]
  },
  {
   "cell_type": "code",
   "execution_count": null,
   "id": "e5b004b9",
   "metadata": {},
   "outputs": [],
   "source": [
    "def create_iei_source(data):\n",
    "    data_groupby = data.groupby(\"Acq Number\")\n",
    "    data_groupby.groups\n",
    "    data_source = defaultdict(list)\n",
    "    for key, value in data_groupby.groups.items():\n",
    "        data_source[\"IEI\"].append(np.diff(data.loc[value, \"Spike (ms)\"]))\n",
    "        data_source[\"IEI Number\"].append(data.loc[value, \"Spike Number\"][:-1])\n",
    "    data_source = ColumnDataSource(data_source)\n",
    "    return data_source\n",
    "\n",
    "msn_source = create_iei_source(msn)\n",
    "fig1 = figure(height=200, width=250)\n",
    "mline = fig1.multi_line(\"IEI Number\", \"IEI\", source=msn_source, color=\"black\")\n",
    "\n",
    "pyramidal_source = create_iei_source(pyramidal)\n",
    "fig2 = figure(height=200, width=250)\n",
    "mline = fig2.multi_line(\"IEI Number\", \"IEI\", source=pyramidal_source, color=\"black\")\n",
    "menu = Select(title=\"Column\", value=columns[0], options=columns)\n",
    "\n",
    "pv_source = create_iei_source(pv)\n",
    "fig3 = figure(height=200, width=250)\n",
    "mline = fig3.multi_line(\"IEI Number\", \"IEI\", source=pv_source, color=\"black\")\n",
    "menu = Select(title=\"Column\", value=columns[0], options=columns[:-1])\n",
    "show(row(fig1, fig2, fig3))"
   ]
  },
  {
   "cell_type": "markdown",
   "id": "90af66a3",
   "metadata": {},
   "source": [
    "## Relationship between spike features\n",
    "One important thing to understand is how all these spike features interact. Increases in spike width can offset decreases in spike amplitude thus maintaining the Na+ currents and the synaptic output of the cell. One interesting thing to note is that particularly for the repolarization time you can see how the first spikes of each acquisition are clustered together whereas the later spikes have an almost perfect correlation between peak amplitude and repolarization time. As peak voltage decreases repolarization time increases."
   ]
  },
  {
   "cell_type": "code",
   "execution_count": null,
   "id": "2cda03b8",
   "metadata": {},
   "outputs": [],
   "source": [
    "sources = []\n",
    "figs = []\n",
    "for df, key in [(msn, \"MSN\"), (pyramidal, \"Pyramidal\"), (pv, \"PV\")]:\n",
    "    df[\"y\"] = df[columns[0]]\n",
    "    df[\"x\"] = df[columns[1]]\n",
    "    source = ColumnDataSource(df[columns+[\"x\"]+[\"y\"]])\n",
    "    sources.append(source)\n",
    "    xy_figure = figure(height=250, width=400, title=key)\n",
    "    xy_line = xy_figure.scatter(x=\"x\", y=\"y\", source=source, alpha=0.6)\n",
    "    figs.append(xy_figure)\n",
    "    \n",
    "menu1 = Select(\n",
    "    title=\"y\",\n",
    "    value=columns[0],\n",
    "    options=columns,\n",
    ")\n",
    "menu2 = Select(\n",
    "    title=\"x\",\n",
    "    value=columns[1],\n",
    "    options=columns,\n",
    ")\n",
    "\n",
    "callback = CustomJS(\n",
    "    args=dict(\n",
    "        sources=sources,\n",
    "        menu1=menu1,\n",
    "        menu2=menu2,\n",
    "    ),\n",
    "    code=\"\"\"\n",
    "    for (let step = 0; step < sources.length; step++) {\n",
    "        sources[step].data.y = sources[step].data[menu1.value];\n",
    "        sources[step].data.x = sources[step].data[menu2.value];\n",
    "        sources[step].change.emit();\n",
    "    }\n",
    "\"\"\",\n",
    ")\n",
    "\n",
    "menu1.js_on_change(\"value\", callback)\n",
    "menu2.js_on_change(\"value\", callback)\n",
    "\n",
    "show(column(row(menu1, menu2), row(*figs)))\n"
   ]
  },
  {
   "cell_type": "markdown",
   "id": "537693c2",
   "metadata": {},
   "source": [
    "## Relationship between cell features"
   ]
  },
  {
   "cell_type": "code",
   "execution_count": null,
   "id": "945a36ea",
   "metadata": {
    "tags": [
     "hide-input"
    ]
   },
   "outputs": [],
   "source": [
    "pv_cell = pd.read_csv(url_path + \"pv/cell_data.csv\")\n",
    "pyr_cell = pd.read_csv(url_path + \"pyramidal/cell_data.csv\")\n",
    "msn_cell = pd.read_csv(url_path + \"msn/cell_data.csv\")\n",
    "\n",
    "sources = []\n",
    "figs = []\n",
    "columns = pv_cell.columns.to_list()[:-1]\n",
    "for df, key in [(pyr_cell, \"Pyramidal\"), (pv_cell, \"PV\"), (msn_cell, \"MSN\")]:\n",
    "    df = df.to_dict(orient=\"list\")\n",
    "    df[\"y\"] = df[columns[0]]\n",
    "    df[\"x\"] = df[columns[1]]\n",
    "    source = ColumnDataSource(df)\n",
    "    sources.append(source)\n",
    "    xy_figure = figure(height=250, width=300, title=key)\n",
    "    xy_line = xy_figure.scatter(x=\"x\", y=\"y\", source=source, alpha=0.6)\n",
    "    figs.append(xy_figure)\n",
    "    \n",
    "menu1 = Select(\n",
    "    title=\"y\",\n",
    "    value=columns[0],\n",
    "    options=columns,\n",
    ")\n",
    "menu2 = Select(\n",
    "    title=\"x\",\n",
    "    value=columns[1],\n",
    "    options=columns,\n",
    ")\n",
    "\n",
    "callback = CustomJS(\n",
    "    args=dict(\n",
    "        sources=sources,\n",
    "        menu1=menu1,\n",
    "        menu2=menu2,\n",
    "    ),\n",
    "    code=\"\"\"\n",
    "    for (let step = 0; step < sources.length; step++) {\n",
    "        sources[step].data.y = sources[step].data[menu1.value];\n",
    "        sources[step].data.x = sources[step].data[menu2.value];\n",
    "        sources[step].change.emit();\n",
    "    }\n",
    "\"\"\",\n",
    ")\n",
    "\n",
    "menu1.js_on_change(\"value\", callback)\n",
    "menu2.js_on_change(\"value\", callback)\n",
    "\n",
    "show(column(row(menu1, menu2), row(*figs)))"
   ]
  },
  {
   "cell_type": "markdown",
   "id": "be37d992",
   "metadata": {},
   "source": [
    "## Comparisons between different cell types"
   ]
  },
  {
   "cell_type": "code",
   "execution_count": null,
   "id": "71b07acf",
   "metadata": {
    "tags": [
     "hide-input"
    ]
   },
   "outputs": [],
   "source": [
    "df = pd.concat([pv_cell, pyr_cell, msn_cell])\n",
    "df[\"y\"] = df[\"Baseline (mV)\"]\n",
    "cts = list(sorted(df[\"cell_type\"].unique()))\n",
    "source = ColumnDataSource(df)\n",
    "source1 = ColumnDataSource(df.groupby(\"cell_type\", as_index=False).mean())\n",
    "fig = figure(height=250, width=300, x_range=cts)\n",
    "xy_line = fig.scatter(\n",
    "    x=jitter(\"cell_type\", 0.3, range=fig.x_range),\n",
    "    y=\"y\",\n",
    "    source=source,\n",
    "    alpha=0.6,\n",
    "    color=factor_cmap(\"cell_type\", \"Light7\", cts),\n",
    ")\n",
    "\n",
    "xy_line1 = fig.scatter(\n",
    "    x=\"cell_type\",\n",
    "    y=\"y\",\n",
    "    size=15,\n",
    "    marker=\"diamond\",\n",
    "    source=source1,\n",
    "    alpha=0.8,\n",
    "    color=\"grey\",\n",
    ")\n",
    "\n",
    "menu1 = Select(\n",
    "    title=\"y\",\n",
    "    value=columns[0],\n",
    "    options=columns,\n",
    ")\n",
    "\n",
    "callback = CustomJS(\n",
    "    args=dict(\n",
    "        source=source,\n",
    "        source1=source1,\n",
    "        menu1=menu1,\n",
    "    ),\n",
    "    code=\"\"\"\n",
    "    source.data.y = source.data[menu1.value];\n",
    "    source1.data.y = source1.data[menu1.value];\n",
    "    source.change.emit();\n",
    "    source1.change.emit();\n",
    "\"\"\",\n",
    ")\n",
    "\n",
    "menu1.js_on_change(\"value\", callback)\n",
    "\n",
    "show(column(menu1, fig))"
   ]
  },
  {
   "cell_type": "markdown",
   "id": "77827bb4",
   "metadata": {},
   "source": [
    "One reason we covered different cell types is to see how they compare in their active properties. These properties are important for how the cells respond to input and their eventual output. Differences in rheobase are related to how easily a cell is able to elicit an action potential. Interneurons, and particularly PV cells, are considered the \"organizers\" of circuit function. PV cells integrate large amounts of input (see [m/sPSC](mspsc_pt2)) and only respond when input is strong (as seen by the higher rheobase) at least during the early postnatal period. Where as pyramidal cells have a fairly low rheobase and recieve much less input than interneurons meaning they respond less selectively to input. One thing to note is that excitatory currents are much smaller and slower in pyramidal cells and MSN. Some of the rheobase differences can be offset by larger synaptic currents. If we look at how these cells spike we see that MSNs and PV cells have little spike shape adaptations where as pyramidal cells have a massive increase in width and AUC. Since pyramidal cells are the primary output cell in the cortex they need to be able to sustain their output and offset the decrease in synaptic output due to synaptic depression. Increased action potential width can increase the time that Na+ is in the synaptic cleft by prolonging depolarization."
   ]
  }
 ],
 "metadata": {
  "kernelspec": {
   "display_name": "ephysbook",
   "language": "python",
   "name": "python3"
  },
  "language_info": {
   "codemirror_mode": {
    "name": "ipython",
    "version": 3
   },
   "file_extension": ".py",
   "mimetype": "text/x-python",
   "name": "python",
   "nbconvert_exporter": "python",
   "pygments_lexer": "ipython3",
   "version": "3.12.1"
  }
 },
 "nbformat": 4,
 "nbformat_minor": 5
}
