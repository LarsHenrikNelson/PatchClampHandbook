{
 "cells": [
  {
   "cell_type": "markdown",
   "id": "d81c3120",
   "metadata": {},
   "source": [
    "# Current clamp: Part 2\n",
    "In part 2 if the current clamp section we will extend the anaysis of spike features such as how spike shape changes with spike number. We will cover how rheobase, membrane resistance and spike width are related. We also cover differences between cells types."
   ]
  },
  {
   "cell_type": "code",
   "execution_count": null,
   "id": "6be5401d",
   "metadata": {},
   "outputs": [],
   "source": [
    "from collections import defaultdict\n",
    "\n",
    "import numpy as np\n",
    "import pandas as pd\n",
    "from bokeh.io import output_notebook, show\n",
    "from bokeh.layouts import column, gridplot, row\n",
    "from bokeh.models import (\n",
    "    Checkbox,\n",
    "    ColumnDataSource,\n",
    "    CustomJS,\n",
    "    Select,\n",
    "    Slider,\n",
    "    Span,\n",
    "    Spinner,\n",
    ")\n",
    "from bokeh.plotting import figure\n",
    "\n",
    "output_notebook()"
   ]
  },
  {
   "cell_type": "code",
   "execution_count": null,
   "id": "476d967d",
   "metadata": {},
   "outputs": [],
   "source": [
    "pyramidal = pd.read_csv(\"https://cdn.jsdelivr.net/gh/LarsHenrikNelson/PatchClampHandbook/pyramidal/spike_data.csv\")\n",
    "msn = pd.read_csv(\"https://cdn.jsdelivr.net/gh/LarsHenrikNelson/PatchClampHandbook/msn/spike_data.csv\")"
   ]
  },
  {
   "cell_type": "markdown",
   "id": "d17d5a29",
   "metadata": {},
   "source": [
    "## Changes in spike shape with increasing number of spikes\n",
    "One important feature of spikes is how their shape adapts to increasing firing rate. Since there is a limit to how fast and often some ion channels can open the spike shape will change with increasing spike frequency. One interesting thing to look as is how the area under the curve (AUC) of the spike changes. You can see how the depolarization phase of the spike remains virtually unchanged where as the repolarization phase gets much longer. The reason the repolorization phase gets so much larger is due to progressive inactivation of BK channels (Ca2+ activated K+ channel) or Kv4 channels (voltage-gated K+ channel). By splitting the AUC into pre peak and post peak components we can see that Na+ currents likely remain relatively unchanged however, depolarization of the cell is prolonged due decreased K+/Ca2+ currents. Some cell types, such as parvalbumin interneurons, have extremely stable spike waveform features. Lastly, notice how some relationships look to be mostly linear whereas some seem to be linear. Spike threshold, Spike (mV), Depolarization time (ms) and Pre-peak AUC are all pretty much linear. This likely because there is a single type of channel regulating these features (i.e Na+ channels). The features that are regulated by K+ and Ca2+ channels seem to be logarithmic or, some other curve in the case of the AHP."
   ]
  },
  {
   "cell_type": "code",
   "execution_count": null,
   "id": "cad64bd7",
   "metadata": {},
   "outputs": [],
   "source": [
    "# Need to rewrite this"
   ]
  },
  {
   "cell_type": "markdown",
   "id": "1f3727c1",
   "metadata": {},
   "source": [
    "How would you compare whether there are differences between cells or genotypes or treatments? One of the easiest ways is to curve fit similar to what we did with FI curve and the sigmoid curve. Looking at the data there are couple curves you could choose. The primary curve I would is a logarithmic curve. Some curves look more linear or even polynomial in the case of the AHP. Choosing a curve to fit may also depend on the cell type."
   ]
  },
  {
   "cell_type": "markdown",
   "id": "6d0ce85e",
   "metadata": {},
   "source": [
    "### Changes in IEI with frequency\n",
    "The time between each spike, interevent interval (IEI) or interspike interval (ISI), can also change with spike frequency. Parvalbumin interneurons tend to have a very stable IEI. They can also burst fire a lower current injects with short IEIs followed by a longer IEI then short IEIs. Pyramidal cells on the other can have a lengthing of the IEI the more spikes there are. However, I have noticed in younger mice (P16) that this only occurs when the cell is spiking at higher frequencies."
   ]
  },
  {
   "cell_type": "code",
   "execution_count": null,
   "id": "e5b004b9",
   "metadata": {},
   "outputs": [],
   "source": [
    "iei_fig = figure(\n",
    "    width=400, height=250, y_axis_label=\"IEI (ms)\", x_axis_label=\"Number of spikes\"\n",
    ")\n",
    "peaks = [i[\"peaks\"] for i in exp_dict.values()]\n",
    "for p in peaks:\n",
    "    if len(p) > 1:\n",
    "        x = np.arange(len(p) - 1)\n",
    "        iei = np.diff(p / 10)\n",
    "        iei_fig.line(x, iei, color=\"black\")\n",
    "show(iei_fig)"
   ]
  },
  {
   "cell_type": "markdown",
   "id": "90af66a3",
   "metadata": {},
   "source": [
    "## Relationship between spike features\n",
    "One important thing to understand is how all these spike features interact. Increases in spike width can offset decreases in spike amplitude thus maintaining the Na+ currents and the synaptic output of the cell. One interesting thing to note is that particularly for the repolarization time you can see how the first spikes of each acquisition are clustered together whereas the later spikes have an almost perfect correlation between peak amplitude and repolarization time. As peak voltage decreases repolarization time increases."
   ]
  },
  {
   "cell_type": "code",
   "execution_count": null,
   "id": "2cda03b8",
   "metadata": {},
   "outputs": [],
   "source": [
    "plots = list(output.data.keys())[:-1]\n",
    "temp = {i: np.concatenate(output.data[i]) for i in plots}\n",
    "color = np.concatenate(output.data[\"x\"])\n",
    "color = np.where(color == 1, \"orange\", \"grey\")\n",
    "temp[\"color\"] = color\n",
    "temp[\"x\"] = temp[plots[0]]\n",
    "temp[\"y\"] = temp[plots[1]]\n",
    "source = ColumnDataSource(temp)\n",
    "xy_figure = figure(height=250, width=400)\n",
    "menu1 = Select(\n",
    "    title=\"y\",\n",
    "    value=plots[0],\n",
    "    options=plots,\n",
    ")\n",
    "menu2 = Select(\n",
    "    title=\"x\",\n",
    "    value=plots[1],\n",
    "    options=plots,\n",
    ")\n",
    "\n",
    "xy_line = xy_figure.scatter(x=\"x\", y=\"y\", color=\"color\", source=source, alpha=0.6)\n",
    "callback = CustomJS(\n",
    "    args=dict(\n",
    "        source=source,\n",
    "        menu1=menu1,\n",
    "        menu2=menu2,\n",
    "    ),\n",
    "    code=\"\"\"\n",
    "    source.data.y = source.data[menu1.value];\n",
    "    source.data.x = source.data[menu2.value];\n",
    "    source.change.emit();\n",
    "\"\"\",\n",
    ")\n",
    "\n",
    "menu1.js_on_change(\"value\", callback)\n",
    "menu2.js_on_change(\"value\", callback)\n",
    "\n",
    "show(column(row(menu1, menu2), xy_figure))\n"
   ]
  },
  {
   "cell_type": "markdown",
   "id": "537693c2",
   "metadata": {},
   "source": [
    "## Relationship between cell features"
   ]
  },
  {
   "cell_type": "code",
   "execution_count": null,
   "id": "08355275",
   "metadata": {},
   "outputs": [],
   "source": [
    "url = \"https://cdn.jsdelivr.net/gh/LarsHenrikNelson/PatchClampHandbook/data/current_clamp.csv\"\n",
    "df = pd.read_csv(url)\n",
    "\n",
    "source = ColumnDataSource(df)\n",
    "xy_figure = figure(height=250, width=400)\n",
    "menu1 = Select(\n",
    "    title=\"y\",\n",
    "    value=\"Rheobase (pA)\",\n",
    "    options=df.columns.to_list(),\n",
    ")\n",
    "xcheck = Checkbox(label=\"Log(x)\")\n",
    "menu2 = Select(\n",
    "    title=\"x\",\n",
    "    value=\"Membrane resistance\",\n",
    "    options=df.columns.to_list(),\n",
    ")\n",
    "ycheck = Checkbox(label=\"Log(y)\")\n",
    "xy_line = xy_figure.scatter(\n",
    "    x=source.data[\"Rheobase (pA)\"], y=source.data[\"Membrane resistance\"], color=\"grey\"\n",
    ")\n",
    "callback = CustomJS(\n",
    "    args=dict(\n",
    "        source=source,\n",
    "        xy_line=xy_line,\n",
    "        menu1=menu1,\n",
    "        menu2=menu2,\n",
    "        xcheck=xcheck,\n",
    "        ycheck=ycheck,\n",
    "    ),\n",
    "    code=\"\"\"\n",
    "    if (ycheck.active) {\n",
    "        var y = source.data[menu1.value].map(num => Math.log10(num));\n",
    "    } else {\n",
    "        var y = source.data[menu1.value]\n",
    "    }\n",
    "    if (xcheck.active) {\n",
    "        var x = source.data[menu2.value].map(num => Math.log10(num));\n",
    "    } else {\n",
    "        var x = source.data[menu2.value];\n",
    "    }\n",
    "    xy_line.data_source.data.y = y;\n",
    "    xy_line.data_source.data.x = x;\n",
    "    xy_line.data_source.change.emit();\n",
    "\"\"\",\n",
    ")\n",
    "\n",
    "menu1.js_on_change(\"value\", callback)\n",
    "menu2.js_on_change(\"value\", callback)\n",
    "ycheck.js_on_change(\"active\", callback)\n",
    "xcheck.js_on_change(\"active\", callback)\n",
    "\n",
    "show(column(row(column(menu1, ycheck), column(menu2, xcheck)), xy_figure))"
   ]
  }
 ],
 "metadata": {
  "kernelspec": {
   "display_name": "ephysbook",
   "language": "python",
   "name": "python3"
  },
  "language_info": {
   "name": "python",
   "version": "3.12.1"
  }
 },
 "nbformat": 4,
 "nbformat_minor": 5
}
