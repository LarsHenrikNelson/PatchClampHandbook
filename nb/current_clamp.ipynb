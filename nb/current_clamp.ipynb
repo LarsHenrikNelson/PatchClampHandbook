{
 "cells": [
  {
   "cell_type": "markdown",
   "metadata": {},
   "source": [
    "# Current clamp\n",
    "Current clamp recordings are one of the two most common experiment types you will see in papers using path-clamp. Current clamp experiments allow you to get active parameters of cells. Namely gain, rheobase and spike threshold. Current clamp recordings typically use stepped currrent injections or ramps and you are investigating the voltage change due to the current injection and whether the cell spikes."
   ]
  },
  {
   "cell_type": "markdown",
   "metadata": {},
   "source": [
    "## Experimental considerations for current clamp recordings\n",
    "### Internal and external solutions\n",
    "You will need to a standard ACSF for recording. Usually the ACSF bath is mantained at physiological temperature which is considered ~32C however you can record at room temperature. I recommend recording at 32C. You can include drugs in the bath to block synaptic activity but do not need to include these. If you are having a lot of recurrent input that is driving spikes, depolarizations or hyperpolarizations in your cells if may be good to include some drugs to block synpatic currents. The one problem with blocking synaptic currents if that cells change their functionality due to changes in or lack of synaptic input. These are considerations you need to consider. I would recommend starting without any drugs in the bath to keep it simple."
   ]
  },
  {
   "cell_type": "markdown",
   "metadata": {},
   "source": [
    "### Recording\n",
    "As mentioned in the beginning, you can record stepped currents or ramps. Stepped currents are the most common. Usually there are negative and positive steps. The negative steps usually go as low as -150 to -200 pA and positive currents can as high as 600 pA (some interneurons have a very high rheobase). One problem with ramps is that some cells have depolarization block and may not spike during a ramp but will during a set of stepped pulses. Depolarization block is the inactivation of voltage-gated sodium channels due to long membrane depolarizations that does not elicit spikes. There are conditions, such as epilepsy, where depolarization block may actually be a feature of the altered cell physiology and you could use the ramp to test whether is still occurs."
   ]
  },
  {
   "cell_type": "markdown",
   "metadata": {},
   "source": [
    "## Analyzing current clamp data\n",
    "Below is a tutorial on analyzing current clamp data with a specific focus on current injections. The tutorial go over what features are import in the waveforms and how to analyze the extracted data.\n",
    "\n",
    "First we are going to import some python packages."
   ]
  },
  {
   "cell_type": "code",
   "execution_count": null,
   "metadata": {},
   "outputs": [],
   "source": [
    "import json\n",
    "from pathlib import Path\n",
    "\n",
    "import numpy as np\n",
    "from bokeh.io import output_notebook, show\n",
    "from bokeh.layouts import column, row, gridplot\n",
    "from bokeh.models import ColumnDataSource, CustomJS, Slider, Spinner\n",
    "from bokeh.plotting import figure\n",
    "from scipy import optimize, signal, stats\n",
    "\n",
    "output_notebook()"
   ]
  },
  {
   "cell_type": "markdown",
   "metadata": {},
   "source": [
    "Next we are going to load the data. All the data is stored on json files. While this file type is not the most practical for storing electrophysiological data, it is the very convenient since it does not require any third party python packages."
   ]
  },
  {
   "cell_type": "code",
   "execution_count": null,
   "metadata": {},
   "outputs": [],
   "source": [
    "path = Path().cwd()\n",
    "temp_path = Path(r\"C:\\Users\\lhn6\\python-packages\\PathClampHandbook\\data\\current_clamp\")\n",
    "path = path.parents[0] / r\"data/current_clamp\"\n",
    "paths = sorted(list(path.glob(\"*.json\")), key=lambda x: int(x.stem))\n",
    "exp_dict = {}\n",
    "for index, p in enumerate(paths):\n",
    "    with open(p, \"r\") as rf:\n",
    "        temp = json.load(rf)\n",
    "        exp_dict[index + 1] = temp\n",
    "x_array = np.arange(len(exp_dict[1][\"array\"])) / 10"
   ]
  },
  {
   "cell_type": "markdown",
   "metadata": {},
   "source": [
    "The first thing to do is look through your data just to see what it looks like. For reference the data in this tutorial is from a layer 5 cell in the ACC of a P16 mouse. \n",
    "- The recorded data is usually in mV, as is the case for this data.\n",
    "- There is a short baseline of about 300 ms before the current injection starts.\n",
    "- There are current injections that make the voltage go negative and ones that the cell goes positive.\n",
    "- There is a point where the positive current injections make the cell spike.\n",
    "- The current injection is finite but also not short enough that only one spike is ever evoked. This is important for calculating the FI curve\n",
    "- There are 4 cycles where the pulse amplitude start at -100 pA and is increased in 25 pA steps until 300 pA is reached."
   ]
  },
  {
   "cell_type": "code",
   "execution_count": null,
   "metadata": {
    "tags": [
     "hide-input"
    ]
   },
   "outputs": [],
   "source": [
    "# Initial data\n",
    "source = ColumnDataSource(data={\"x\": np.arange(20000) / 10, \"y\": exp_dict[1][\"array\"]})\n",
    "\n",
    "# Create a plot\n",
    "plot = figure(x_axis_label=\"Time (ms)\", y_axis_label=\"Voltage (mV)\")\n",
    "plot.line(\"x\", \"y\", source=source, line_color=\"black\")\n",
    "spinner = Spinner(title=\"Acquisition\", low=1, high=68, step=1, value=1, width=80)\n",
    "\n",
    "# JavaScript callback to fetch JSON data and update plot\n",
    "callback = CustomJS(\n",
    "    args=dict(source=source, spinner=spinner),\n",
    "    code=\"\"\"\n",
    "    let val = spinner.value\n",
    "    let URL = `https://raw.githubusercontent.com/LarsHenrikNelson/PathClampHandbook/refs/heads/main/data/current_clamp/${val}.json`\n",
    "    fetch(URL)\n",
    "    .then(response => response.json())\n",
    "    .then(data => {\n",
    "        console.log(data)\n",
    "        source.data.y = data[\"array\"];\n",
    "        source.change.emit();\n",
    "    })\n",
    "    .catch(error => console.error('Error fetching data:', error));\n",
    "\"\"\",\n",
    ")\n",
    "\n",
    "# Add a button to trigger the callback\n",
    "spinner.js_on_change(\"value\", callback)\n",
    "\n",
    "# Layout and show\n",
    "layout = column(spinner, plot)\n",
    "show(layout)"
   ]
  },
  {
   "cell_type": "markdown",
   "metadata": {},
   "source": [
    "First, we will define some important features of the acquisition so that we can reuse the settings throughout the analysis. It is important to note the all the parameters are going to be in samples. The current files were recorded at 10000 Hz so we are multiply the time by 10."
   ]
  },
  {
   "cell_type": "code",
   "execution_count": null,
   "metadata": {},
   "outputs": [],
   "source": [
    "baseline_start = 0\n",
    "baseline_end = 3000\n",
    "pulse_start = 3000\n",
    "pulse_end = 10000"
   ]
  },
  {
   "cell_type": "markdown",
   "metadata": {},
   "source": [
    "## Measuring delta V and getting the IV curve\n",
    "The first concept we are going to cover is delta V and analyzing the IV (current-voltage curve). Delta V is simply the change in voltage due to the current injection. The IV curve is used to calculate the membrane resistance. Remember that voltage difference = current * resistance ($\\Delta V=IR$). This can be calculated by finding the baseline voltage of the acquisition and subtracting voltage during the pulse. There are some things consider when calculating the voltage during the current injection. There can be changes in voltage due channels that temporarily open such as due to Ih channels. To avoid the contribution of these channels I recommend get the mean voltage of the current injection in the last 50%, or even 30%, of the current injection."
   ]
  },
  {
   "cell_type": "code",
   "execution_count": null,
   "metadata": {},
   "outputs": [],
   "source": [
    "acq = exp_dict[1][\"array\"]\n",
    "x = np.arange(20000) / 10\n",
    "\n",
    "# We define the baseline as the mean of the acquisiton from 0 to 300 ms\n",
    "baseline_v = np.mean(acq[baseline_start:baseline_end])\n",
    "\n",
    "# We define the pulse voltage as the mean of the acquisition for the last 50% of the current injection\n",
    "p50 = ((pulse_end - pulse_start) // 2) + pulse_start\n",
    "injection_v = np.mean(acq[p50:pulse_end])\n",
    "delta_v = injection_v - baseline_v\n",
    "\n",
    "plot = figure(x_axis_label=\"Time (ms)\", y_axis_label=\"Voltage (mV)\")\n",
    "plot.line(x, acq, line_color=\"black\", legend_label=\"Acquisition\")\n",
    "plot.line(\n",
    "    x[baseline_start:baseline_end],\n",
    "    acq[baseline_start:baseline_end],\n",
    "    line_color=\"#37f2fc\",\n",
    "    legend_label=\"Baseline\",\n",
    ")\n",
    "plot.line(\n",
    "    np.arange(p50, pulse_end) / 10,\n",
    "    acq[p50:pulse_end],\n",
    "    line_color=\"#fcba37\",\n",
    "    legend_label=\"Pulse\",\n",
    ")\n",
    "plot.line(\n",
    "    [p50 / 10, p50 / 10],\n",
    "    [baseline_v, injection_v],\n",
    "    line_color=\"#fc37fc\",\n",
    "    legend_label=\"Delta V\",\n",
    ")\n",
    "show(plot)"
   ]
  },
  {
   "cell_type": "markdown",
   "metadata": {},
   "source": [
    "Next we will need to measure the delta V for all pulses except those with spikes. The reason that we do not measure the delta V for acquisitions with spikes is that spiking activity is a seperate state compared to non-spiking. So we will simply exclude acquisitions with spikes. We will do this by ignoring acquisitions with voltages greater than -20 mV. We will also need the pulse amplitude of each acquisition which is located in the file."
   ]
  },
  {
   "cell_type": "code",
   "execution_count": null,
   "metadata": {},
   "outputs": [],
   "source": [
    "p50 = ((pulse_end - pulse_start) // 2) + pulse_start\n",
    "delta_v = []\n",
    "current_amplitude = []\n",
    "for acq_num, acq in exp_dict.items():\n",
    "    voltages = acq[\"array\"]\n",
    "    if np.max(voltages) < -20:\n",
    "        current_amplitude.append(acq[\"pulse_amp\"])\n",
    "        baseline_v = np.mean(voltages[baseline_start:baseline_end])\n",
    "        injection_v = np.mean(voltages[p50:pulse_end])\n",
    "        delta_v.append(injection_v - baseline_v)\n",
    "plot = figure(x_axis_label=\"Current (pA)\", y_axis_label=\"Delta V (mV)\")\n",
    "plot.scatter(current_amplitude, delta_v, line_color=\"black\", color=\"grey\", size=10)\n",
    "show(plot)"
   ]
  },
  {
   "cell_type": "markdown",
   "metadata": {},
   "source": [
    "In the plot above you will notice there is a linear relationship between current and voltage. To get the membrane resistance from these data we just have to run a linear regression between the current and delta V. There are a couple ways that you can run the linear regression. One is you can take all delta Vs, you can take just a subset or you can rectify or take the absolute value of the delta Vs before running the regression. We will do all three since it is easy to do in Python. One really important thing to note is the units of the regressors. current is in pA and delta V is in mV and we need to get to MOhms. To do this we multiply the slope by 1000 to get MOhm. If you run the code below you see that the answers are fairly close. One reason to choose the subset version is that you may change the membrane resistance as the cell gets close to spiking even if it does not spike. However, all three calculations are valid."
   ]
  },
  {
   "cell_type": "code",
   "execution_count": null,
   "metadata": {
    "tags": [
     "hide-input"
    ]
   },
   "outputs": [],
   "source": [
    "mem_res_all = stats.linregress(current_amplitude, delta_v)\n",
    "subset = np.where(np.array(current_amplitude) <= 50)[0]\n",
    "mem_res_subset = stats.linregress(\n",
    "    np.array(current_amplitude)[subset], np.array(delta_v)[subset]\n",
    ")\n",
    "mem_res_rectified = stats.linregress(np.abs(current_amplitude), np.abs(delta_v))\n",
    "\n",
    "# \\n is just added to print on separate lines\n",
    "print(\n",
    "    f\"All values: {mem_res_all.slope * 1000}\",\n",
    "    f\"Subset: {mem_res_subset.slope * 1000}\",\n",
    "    f\"Rectified: {mem_res_rectified.slope * 1000}\",\n",
    "    sep=\"\\n\",\n",
    ")\n",
    "x_fit = np.linspace(min(current_amplitude), max(current_amplitude), num=50)\n",
    "plot = figure(x_axis_label=\"Current (pA)\", y_axis_label=\"Delta V (mV)\")\n",
    "plot.scatter(\n",
    "    current_amplitude, delta_v, line_color=\"black\", color=\"grey\", size=10, alpha=0.6\n",
    ")\n",
    "plot.line(\n",
    "    x_fit,\n",
    "    mem_res_all.intercept + x_fit * mem_res_all.slope,\n",
    "    legend_label=\"Fit all\",\n",
    "    line_color=\"#fcba37\",\n",
    "    line_width=2,\n",
    ")\n",
    "plot.line(\n",
    "    x_fit,\n",
    "    mem_res_subset.intercept + x_fit * mem_res_subset.slope,\n",
    "    legend_label=\"Fit subset\",\n",
    "    line_color=\"#fc37fc\",\n",
    "    line_width=2,\n",
    ")\n",
    "plot.line(\n",
    "    x_fit,\n",
    "    mem_res_rectified.intercept + x_fit * mem_res_rectified.slope,\n",
    "    legend_label=\"Fit rectified\",\n",
    "    line_color=\"#37f2fc\",\n",
    "    line_width=2,\n",
    ")\n",
    "plot.legend.location = \"top_left\"\n",
    "show(plot)"
   ]
  },
  {
   "cell_type": "markdown",
   "metadata": {},
   "source": [
    "## Ih voltage sag\n",
    "Hyperpolarization-activated cyclic nucleotide–gated (HCN) channels are typically responsible for the voltage sag in a current clamp acquisitions. Voltage sag is when the voltage drop is initially larger at the beginning of the current injection than at the end. Many cell types have Ih voltage sag such as dopaminergic cells and layer 5 pyramidal neurons. Measuring voltage sag is fairly straightforward. You just measure the voltage difference between the peak sag and and the voltage in the second half of the current injection similar to measuring delta V. The main way I have seen voltage sag reported is by measuring the sag on the most negative current injection. You could also technically run an IV curve for the voltage sag. To truly determine whether the voltage sag is due to HCN channels you would need to do a flow-in experiment with the drug ZD7288. If you want to run the IV curve I challenge you to modify the IV code above to get the resistance of the channels contributing to the voltage sag."
   ]
  },
  {
   "cell_type": "code",
   "execution_count": null,
   "metadata": {},
   "outputs": [],
   "source": [
    "p50 = ((pulse_end - pulse_start) // 2) + pulse_start\n",
    "delta_v = []\n",
    "current_amplitude = []\n",
    "sag_loc = []\n",
    "acqs = []\n",
    "for acq_num, acq in exp_dict.items():\n",
    "    voltages = acq[\"array\"]\n",
    "    if acq[\"pulse_amp\"] == -100:\n",
    "        acqs.append(voltages)\n",
    "        current_amplitude.append(acq[\"pulse_amp\"])\n",
    "        sag_v = np.min(voltages[pulse_start:p50])\n",
    "        sag_loc.append(np.argmin(voltages[pulse_start:p50]) + pulse_start)\n",
    "        injection_v = np.mean(voltages[p50:pulse_end])\n",
    "        delta_v.append(sag_v - injection_v)\n",
    "print(f\"Voltage sag: {np.mean(delta_v):.3f} mV\")"
   ]
  },
  {
   "cell_type": "markdown",
   "metadata": {},
   "source": [
    "Let's confirm that the voltage sag was correctly measured. Note that when we collected the sag location above we collected the sample number so that needs to be converted to time in ms by dividing by 10."
   ]
  },
  {
   "cell_type": "code",
   "execution_count": null,
   "metadata": {},
   "outputs": [],
   "source": [
    "plots = []\n",
    "for sloc, dv, vs in zip(sag_loc, delta_v, acqs):\n",
    "    plot = figure(height=150, width=300)\n",
    "    plot.line(x_array, vs, line_color=\"black\")\n",
    "    plot.line(\n",
    "        [sloc / 10, sloc / 10],\n",
    "        [vs[sloc], vs[sloc] - dv],\n",
    "        line_color=\"#fc37fc\",\n",
    "        line_width=3,\n",
    "    )\n",
    "    plot.axis.visible = False\n",
    "    plot.grid.visible = False\n",
    "    plot.outline_line_color = None\n",
    "    plots.append(plot)\n",
    "grid = gridplot([plots[:2], plots[2:]])\n",
    "show(grid)"
   ]
  },
  {
   "cell_type": "markdown",
   "metadata": {},
   "source": [
    "## Rheobase\n",
    "Rheobase is the minimum current required to get a cell to spike. This measure is directly related to membrane resistance through the equation: V=IR. When resistence increases, the current need to achieve the same delta V decreases. This means that a cell will higher membrane resistance will likely need less synaptic to be able to spike. There are a couple ways you can find rheobase. Find the minimum current needed to get the cell to spike out of all 4 cycles. I do not recommend this since there is variability between cycles and the variability could be affected by a treatment or other factors. Find the minimum current needed to get the cell to spike for each cycle and average the result. This is the method I recommend. The way I find rheobase below depends on the acquisitions being assigned to a cycle (1 to inf) which ClampSuite automatically. This may not be the case for your data. There are other ways to find rheobase\n"
   ]
  },
  {
   "cell_type": "code",
   "execution_count": null,
   "metadata": {},
   "outputs": [],
   "source": [
    "rheobase = []\n",
    "rheobase_acq = []\n",
    "for index in range(2, len(exp_dict)+1):\n",
    "    if (np.max(exp_dict[index][\"array\"]) > 30) & (np.max(exp_dict[index-1][\"array\"]) < 30):\n",
    "        rheobase.append(exp_dict[index][\"pulse_amp\"])\n",
    "        rheobase_acq.append(index)\n",
    "print(f\"Rheobase: {np.mean(rheobase)} pA\")"
   ]
  },
  {
   "cell_type": "markdown",
   "metadata": {},
   "source": [
    "Let's confirm that we have the right rheobase values by plotting the rheobase acquistion in red and the previous acquisition in black."
   ]
  },
  {
   "cell_type": "code",
   "execution_count": null,
   "metadata": {},
   "outputs": [],
   "source": [
    "plots = []\n",
    "for acq in rheobase_acq:\n",
    "    plot = figure(height=150, width=300)\n",
    "    plot.line(\n",
    "        x_array,\n",
    "        exp_dict[acq - 1][\"array\"],\n",
    "        line_color=\"black\",\n",
    "    )\n",
    "    plot.line(\n",
    "        x_array,\n",
    "        exp_dict[acq][\"array\"],\n",
    "        line_color=\"red\",\n",
    "    )\n",
    "    plot.axis.visible = False\n",
    "    plot.grid.visible = False\n",
    "    plot.outline_line_color = None\n",
    "    plots.append(plot)\n",
    "grid = gridplot([plots[:2], plots[2:]])\n",
    "show(grid)"
   ]
  },
  {
   "cell_type": "markdown",
   "metadata": {},
   "source": [
    "## Spike frequency\n",
    "Spike frequency is used to create the FI curve. The FI curve relates several pieces of information such as rheobase, gain and maximum firing rate. The firing rate is calculated as the number of spikes that occur during the current injection or you can derive the firing rate from the inter-event (spike) interval (IEI or ISI). The IEI/ISI requires that you have at least two spikes in the acquisition. IEI/ISI is also useful because you can derive the firing rate variability within an acquisition. Three important features you can get from the FI curve that you will need to curve fit to get.\n",
    "- Slope/gain: The input gain of a cell\n",
    "- Maximum firing rate: The response gain of a cell\n",
    "- Current offset\n",
    "- The voltage offset: This is usually close to zero\n",
    "\n",
    "If you want to learn more about gain I would recommend looking at Ferguson and Cardin, 2020 {cite}`ferguson_mechanisms_2020`. The Sigmoid curve and gain are explained in-depth below. If you are using the Jupyter Notebook version of the tutorial there is an interactive widget that allows you change the input and output gain of a the Sigmoic curve which can help understand how the different parameters change the curve.\n"
   ]
  },
  {
   "cell_type": "markdown",
   "metadata": {},
   "source": [
    "### Sigmoid fit the FI curve to get the gain and max firing rate\n",
    "Many papers will just analyze their FI data using a repeated measures ANOVA. However, this method only tells whether or not the FI curves are different and where they are different. To get a better idea of why the curves are different you really need to fit a sigmoid function data for each cell. This will get you the gain of a cell or the slope of the FI curve as well as the estimated maximum firing rate and the current offset. This is a simple example of how to do this in Python."
   ]
  },
  {
   "cell_type": "markdown",
   "metadata": {},
   "source": [
    "### Understanding of gain\n",
    "Below is an example of how changes in gain would work. Note that to get a input gain difference without a rheobase difference the midpoint current has to be changed. That means to test whether there is a gain difference you will like nead to run a multivariate regression or ANOVA because these two factors are not independent."
   ]
  },
  {
   "cell_type": "code",
   "execution_count": null,
   "metadata": {},
   "outputs": [],
   "source": [
    "def sigmoid(x, max_value, midpoint, slope, offset):\n",
    "    return 1 / (1 + np.exp((x - midpoint) / slope)) * max_value + offset\n",
    "\n",
    "x = np.linspace(0, 400)\n",
    "plot1 = figure(height=300, width=250, title=\"Input gain difference\")\n",
    "plot1.line(x, sigmoid(x, 17, 200, -40, 0))\n",
    "plot1.line(x, sigmoid(x, 17, 170, -30, 0), color=\"orange\")\n",
    "plot2= figure(height=300, width=250, title=\"Response gain difference\")\n",
    "plot2.line(x, sigmoid(x, 20, 200, -40, 0))\n",
    "plot2.line(x, sigmoid(x, 17, 200, -40, 0), color=\"orange\")\n",
    "plot3 = figure(height=300, width=250, title=\"Rheobase difference\")\n",
    "plot3.line(x, sigmoid(x, 17, 200, -40, 0))\n",
    "plot3.line(x, sigmoid(x, 17, 150, -40, 0), color=\"orange\")\n",
    "grid = gridplot([[plot1, plot2, plot3]])\n",
    "show(grid)"
   ]
  },
  {
   "cell_type": "markdown",
   "metadata": {},
   "source": [
    "Below is a simple interactive plot where you can play arount with the slope, max value and the midpoint of two sigmoid curves to get an idea of how each of the factors."
   ]
  },
  {
   "cell_type": "code",
   "execution_count": null,
   "metadata": {},
   "outputs": [],
   "source": [
    "\n",
    "y1 = sigmoid(x, 16.0, 200.0, -40.0, 0)\n",
    "y2 = sigmoid(x, 16.0, 200.0, -40.0, 0)\n",
    "\n",
    "source1 = ColumnDataSource({\"x\": np.linspace(0, 400), \"y1\": y1, \"y2\": y2})\n",
    "source2 = ColumnDataSource({\"x\": np.linspace(0, 399), \"y1\": np.diff(y1), \"y2\": np.diff(y2)})\n",
    "\n",
    "plot1 = figure(width=400, height=400)\n",
    "plot1.line(\"x\", \"y1\", source=source1, line_width=3, line_alpha=0.6, line_color=\"black\")\n",
    "plot1.line(\"x\", \"y2\", source=source1, line_width=3, line_alpha=0.6, line_color=\"black\")\n",
    "plot2 = figure(width=400, height=400)\n",
    "plot2.line(\"x\", \"y1\", source=source2, line_width=3, line_alpha=0.6, line_color=\"black\")\n",
    "plot2.line(\"x\", \"y2\", source=source2, line_width=3, line_alpha=0.6, line_color=\"black\")\n",
    "\n",
    "max_val_1 = Slider(value=16.0, start=10.0, end=30.0, step=1.0, title=\"Response gain 1\")\n",
    "max_val_2 = Slider(value=16.0, start=10.0, end=30.0, step=1.0, title=\"Response gain 2\")\n",
    "slope_1 = Slider(value=-40, end=-5.0, start=-60.0, step=1.0, title=\"Input gain 1\")\n",
    "slope_2 = Slider(value=-40, end=-5.0, start=-60.0, step=1.0, title=\"Input gain 2\")\n",
    "midpoint_1 = Slider(value=200.0, start=25.0, end=400.0, step=1.0, title=\"Current offset 1\")\n",
    "midpoint_2 = Slider(value=200.0, start=25.0, end=400.0, step=1.0, title=\"Current offset 2\")\n",
    "\n",
    "callback = CustomJS(\n",
    "    args=dict(\n",
    "        source1=source1,\n",
    "        source2=source2,\n",
    "        max_val_1=max_val_1,\n",
    "        max_val_2=max_val_2,\n",
    "        slope_1=slope_1,\n",
    "        slope_2=slope_2,\n",
    "        midpoint_1=midpoint_1,\n",
    "        midpoint_2=midpoint_2\n",
    "    ),\n",
    "    code=\"\"\"\n",
    "    const data = source1.data;\n",
    "    const x = data['x'];\n",
    "    const y = x.map(x => {\n",
    "        return 1 / (1 + Math.exp((x - midpoint.value) / slope.value)) * max_value.value\n",
    "    })\n",
    "    source1.data['y'] = y\n",
    "\"\"\"\n",
    ")\n",
    "\n",
    "max_val_1.js_on_change(\"value\", callback)\n",
    "max_val_2.js_on_change(\"value\", callback)\n",
    "slope_1.js_on_change(\"value\", callback)\n",
    "slope_2.js_on_change(\"value\", callback)\n",
    "midpoint_1.js_on_change(\"value\", callback)\n",
    "midpoint_2.js_on_change(\"value\", callback)\n",
    "\n",
    "show(row(plot, column(max_val_1, slope_1, midpoint_1)))"
   ]
  },
  {
   "cell_type": "code",
   "execution_count": null,
   "metadata": {
    "tags": [
     "hide-cell"
    ]
   },
   "outputs": [],
   "source": [
    "def explore_plots(\n",
    "    response_gain_1,\n",
    "    response_gain_2,\n",
    "    input_gain_1,\n",
    "    input_gain_2,\n",
    "    current_offset_1,\n",
    "    current_offset_2,\n",
    "):\n",
    "    fig, ax = plt.subplots(ncols=2, layout=\"constrained\", figsize=(6.6, 3))\n",
    "    y1 = sigmoid(x, response_gain_1, current_offset_1, input_gain_1, 0)\n",
    "    y2 = sigmoid(x, response_gain_2, current_offset_2, input_gain_2, 0)\n",
    "    _ = ax[0].plot(x, y1)\n",
    "    _ = ax[0].plot(x, y2)\n",
    "    _ = ax[1].plot(x, np.gradient(y1))\n",
    "    _ = ax[1].plot(x, np.gradient(y2))\n",
    "\n",
    "\n",
    "max_val_1 = FloatSlider(value=16.0, min=10.0, max=30.0, step=1.0)\n",
    "max_val_2 = FloatSlider(value=16.0, min=10.0, max=30.0, step=1.0)\n",
    "slope_1 = FloatSlider(value=-40, max=-5.0, min=-60.0, step=1.0)\n",
    "slope_2 = FloatSlider(value=-40, max=-5.0, min=-60.0, step=1.0)\n",
    "midpoint_1 = FloatSlider(value=200.0, min=25.0, max=400.0, step=1.0)\n",
    "midpoint_2 = FloatSlider(value=200.0, min=25.0, max=400.0, step=1.0)\n",
    "ws = {\n",
    "    \"input_gain_1\": slope_1,\n",
    "    \"response_gain_1\": max_val_1,\n",
    "    \"current_offset_1\": midpoint_1,\n",
    "    \"input_gain_2\": slope_2,\n",
    "    \"response_gain_2\": max_val_2,\n",
    "    \"current_offset_2\": midpoint_2,\n",
    "}\n",
    "ws_list = [HBox([Label(key), value]) for key, value in ws.items()]\n",
    "left_box = VBox(ws_list[:3])\n",
    "right_box = VBox(ws_list[3:])\n",
    "ui = HBox([left_box, right_box])\n",
    "\n",
    "out = widgets.interactive_output(explore_plots, ws)\n",
    "display(ui, out)\n"
   ]
  },
  {
   "cell_type": "markdown",
   "metadata": {},
   "source": [
    "### Fit the data to a sigmoid curve\n",
    "First let's look at the FI data that we extract from the acquisitions"
   ]
  },
  {
   "cell_type": "code",
   "execution_count": null,
   "metadata": {},
   "outputs": [],
   "source": [
    "spike_analysis = {\"acqs\": [], \"hertz\": [], \"current\": []}\n",
    "time = (pulse_end - pulse_start) / 10000\n",
    "\n",
    "fig, ax = plt.subplots()\n",
    "for acq_num, acq in exp_dict.items():\n",
    "    voltages = acq[\"array\"]\n",
    "    peaks, _ = signal.find_peaks(\n",
    "        voltages[pulse_start:pulse_end],\n",
    "        height=-10,\n",
    "        prominence=10,\n",
    "    )\n",
    "    spike_analysis[\"acqs\"].append(acq_num)\n",
    "    spike_analysis[\"hertz\"].append(len(peaks))\n",
    "    spike_analysis[\"current\"].append(acq[\"pulse_amp\"])\n",
    "ax.plot(spike_analysis[\"current\"], spike_analysis[\"hertz\"], \".\")\n",
    "ax.set_ylabel(\"Firing rate (Hertz)\")\n",
    "_ = ax.set_xlabel(\"Current (pA)\")"
   ]
  },
  {
   "cell_type": "code",
   "execution_count": null,
   "metadata": {},
   "outputs": [],
   "source": [
    "p, _ = optimize.curve_fit(sigmoid, spike_analysis[\"current\"], spike_analysis[\"hertz\"])\n",
    "fit_x = np.linspace(\n",
    "    min(spike_analysis[\"current\"]), max(spike_analysis[\"current\"]), 1000\n",
    ")\n",
    "fit_y = sigmoid(fit_x, p[0], p[1], p[2], p[3])\n",
    "fig, ax = plt.subplots(ncols=2, layout=\"constrained\", figsize=(6.6, 3))\n",
    "ax[0].plot(spike_analysis[\"current\"], spike_analysis[\"hertz\"], \".\", c=\"orange\")\n",
    "ax[0].plot(fit_x, fit_y)\n",
    "diff = np.gradient(fit_y)\n",
    "max_gain_index = diff.argmax()\n",
    "max_gain = diff[max_gain_index]\n",
    "max_current = fit_x[max_gain_index]\n",
    "ax[1].plot(fit_x, diff)\n",
    "ax[1].axvline(max_current, c=\"orange\")\n",
    "print(\n",
    "    f\"Slope (gain): {p[2]}\",\n",
    "    f\"Max value: {p[0]}\",\n",
    "    f\"Midpoint: {p[1]}\",\n",
    "    f\"Max gain: {max_gain}\",\n",
    "    sep=\"\\n\",\n",
    ")"
   ]
  },
  {
   "cell_type": "markdown",
   "metadata": {},
   "source": [
    "## Spike threshold\n",
    "Spike threshold is tells you at what voltage a cells spike is elicited. This different from rheobase. Spike threhold is primarly set by the number of sodium channels on the axon hillock. You can measure spike threshold on any acquisition that has a spike, however usually just the spikes from the rheobase acquisitions are used to calculate the spike threshold. There are several ways to calculate the spike threshold such a the first derivative, second derivative, third derivative, and a max curvature {cite}`sekerli_estimating_2004`. I find the third derivative to be the most consistent and it is the method that is used in this tutorial. We also will upsample the spike acquisition because every time we differentiate the signal we essentially smooth the signal and can loose important features. The way I typically differentiate signals is by using a special algorithm call gradient from the Numpy library. Unlike diff, gradient returns an array of the same length as the input signal which makes downstream analysis easier. It has the downside in that if you have small peaks you will get some artifacts in the signal which upsampling can conteract. One problem I found with the third derivative is that the peaks found a usually to late by 1 sample at 10000 Hz so I adjust the spike threshold backwards by 1 sample (or 4 in since we are going to upsample by a factor of 4). I also z-score the derivative since this keeps the peak finding threshold consistent between acquisitions."
   ]
  },
  {
   "cell_type": "markdown",
   "metadata": {},
   "source": [
    "First lets look a single acquisition to see how the method works. One thing we are going to do just for visualization purposes is limit the extent of the x-axis so that we are just looking at the first spike. If you look at the third derivative we want to extract the first positive peak. There are some additions that I have found are helpful."
   ]
  },
  {
   "cell_type": "code",
   "execution_count": null,
   "metadata": {},
   "outputs": [],
   "source": [
    "voltages = np.array(exp_dict[rheobase_acq[0]][\"array\"])\n",
    "\n",
    "# grab the voltages just inside the current pulse\n",
    "voltages = voltages[pulse_start:pulse_end]\n",
    "dv = np.gradient(voltages)\n",
    "ddv = np.gradient(dv)\n",
    "dddv = np.gradient(ddv)\n",
    "fig, ax = plt.subplots(nrows=2, ncols=2, layout=\"constrained\")\n",
    "ax = ax.flatten()\n",
    "ax[0].plot(voltages)\n",
    "ax[0].set_title(\"Voltage\")\n",
    "ax[1].plot(dv)\n",
    "ax[1].set_title(\"dV\")\n",
    "ax[2].plot(ddv)\n",
    "ax[2].set_title(\"ddV\")\n",
    "ax[3].plot(dddv)\n",
    "ax[3].set_title(\"dddV\")\n",
    "for a in ax:\n",
    "    a.set_xlim(3650 - pulse_start, 3900 - pulse_start)"
   ]
  },
  {
   "cell_type": "code",
   "execution_count": null,
   "metadata": {},
   "outputs": [],
   "source": [
    "spike_threshold_x = []\n",
    "spike_threshold_y = []\n",
    "\n",
    "for acq_num in rheobase_acq:\n",
    "    voltages = np.array(exp_dict[acq_num][\"array\"])\n",
    "    peaks, _ = signal.find_peaks(\n",
    "        voltages[pulse_start:pulse_end],\n",
    "        height=-10,\n",
    "        prominence=10,\n",
    "    )\n",
    "    peaks += pulse_start\n",
    "\n",
    "    dv = np.gradient(voltages)\n",
    "    ddv = np.gradient(dv)\n",
    "    dddv = np.gradient(ddv)\n",
    "\n",
    "    temp = dddv[pulse_start : peaks[0]]\n",
    "    base = temp.argmin()\n",
    "    index = base - 1\n",
    "    val = temp[base] - temp[index]\n",
    "    while val < 0:\n",
    "        index -= 1\n",
    "        base -= 1\n",
    "        val = temp[base] - temp[index]\n",
    "    thresh_peak = pulse_start + index\n",
    "    spike_threshold_x.append(thresh_peak)\n",
    "    spike_threshold_y.append(voltages[thresh_peak])\n",
    "print(f\"Spike threshold: {np.mean(spike_threshold_y):.3f} mV\")"
   ]
  },
  {
   "cell_type": "markdown",
   "metadata": {},
   "source": [
    "Let's inspect the output. While it may look like the spike threshold is climbing up the spike a little bit, it is important to remember what a failed spike looks like. There is often a hump suggesting there is a small and rapid climb in voltage before a spike can occur even if the spike does not occur. We are trying to find that bifurcation point. Unfortunately, I did not include an acquisition with a failed spike to show the difference."
   ]
  },
  {
   "cell_type": "code",
   "execution_count": null,
   "metadata": {},
   "outputs": [],
   "source": [
    "fig, ax = plt.subplots(nrows=2, ncols=2, layout=\"constrained\")\n",
    "ax = ax.flatten()\n",
    "for a, sx, sy, acq_num in zip(ax, spike_threshold_x, spike_threshold_y, rheobase_acq):\n",
    "    voltages = np.array(exp_dict[acq_num][\"array\"])\n",
    "    a.plot(voltages)\n",
    "    a.plot(sx, sy, \"o\", color=\"#ff7f0e\")\n",
    "    a.set_xlim(sx - 50, sx + 100)\n",
    "    a.set_ylim(-50, -35)"
   ]
  },
  {
   "cell_type": "markdown",
   "metadata": {},
   "source": [
    "## Spike (half) width\n",
    "The next waveform feature that we can measure is the spike (half) width. This is where the voltage crosses half way between the spike threshold and spike peak. Note that the spike threshold collected previously will be used to help find the spike width."
   ]
  },
  {
   "cell_type": "code",
   "execution_count": null,
   "metadata": {},
   "outputs": [],
   "source": [
    "spike_width_x = []\n",
    "spike_width_y = []\n",
    "for acq_num, sy in zip(rheobase_acq, spike_threshold_y):\n",
    "    voltages = np.array(exp_dict[acq_num][\"array\"])\n",
    "    v_upsampled = signal.resample_poly(voltages, 80, 20)\n",
    "    masked_array = v_upsampled.copy()\n",
    "    mask = np.array(v_upsampled > sy)\n",
    "    masked_array[~mask] = sy\n",
    "    peaks, _ = signal.find_peaks(\n",
    "        masked_array[pulse_start * 4 : pulse_end * 4],\n",
    "        height=-10,\n",
    "        prominence=10,\n",
    "    )\n",
    "    peaks += pulse_start * 4\n",
    "    width = signal.peak_widths(masked_array[: pulse_end * 4], peaks, rel_height=0.5)\n",
    "    spike_width_x.append([width[2][0] / 4, width[3][0] / 4])\n",
    "    spike_width_y.append(width[1][0])\n",
    "print(\n",
    "    f\"Spike (half) width: {np.mean([(i[1] - i[0]) / 10 for i in spike_width_x]):.3f} ms\"\n",
    ")"
   ]
  },
  {
   "cell_type": "markdown",
   "metadata": {},
   "source": [
    "Let's inspect the spike width measurements to make sure they are correct."
   ]
  },
  {
   "cell_type": "code",
   "execution_count": null,
   "metadata": {},
   "outputs": [],
   "source": [
    "fig, ax = plt.subplots(nrows=2, ncols=2, layout=\"constrained\")\n",
    "ax = ax.flatten()\n",
    "for a, sx, sy, acq_num in zip(ax, spike_width_x, spike_width_y, rheobase_acq):\n",
    "    voltages = np.array(exp_dict[acq_num][\"array\"])\n",
    "    a.plot(voltages)\n",
    "    a.plot(sx, [sy, sy], color=\"#ff7f0e\")\n",
    "    a.set_xlim(sx[0] - 10, sx[0] + 50)"
   ]
  },
  {
   "cell_type": "markdown",
   "metadata": {},
   "source": [
    "```{bibliography}\n",
    ":filter: docname in docnames\n",
    "```"
   ]
  }
 ],
 "metadata": {
  "kernelspec": {
   "display_name": "ephysbook",
   "language": "python",
   "name": "python3"
  },
  "language_info": {
   "codemirror_mode": {
    "name": "ipython",
    "version": 3
   },
   "file_extension": ".py",
   "mimetype": "text/x-python",
   "name": "python",
   "nbconvert_exporter": "python",
   "pygments_lexer": "ipython3",
   "version": "3.12.1"
  }
 },
 "nbformat": 4,
 "nbformat_minor": 2
}
