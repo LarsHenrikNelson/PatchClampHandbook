{
 "cells": [
  {
   "cell_type": "markdown",
   "metadata": {},
   "source": [
    "# Current clamp\n",
    "Current clamp recordings are one of the two most common experiment types you will see in papers using path-clamp. Current clamp experiments allow you to get active parameters of cells. Namely gain, rheobase and spike threshold. Current clamp recordings typically use stepped currrent injections or ramps and you are investigating the voltage change due to the current injection and whether the cell spikes."
   ]
  },
  {
   "cell_type": "markdown",
   "metadata": {},
   "source": [
    "## Experimental considerations for current clamp recordings\n",
    "### Internal and external solutions\n",
    "You will need to a standard ACSF for recording. Usually the ACSF bath is mantained at physiological temperature which is considered ~32C however you can record at room temperature. I recommend recording at 32C. You can include drugs in the bath to block synaptic activity but do not need to include these. If you are having a lot of recurrent input that is driving spikes, depolarizations or hyperpolarizations in your cells if may be good to include some drugs to block synpatic currents. The one problem with blocking synaptic currents if that cells change their functionality due to changes in or lack of synaptic input. These are considerations you need to consider. I would recommend starting without any drugs in the bath to keep it simple."
   ]
  },
  {
   "cell_type": "markdown",
   "metadata": {},
   "source": [
    "### To inject current a holding current or not\n",
    "One thing to consider is whether you should inject a holding current to bring the cell to a specific resting potential value. Many studies inject some current to hold the cell at around -70mV and run their current pulses or ramps. There are a few studies that do not inject any holding current and even argue against injecting any holding current. Both methods have their merits."
   ]
  },
  {
   "cell_type": "markdown",
   "metadata": {},
   "source": [
    "### Steps vs ramps\n",
    "As mentioned in the beginning, you can record stepped currents or ramps. Stepped currents are the most common. Usually there are negative and positive steps. The negative steps usually go as low as -150 to -200 pA and positive currents can as high as 600 pA (some interneurons have a very high rheobase). One problem with ramps is that some cells have depolarization block and may not spike during a ramp but will during a set of stepped pulses. Depolarization block is the inactivation of voltage-gated sodium channels due to long membrane depolarizations that does not elicit spikes. There are conditions, such as epilepsy, where depolarization block may actually be a feature of the altered cell physiology and you could use the ramp to test whether is still occurs."
   ]
  },
  {
   "cell_type": "markdown",
   "metadata": {},
   "source": [
    "## Analyzing current clamp data\n",
    "Below is a tutorial on analyzing current clamp data with a specific focus on current injections. The tutorial go over what features are import in the waveforms and how to analyze the extracted data.\n",
    "\n",
    "First we are going to import some python packages."
   ]
  },
  {
   "cell_type": "code",
   "execution_count": null,
   "metadata": {},
   "outputs": [],
   "source": [
    "import json\n",
    "import urllib\n",
    "\n",
    "import numpy as np\n",
    "from bokeh.io import output_notebook, show\n",
    "from bokeh.layouts import column, row, gridplot\n",
    "from bokeh.models import ColumnDataSource, CustomJS, Slider, Spinner, Span\n",
    "from bokeh.plotting import figure\n",
    "from scipy import optimize, signal, stats\n",
    "\n",
    "output_notebook()"
   ]
  },
  {
   "cell_type": "markdown",
   "metadata": {},
   "source": [
    "Next we are going to load the data. All the data is stored on json files. While this file type is not the most practical for storing electrophysiological data, it is the very convenient since it does not require any third party python packages."
   ]
  },
  {
   "cell_type": "code",
   "execution_count": null,
   "metadata": {},
   "outputs": [],
   "source": [
    "temp_path = \"https://cdn.jsdelivr.net/gh/LarsHenrikNelson/PatchClampHandbook/data/current_clamp/\"\n",
    "exp_dict = {}\n",
    "for index in range(1, 69):\n",
    "    url = urllib.request.urlopen(temp_path + f\"{index}.json\")\n",
    "    temp = json.load(url)\n",
    "    exp_dict[index] = temp\n",
    "x_array = np.arange(len(exp_dict[1][\"array\"])) / 10"
   ]
  },
  {
   "cell_type": "markdown",
   "metadata": {},
   "source": [
    "The first thing to do is look through your data just to see what it looks like. For reference the data in this tutorial is from a layer 5 cell in the ACC of a P16 mouse. \n",
    "- The recorded data is usually in mV, as is the case for this data.\n",
    "- There is a short baseline of about 300 ms before the current injection starts.\n",
    "- There are current injections that make the voltage go negative and ones that the cell goes positive.\n",
    "- There is a point where the positive current injections make the cell spike.\n",
    "- The current injection is finite but also not short enough that only one spike is ever evoked. This is important for calculating the FI curve\n",
    "- There are 4 cycles where the pulse amplitude start at -100 pA and is increased in 25 pA steps until 300 pA is reached."
   ]
  },
  {
   "cell_type": "code",
   "execution_count": null,
   "metadata": {
    "tags": [
     "hide-input"
    ]
   },
   "outputs": [],
   "source": [
    "# Initial data\n",
    "source = ColumnDataSource(data={\"x\": np.arange(20000) / 10, \"y\": exp_dict[1][\"array\"]})\n",
    "\n",
    "# Create a plot\n",
    "plot = figure(\n",
    "    x_axis_label=\"Time (ms)\", y_axis_label=\"Voltage (mV)\", height=250, width=400\n",
    ")\n",
    "plot.line(\"x\", \"y\", source=source, line_color=\"black\")\n",
    "spinner = Spinner(title=\"Acquisition\", low=1, high=68, step=1, value=1, width=80)\n",
    "\n",
    "# JavaScript callback to fetch JSON data and update plot\n",
    "callback = CustomJS(\n",
    "    args=dict(source=source, spinner=spinner),\n",
    "    code=\"\"\"\n",
    "    let val = spinner.value\n",
    "    let URL = `https://cdn.jsdelivr.net/gh/LarsHenrikNelson/PatchClampHandbook/data/current_clamp/${val}.json`\n",
    "    fetch(URL)\n",
    "    .then(response => response.json())\n",
    "    .then(data => {\n",
    "        source.data.y = data[\"array\"];\n",
    "        source.change.emit();\n",
    "    })\n",
    "    .catch(error => console.error('Error fetching data:', error));\n",
    "\"\"\",\n",
    ")\n",
    "\n",
    "# Add a button to trigger the callback\n",
    "spinner.js_on_change(\"value\", callback)\n",
    "\n",
    "# Layout and show\n",
    "layout = column(spinner, plot)\n",
    "show(layout)"
   ]
  },
  {
   "cell_type": "markdown",
   "metadata": {},
   "source": [
    "First, we will define some important features of the acquisition so that we can reuse the settings throughout the analysis. It is important to note the all the parameters are going to be in samples. The current files were recorded at 10000 Hz so we are multiply the time by 10."
   ]
  },
  {
   "cell_type": "code",
   "execution_count": null,
   "metadata": {},
   "outputs": [],
   "source": [
    "baseline_start = 0\n",
    "baseline_end = 3000\n",
    "pulse_start = 3000\n",
    "pulse_end = 10000"
   ]
  },
  {
   "cell_type": "markdown",
   "metadata": {},
   "source": [
    "## Measuring delta V and getting the IV curve\n",
    "The first concept we are going to cover is delta V and analyzing the IV (current-voltage curve). Delta V is simply the change in voltage due to the current injection. The IV curve is used to calculate the membrane resistance. Remember that voltage difference = current * resistance ($\\Delta V=IR$). This can be calculated by finding the baseline voltage of the acquisition and subtracting voltage during the pulse. There are some things consider when calculating the voltage during the current injection. There can be changes in voltage due channels that temporarily open such as due to Ih channels. To avoid the contribution of these channels I recommend get the mean voltage of the current injection in the last 50%, or even 30%, of the current injection."
   ]
  },
  {
   "cell_type": "code",
   "execution_count": null,
   "metadata": {
    "tags": [
     "hide-input"
    ]
   },
   "outputs": [],
   "source": [
    "acq = exp_dict[1][\"array\"]\n",
    "x = np.arange(20000) / 10\n",
    "\n",
    "# We define the baseline as the mean of the acquisiton from 0 to 300 ms\n",
    "baseline_v = np.mean(acq[baseline_start:baseline_end])\n",
    "\n",
    "# We define the pulse voltage as the mean of the acquisition for the last 50% of the current injection\n",
    "p50 = ((pulse_end - pulse_start) // 2) + pulse_start\n",
    "injection_v = np.mean(acq[p50:pulse_end])\n",
    "delta_v = injection_v - baseline_v\n",
    "\n",
    "plot = figure(x_axis_label=\"Time (ms)\", y_axis_label=\"Voltage (mV)\")\n",
    "plot.line(x, acq, line_color=\"black\", legend_label=\"Acquisition\")\n",
    "plot.line(\n",
    "    x[baseline_start:baseline_end],\n",
    "    acq[baseline_start:baseline_end],\n",
    "    line_color=\"#37f2fc\",\n",
    "    legend_label=\"Baseline\",\n",
    ")\n",
    "plot.line(\n",
    "    np.arange(p50, pulse_end) / 10,\n",
    "    acq[p50:pulse_end],\n",
    "    line_color=\"#fcba37\",\n",
    "    legend_label=\"Pulse\",\n",
    ")\n",
    "plot.line(\n",
    "    [p50 / 10, p50 / 10],\n",
    "    [baseline_v, injection_v],\n",
    "    line_color=\"#fc37fc\",\n",
    "    legend_label=\"Delta V\",\n",
    ")\n",
    "show(plot)"
   ]
  },
  {
   "cell_type": "markdown",
   "metadata": {},
   "source": [
    "Next we will need to measure the delta V for all pulses except those with spikes. The reason that we do not measure the delta V for acquisitions with spikes is that spiking activity is a seperate state compared to non-spiking. So we will simply exclude acquisitions with spikes. We will do this by ignoring acquisitions with voltages greater than -20 mV. We will also need the pulse amplitude of each acquisition which is located in the file."
   ]
  },
  {
   "cell_type": "code",
   "execution_count": null,
   "metadata": {},
   "outputs": [],
   "source": [
    "p50 = ((pulse_end - pulse_start) // 2) + pulse_start\n",
    "delta_v = []\n",
    "current_amplitude = []\n",
    "for acq_num, acq in exp_dict.items():\n",
    "    voltages = acq[\"array\"]\n",
    "    if np.max(voltages) < -20:\n",
    "        current_amplitude.append(acq[\"pulse_amp\"])\n",
    "        baseline_v = np.mean(voltages[baseline_start:baseline_end])\n",
    "        injection_v = np.mean(voltages[p50:pulse_end])\n",
    "        delta_v.append(injection_v - baseline_v)\n",
    "plot = figure(x_axis_label=\"Current (pA)\", y_axis_label=\"Delta V (mV)\")\n",
    "plot.scatter(current_amplitude, delta_v, line_color=\"black\", color=\"grey\", size=10)\n",
    "show(plot)"
   ]
  },
  {
   "cell_type": "markdown",
   "metadata": {},
   "source": [
    "In the plot above you will notice there is a linear relationship between current and voltage. To get the membrane resistance from these data we just have to run a linear regression between the current and delta V. There are a couple ways that you can run the linear regression. One is you can take all delta Vs, you can take just a subset or you can rectify or take the absolute value of the delta Vs before running the regression. We will do all three since it is easy to do in Python. One really important thing to note is the units of the regressors. current is in pA and delta V is in mV and we need to get to MOhms. To do this we multiply the slope by 1000 to get MOhm. If you run the code below you see that the answers are fairly close. One reason to choose the subset version is that you may change the membrane resistance as the cell gets close to spiking even if it does not spike. However, all three calculations are valid."
   ]
  },
  {
   "cell_type": "code",
   "execution_count": null,
   "metadata": {
    "tags": [
     "hide-input"
    ]
   },
   "outputs": [],
   "source": [
    "mem_res_all = stats.linregress(current_amplitude, delta_v)\n",
    "subset = np.where(np.array(current_amplitude) <= 50)[0]\n",
    "mem_res_subset = stats.linregress(\n",
    "    np.array(current_amplitude)[subset], np.array(delta_v)[subset]\n",
    ")\n",
    "mem_res_rectified = stats.linregress(np.abs(current_amplitude), np.abs(delta_v))\n",
    "\n",
    "# \\n is just added to print on separate lines\n",
    "print(\n",
    "    f\"All values: {mem_res_all.slope * 1000}\",\n",
    "    f\"Subset: {mem_res_subset.slope * 1000}\",\n",
    "    f\"Rectified: {mem_res_rectified.slope * 1000}\",\n",
    "    sep=\"\\n\",\n",
    ")\n",
    "x_fit = np.linspace(min(current_amplitude), max(current_amplitude), num=50)\n",
    "plot = figure(x_axis_label=\"Current (pA)\", y_axis_label=\"Delta V (mV)\")\n",
    "plot.scatter(\n",
    "    current_amplitude, delta_v, line_color=\"black\", color=\"grey\", size=10, alpha=0.6\n",
    ")\n",
    "plot.line(\n",
    "    x_fit,\n",
    "    mem_res_all.intercept + x_fit * mem_res_all.slope,\n",
    "    legend_label=\"Fit all\",\n",
    "    line_color=\"#fcba37\",\n",
    "    line_width=2,\n",
    ")\n",
    "plot.line(\n",
    "    x_fit,\n",
    "    mem_res_subset.intercept + x_fit * mem_res_subset.slope,\n",
    "    legend_label=\"Fit subset\",\n",
    "    line_color=\"#fc37fc\",\n",
    "    line_width=2,\n",
    ")\n",
    "plot.line(\n",
    "    x_fit,\n",
    "    mem_res_rectified.intercept + x_fit * mem_res_rectified.slope,\n",
    "    legend_label=\"Fit rectified\",\n",
    "    line_color=\"#37f2fc\",\n",
    "    line_width=2,\n",
    ")\n",
    "plot.legend.location = \"top_left\"\n",
    "show(plot)"
   ]
  },
  {
   "cell_type": "markdown",
   "metadata": {},
   "source": [
    "## Ih voltage sag\n",
    "Hyperpolarization-activated cyclic nucleotide–gated (HCN) channels are typically responsible for the voltage sag in a current clamp acquisitions. Voltage sag is when the voltage drop is initially larger at the beginning of the current injection than at the end. Many cell types have Ih voltage sag such as dopaminergic cells and layer 5 pyramidal neurons. Measuring voltage sag is fairly straightforward. You just measure the voltage difference between the peak sag and and the voltage in the second half of the current injection similar to measuring delta V. The main way I have seen voltage sag reported is by measuring the sag on the most negative current injection. You could also technically run an IV curve for the voltage sag. To truly determine whether the voltage sag is due to HCN channels you would need to do a flow-in experiment with the drug ZD7288. If you want to run the IV curve I challenge you to modify the IV code above to get the resistance of the channels contributing to the voltage sag."
   ]
  },
  {
   "cell_type": "code",
   "execution_count": null,
   "metadata": {},
   "outputs": [],
   "source": [
    "p50 = ((pulse_end - pulse_start) // 2) + pulse_start\n",
    "delta_v = []\n",
    "current_amplitude = []\n",
    "sag_loc = []\n",
    "acqs = []\n",
    "for acq_num, acq in exp_dict.items():\n",
    "    voltages = acq[\"array\"]\n",
    "    if acq[\"pulse_amp\"] == -100:\n",
    "        acqs.append(voltages)\n",
    "        current_amplitude.append(acq[\"pulse_amp\"])\n",
    "        sag_v = np.min(voltages[pulse_start:p50])\n",
    "        sag_loc.append(np.argmin(voltages[pulse_start:p50]) + pulse_start)\n",
    "        injection_v = np.mean(voltages[p50:pulse_end])\n",
    "        delta_v.append(sag_v - injection_v)\n",
    "print(f\"Voltage sag: {np.mean(delta_v):.3f} mV\")"
   ]
  },
  {
   "cell_type": "markdown",
   "metadata": {},
   "source": [
    "Let's confirm that the voltage sag was correctly measured. Note that when we collected the sag location above we collected the sample number so that needs to be converted to time in ms by dividing by 10."
   ]
  },
  {
   "cell_type": "code",
   "execution_count": null,
   "metadata": {},
   "outputs": [],
   "source": [
    "plots = []\n",
    "for sloc, dv, vs in zip(sag_loc, delta_v, acqs):\n",
    "    plot = figure(height=150, width=300)\n",
    "    plot.line(x_array, vs, line_color=\"black\")\n",
    "    plot.line(\n",
    "        [sloc / 10, sloc / 10],\n",
    "        [vs[sloc], vs[sloc] - dv],\n",
    "        line_color=\"#fc37fc\",\n",
    "        line_width=3,\n",
    "    )\n",
    "    plot.axis.visible = False\n",
    "    plot.grid.visible = False\n",
    "    plot.outline_line_color = None\n",
    "    plots.append(plot)\n",
    "grid = gridplot([plots[:2], plots[2:]])\n",
    "show(grid)"
   ]
  },
  {
   "cell_type": "markdown",
   "metadata": {},
   "source": [
    "## Rheobase\n",
    "Rheobase is the minimum current required to get a cell to spike. This measure is directly related to membrane resistance through the equation: V=IR. When resistence increases, the current need to achieve the same delta V decreases. This means that a cell will higher membrane resistance will likely need less synaptic to be able to spike. There are a couple ways you can find rheobase. Find the minimum current needed to get the cell to spike out of all 4 cycles. I do not recommend this since there is variability between cycles and the variability could be affected by a treatment or other factors. Find the minimum current needed to get the cell to spike for each cycle and average the result. This is the method I recommend. The way I find rheobase below depends on the acquisitions being assigned to a cycle (1 to inf) which ClampSuite automatically. This may not be the case for your data. There are other ways to find rheobase\n"
   ]
  },
  {
   "cell_type": "code",
   "execution_count": null,
   "metadata": {},
   "outputs": [],
   "source": [
    "rheobase = []\n",
    "rheobase_acq = []\n",
    "for index in range(2, len(exp_dict) + 1):\n",
    "    if (np.max(exp_dict[index][\"array\"]) > 30) & (\n",
    "        np.max(exp_dict[index - 1][\"array\"]) < 30\n",
    "    ):\n",
    "        rheobase.append(exp_dict[index][\"pulse_amp\"])\n",
    "        rheobase_acq.append(index)\n",
    "        exp_dict[index][\"rheobase\"] = True\n",
    "        exp_dict[index-1][\"rheobase\"] = False\n",
    "print(f\"Rheobase: {np.mean(rheobase)} pA\")"
   ]
  },
  {
   "cell_type": "markdown",
   "metadata": {},
   "source": [
    "Let's confirm that we have the right rheobase values by plotting the rheobase acquistion in red and the previous acquisition in black."
   ]
  },
  {
   "cell_type": "code",
   "execution_count": null,
   "metadata": {},
   "outputs": [],
   "source": [
    "plots = []\n",
    "for acq in rheobase_acq:\n",
    "    plot = figure(height=150, width=300)\n",
    "    plot.line(\n",
    "        x_array,\n",
    "        exp_dict[acq - 1][\"array\"],\n",
    "        line_color=\"black\",\n",
    "    )\n",
    "    plot.line(\n",
    "        x_array,\n",
    "        exp_dict[acq][\"array\"],\n",
    "        line_color=\"red\",\n",
    "    )\n",
    "    plot.axis.visible = False\n",
    "    plot.grid.visible = False\n",
    "    plot.outline_line_color = None\n",
    "    plots.append(plot)\n",
    "grid = gridplot([plots[:2], plots[2:]])\n",
    "show(grid)"
   ]
  },
  {
   "cell_type": "markdown",
   "metadata": {},
   "source": [
    "## Spike frequency\n",
    "Spike frequency is used to create the FI curve. The FI curve relates several pieces of information such as rheobase, gain and maximum firing rate. The firing rate is calculated as the number of spikes that occur during the current injection or you can derive the firing rate from the inter-event (spike) interval (IEI or ISI). The IEI/ISI requires that you have at least two spikes in the acquisition. IEI/ISI is also useful because you can derive the firing rate variability within an acquisition. Three important features you can get from the FI curve that you will need to curve fit to get.\n",
    "- Slope/gain: The input gain of a cell\n",
    "- Maximum firing rate: The response gain of a cell\n",
    "- Current offset\n",
    "- The voltage offset: This is usually close to zero\n",
    "\n",
    "If you want to learn more about gain I would recommend looking at Ferguson and Cardin, 2020 {cite}`ferguson_mechanisms_2020`. The Sigmoid curve and gain are explained in-depth below. If you are using the Jupyter Notebook version of the tutorial there is an interactive widget that allows you change the input and output gain of a the Sigmoic curve which can help understand how the different parameters change the curve.\n"
   ]
  },
  {
   "cell_type": "markdown",
   "metadata": {},
   "source": [
    "### Sigmoid fit the FI curve to get the gain and max firing rate\n",
    "Many papers will just analyze their FI data using a repeated measures ANOVA. However, this method only tells whether or not the FI curves are different and where they are different. To get a better idea of why the curves are different you really need to fit a sigmoid function data for each cell. This will get you the gain of a cell or the slope of the FI curve as well as the estimated maximum firing rate and the current offset. This is a simple example of how to do this in Python."
   ]
  },
  {
   "cell_type": "markdown",
   "metadata": {},
   "source": [
    "### Understanding of gain\n",
    "Below is an example of how changes in gain would work. Note that to get a input gain difference without a rheobase difference the midpoint current has to be changed. That means to test whether there is a gain difference you will like nead to run a multivariate regression or ANOVA because these two factors are not independent."
   ]
  },
  {
   "cell_type": "code",
   "execution_count": null,
   "metadata": {
    "tags": [
     "hide-input"
    ]
   },
   "outputs": [],
   "source": [
    "def sigmoid(x, max_value, midpoint, slope, offset):\n",
    "    return 1 / (1 + np.exp((x - midpoint) / slope)) * max_value + offset\n",
    "\n",
    "\n",
    "x = np.linspace(0, 400)\n",
    "plot1 = figure(height=300, width=250, title=\"Input gain difference\")\n",
    "plot1.line(x, sigmoid(x, 17, 200, -40, 0))\n",
    "plot1.line(x, sigmoid(x, 17, 170, -30, 0), color=\"orange\")\n",
    "plot2 = figure(height=300, width=250, title=\"Response gain difference\")\n",
    "plot2.line(x, sigmoid(x, 20, 200, -40, 0))\n",
    "plot2.line(x, sigmoid(x, 17, 200, -40, 0), color=\"orange\")\n",
    "plot3 = figure(height=300, width=250, title=\"Rheobase difference\")\n",
    "plot3.line(x, sigmoid(x, 17, 200, -40, 0))\n",
    "plot3.line(x, sigmoid(x, 17, 150, -40, 0), color=\"orange\")\n",
    "grid = gridplot([[plot1, plot2, plot3]])\n",
    "show(grid)"
   ]
  },
  {
   "cell_type": "markdown",
   "metadata": {},
   "source": [
    "Below is a simple interactive plot where you can play arount with the slope, max value and the midpoint of two sigmoid curves to get an idea of how each of the factors."
   ]
  },
  {
   "cell_type": "code",
   "execution_count": null,
   "metadata": {
    "tags": [
     "hide-input"
    ]
   },
   "outputs": [],
   "source": [
    "def sigmoid(x, max_value, midpoint, slope, offset):\n",
    "    return 1 / (1 + np.exp((x - midpoint) / slope)) * max_value + offset\n",
    "\n",
    "\n",
    "x = np.linspace(0, 400)\n",
    "y1 = sigmoid(x, 16.0, 200.0, -40.0, 0)\n",
    "y2 = sigmoid(x, 16.0, 200.0, -40.0, 0)\n",
    "\n",
    "source1 = ColumnDataSource({\"x\": np.linspace(0, 400), \"y1\": y1, \"y2\": y2})\n",
    "source2 = ColumnDataSource(\n",
    "    {\"x\": np.linspace(0, 400, num=49), \"y1\": np.diff(y1), \"y2\": np.diff(y2)}\n",
    ")\n",
    "\n",
    "plot1 = figure(width=400, height=400)\n",
    "plot1.line(\"x\", \"y1\", source=source1, line_width=3, line_alpha=0.6)\n",
    "plot1.line(\"x\", \"y2\", source=source1, line_width=3, line_alpha=0.6, line_color=\"orange\")\n",
    "plot2 = figure(width=400, height=400)\n",
    "plot2.line(\"x\", \"y1\", source=source2, line_width=3, line_alpha=0.6)\n",
    "plot2.line(\"x\", \"y2\", source=source2, line_width=3, line_alpha=0.6, line_color=\"orange\")\n",
    "\n",
    "max_val_1 = Slider(value=16.0, start=10.0, end=30.0, step=1.0, title=\"Response gain 1\")\n",
    "slope_1 = Slider(value=-40, end=-5.0, start=-60.0, step=1.0, title=\"Input gain 1\")\n",
    "midpoint_1 = Slider(\n",
    "    value=200.0, start=25.0, end=400.0, step=1.0, title=\"Current offset 1\"\n",
    ")\n",
    "\n",
    "callback = CustomJS(\n",
    "    args=dict(\n",
    "        source1=source1,\n",
    "        source2=source2,\n",
    "        max_val_1=max_val_1,\n",
    "        slope_1=slope_1,\n",
    "        midpoint_1=midpoint_1,\n",
    "    ),\n",
    "    code=\"\"\"\n",
    "    const data = source1.data;\n",
    "    const x_array = data['x'];\n",
    "    const y1 = x_array.map((x) => {\n",
    "        return 1 / (1 + Math.exp((x - midpoint_1.value) / slope_1.value)) * max_val_1.value\n",
    "    })\n",
    "    source1.data['y1'] = y1\n",
    "    const y1_diff = y1.slice(1).map((value, index) => value - y1[index])\n",
    "    source2.data['y1'] = y1_diff\n",
    "    source1.change.emit();\n",
    "    source2.change.emit();\n",
    "\"\"\",\n",
    ")\n",
    "\n",
    "max_val_1.js_on_change(\"value\", callback)\n",
    "slope_1.js_on_change(\"value\", callback)\n",
    "midpoint_1.js_on_change(\"value\", callback)\n",
    "\n",
    "show(\n",
    "    column(\n",
    "        column(max_val_1, slope_1, midpoint_1),\n",
    "        gridplot([[plot1, plot2]]),\n",
    "    )\n",
    ")"
   ]
  },
  {
   "cell_type": "markdown",
   "metadata": {},
   "source": [
    "### Fit the data to a sigmoid curve\n",
    "First let's look at the FI data that we extract from the acquisitions"
   ]
  },
  {
   "cell_type": "code",
   "execution_count": null,
   "metadata": {},
   "outputs": [],
   "source": [
    "spike_analysis = {\"acqs\": [], \"hertz\": [], \"current\": [], \"peaks\": [], \"voltages\": []}\n",
    "time = (pulse_end - pulse_start) / 10000\n",
    "\n",
    "fi_plot = figure(\n",
    "    x_axis_label=\"Current (pA)\",\n",
    "    y_axis_label=\"Firing rate (Hertz)\",\n",
    "    width=400,\n",
    "    height=400,\n",
    ")\n",
    "for acq_num, acq in exp_dict.items():\n",
    "    voltages = np.array(acq[\"array\"])\n",
    "    peaks, _ = signal.find_peaks(\n",
    "        voltages[pulse_start:pulse_end],\n",
    "        height=10,\n",
    "        prominence=10,\n",
    "    )\n",
    "    peaks += pulse_start\n",
    "    spike_analysis = {}\n",
    "    spike_analysis[\"hertz\"] = len(peaks / time)\n",
    "    spike_analysis[\"current\"] = acq[\"pulse_amp\"]\n",
    "    spike_analysis[\"peaks\"] = peaks\n",
    "    spike_analysis[\"voltages\"] = voltages[peaks]\n",
    "    acq.update(spike_analysis)"
   ]
  },
  {
   "cell_type": "code",
   "execution_count": null,
   "metadata": {
    "tags": [
     "hide-input"
    ]
   },
   "outputs": [],
   "source": [
    "# Retrieving the current and hertz from our experimental dictionary for ease of use\n",
    "current = np.array([i[\"current\"] for i in exp_dict.values()])\n",
    "hertz = np.array([i[\"hertz\"] for i in exp_dict.values()])\n",
    "fi_plot.scatter(\n",
    "    current,\n",
    "    hertz,\n",
    "    line_color=\"black\",\n",
    "    color=\"grey\",\n",
    "    size=10,\n",
    "    alpha=0.6,\n",
    ")\n",
    "show(fi_plot)"
   ]
  },
  {
   "cell_type": "markdown",
   "metadata": {},
   "source": [
    "Next we are going to curve fit the line. We will use [scipy.optimize.curve_fit](https://docs.scipy.org/doc/scipy/reference/generated/scipy.optimize.curve_fit.html). This function needs a function passed to it, in this case it is the sigmoid function as well as an array for the x values and y values. There are many other factors that you could pass, such as bounding factors but are not needed in this case. Lastly you can fit the entire array of current values, however neurons will only spike when there is a net positive current injection. We can truncate our arrays of current and hertz so that only the pairs that have a current >= 0 are kept. You can fit the sigmoid curve to whole set of data and it will likely fit well."
   ]
  },
  {
   "cell_type": "code",
   "execution_count": null,
   "metadata": {
    "tags": [
     "hide-input"
    ]
   },
   "outputs": [],
   "source": [
    "indexes = np.where(current >= 0)[0]\n",
    "p, _ = optimize.curve_fit(sigmoid, current[indexes], hertz[indexes])\n",
    "fit_x = np.linspace(0, max(current), 1000)\n",
    "fit_y = sigmoid(fit_x, p[0], p[1], p[2], p[3])\n",
    "\n",
    "fi_plot = figure(\n",
    "    x_axis_label=\"Current (pA)\",\n",
    "    y_axis_label=\"Firing rate (Hertz)\",\n",
    "    width=400,\n",
    "    height=400,\n",
    ")\n",
    "fi_plot.scatter(\n",
    "    current,\n",
    "    hertz,\n",
    "    line_color=\"black\",\n",
    "    color=\"grey\",\n",
    "    size=10,\n",
    "    alpha=0.6,\n",
    ")\n",
    "fi_plot.line(fit_x, fit_y, line_width=2)\n",
    "\n",
    "diff = np.diff(fit_y)\n",
    "max_gain_index = diff.argmax()\n",
    "max_gain = diff[max_gain_index]\n",
    "max_current = fit_x[max_gain_index]\n",
    "\n",
    "gain_plot = figure(\n",
    "    x_axis_label=\"Current (pA)\", y_axis_label=\"Gain (Slope)\", width=400, height=400\n",
    ")\n",
    "gain_plot.line(fit_x[1:], diff, line_width=2)\n",
    "dst_end = Span(\n",
    "    location=max_current, dimension=\"height\", line_color=\"orange\", line_width=2\n",
    ")\n",
    "gain_plot.add_layout(dst_end)\n",
    "print(\n",
    "    f\"Slope (gain): {p[2]}\",\n",
    "    f\"Max value: {p[0]}\",\n",
    "    f\"Midpoint: {p[1]}\",\n",
    "    f\"Max gain: {max_gain}\",\n",
    "    sep=\"\\n\",\n",
    ")\n",
    "show(gridplot([[fi_plot, gain_plot]]))"
   ]
  },
  {
   "cell_type": "markdown",
   "metadata": {},
   "source": [
    "### Changes in IEI with frequency\n",
    "The time between each spike, interevent interval (IEI) or interspike interval (ISI), can also change with spike frequency. Parvalbumin interneurons tend to have a very stable IEI. They can also burst fire a lower current injects with short IEIs followed by a longer IEI then short IEIs. Pyramidal cells on the other can have a lengthing of the IEI the more spikes there are. However, I have noticed in younger mice (P16) that this only occurs when the cell is spiking at higher frequencies."
   ]
  },
  {
   "cell_type": "code",
   "execution_count": null,
   "metadata": {},
   "outputs": [],
   "source": [
    "iei_fig = figure(\n",
    "    width=400, height=250, y_axis_label=\"IEI (ms)\", x_axis_label=\"Number of spikes\"\n",
    ")\n",
    "peaks = [i[\"peaks\"] for i in exp_dict.values()]\n",
    "for p in peaks:\n",
    "    if len(p) > 1:\n",
    "        x = np.arange(len(p) - 1)\n",
    "        iei = np.diff(p / 10)\n",
    "        iei_fig.line(x, iei, color=\"black\")\n",
    "show(iei_fig)"
   ]
  },
  {
   "cell_type": "markdown",
   "metadata": {},
   "source": [
    "### Spike adaptation index\n",
    "Spike adaptation is a way to quantify whether IEI is stable or not. There are many ways to calculate the spike adaptation and we will cover a few of them here.\n",
    "3. Local spike variability {cite}`shinomoto_relating_2009`"
   ]
  },
  {
   "cell_type": "markdown",
   "metadata": {},
   "source": [
    "#### Allen institute method\n",
    "This method is ideal if you want to know if your IEIs are increasing or decreasing since the values will be bound as -1 and 1. A negative value means the spikes are slowing down and positive value means the spikes are speeding up."
   ]
  },
  {
   "cell_type": "code",
   "execution_count": null,
   "metadata": {},
   "outputs": [],
   "source": [
    "sa = []\n",
    "npeaks = []\n",
    "for p in peaks:\n",
    "    if len(p) > 2:\n",
    "        iei = np.diff(p)\n",
    "        if np.allclose((iei[1:] + iei[:-1]), 0.0):\n",
    "            spike_adapt = np.nan\n",
    "        norm_diffs = (iei[1:] - iei[:-1]) / (iei[1:] + iei[:-1])\n",
    "        norm_diffs[(iei[1:] == 0) & (iei[:-1] == 0)] = 0.0\n",
    "        spike_adapt = np.nanmean(norm_diffs)\n",
    "        sa.append(spike_adapt)\n",
    "        npeaks.append(len(p))\n",
    "iei_fig = figure(\n",
    "    width=400,\n",
    "    height=250,\n",
    "    y_axis_label=\"Spike adaptation\",\n",
    "    x_axis_label=\"Number of spikes\",\n",
    ")\n",
    "iei_fig.scatter(npeaks, sa, size=10, color=\"grey\", line_color=\"black\")\n",
    "print(np.mean(sa))\n",
    "show(iei_fig)"
   ]
  },
  {
   "cell_type": "markdown",
   "metadata": {},
   "source": [
    "#### Coefficient of variation (CV)\n",
    "This is the simplest method. The coefficient of variation (CV) is the standard deviation of IEIs divided by the mean IEI. The CV measures the dispersion of the data."
   ]
  },
  {
   "cell_type": "code",
   "execution_count": null,
   "metadata": {},
   "outputs": [],
   "source": [
    "sa = []\n",
    "npeaks = []\n",
    "for p in peaks:\n",
    "    if len(p) > 1:\n",
    "        iei = np.diff(p)\n",
    "        sa.append(np.std(iei) / np.mean(iei))\n",
    "        npeaks.append(len(p))\n",
    "iei_fig = figure(\n",
    "    width=400,\n",
    "    height=250,\n",
    "    y_axis_label=\"Spike adaptation\",\n",
    "    x_axis_label=\"Number of spikes\",\n",
    ")\n",
    "iei_fig.scatter(npeaks, sa, size=10, color=\"grey\", line_color=\"black\")\n",
    "print(np.mean(sa))\n",
    "show(iei_fig)"
   ]
  },
  {
   "cell_type": "markdown",
   "metadata": {},
   "source": [
    "#### Local variation\n",
    "Local variation is from Shinomoto et al., 2009 {cite}`shinomoto_relating_2009`. One problem with the CV is that vastly different spike patterns can result in the same CV. Shinomoto developed an equation that get around that issue."
   ]
  },
  {
   "cell_type": "code",
   "execution_count": null,
   "metadata": {},
   "outputs": [],
   "source": [
    "sa = []\n",
    "npeaks = []\n",
    "for p in peaks:\n",
    "    if len(p) > 2:\n",
    "        iei = np.diff(p)\n",
    "        isi_shift = iei[1:]\n",
    "        isi_cut = iei[:-1]\n",
    "        n_minus_1 = len(isi_cut)\n",
    "        local_var = (\n",
    "            np.sum((3 * (isi_cut - isi_shift) ** 2) / (isi_cut + isi_shift) ** 2)\n",
    "            / n_minus_1\n",
    "        )\n",
    "        sa.append(local_var)\n",
    "        npeaks.append(len(p))\n",
    "iei_fig = figure(\n",
    "    width=400,\n",
    "    height=250,\n",
    "    y_axis_label=\"Spike adaptation\",\n",
    "    x_axis_label=\"Number of spikes\",\n",
    ")\n",
    "iei_fig.scatter(npeaks, sa, size=10, color=\"grey\", line_color=\"black\")\n",
    "print(np.mean(sa))\n",
    "show(iei_fig)"
   ]
  },
  {
   "cell_type": "markdown",
   "metadata": {},
   "source": [
    "#### Revised local variation\n",
    "Revised local variation is from Shinomoto et al., 2009 {cite}`shinomoto_relating_2009`. One problem with the CV is that vastly different spike patterns can result in the same CV. Shinomoto originally developed the local variation equation to fix this issue, however they later adjusted the equation to account for the refactory period of the neuron in being analyzed."
   ]
  },
  {
   "cell_type": "code",
   "execution_count": null,
   "metadata": {},
   "outputs": [],
   "source": [
    "sa = []\n",
    "npeaks = []\n",
    "\n",
    "# Generic refactory periond of 2 ms will work.\n",
    "R = 2\n",
    "for p in peaks:\n",
    "    if len(p) > 2:\n",
    "        iei = np.diff(p / 10)\n",
    "        isi_shift = iei[1:]\n",
    "        isi_cut = iei[:-1]\n",
    "        isi_add = isi_cut + isi_shift\n",
    "        left = 1 - ((4 * isi_cut * isi_shift) / isi_add**2)\n",
    "        right = 1 + ((4 * R) / isi_add)\n",
    "        var = 3 * np.sum(left * right) * len(isi_shift)\n",
    "        sa.append(var)\n",
    "        npeaks.append(len(p))\n",
    "iei_fig = figure(\n",
    "    width=400,\n",
    "    height=250,\n",
    "    y_axis_label=\"Spike adaptation\",\n",
    "    x_axis_label=\"Number of spikes\",\n",
    ")\n",
    "iei_fig.scatter(npeaks, sa, size=10, color=\"grey\", line_color=\"black\")\n",
    "print(np.mean(sa))\n",
    "show(iei_fig)"
   ]
  },
  {
   "cell_type": "markdown",
   "metadata": {},
   "source": [
    "## Changes in spike amplitude with frequency\n",
    "Another analysis we can look at is how spike amplitude changes with frequency. Some neurons like interneurons have extremely stable spike amplitude even when spiking at high frequencies where as other cells like pyramidal cells in the frontal cortex do not have a stable spike amplitude. We can get a general idea of whether and how much the peaks are increasing or decreasing in size by taking the derivative between the peaks and averaging the differences."
   ]
  },
  {
   "cell_type": "code",
   "execution_count": null,
   "metadata": {},
   "outputs": [],
   "source": [
    "voltages = [i[\"voltages\"] for i in exp_dict.values()]\n",
    "amp_fig = figure(\n",
    "    width=400, height=250, y_axis_label=\"Voltage (mV)\", x_axis_label=\"Number of spikes\"\n",
    ")\n",
    "for v in voltages:\n",
    "    if len(v) > 0:\n",
    "        x = np.arange(len(v))\n",
    "        amp_fig.line(x, v, color=\"black\")\n",
    "show(amp_fig)\n",
    "\n",
    "sa = []\n",
    "for p in voltages:\n",
    "    if len(p) > 1:\n",
    "        iei = np.diff(p)\n",
    "        sa.append(np.mean(iei))\n",
    "print(f\"Est slope of peak change over spike number: {np.mean(sa)}\")"
   ]
  },
  {
   "cell_type": "markdown",
   "metadata": {},
   "source": [
    "## Spike threshold\n",
    "Spike threshold is tells you at what voltage a cells spike is elicited. This different from rheobase. Spike threhold is primarly set by the number of sodium channels on the axon hillock. You can measure spike threshold on any acquisition that has a spike, however usually just the spikes from the rheobase acquisitions are used to calculate the spike threshold. There are several ways to calculate the spike threshold such a the first derivative, second derivative, third derivative, and a max curvature {cite}`sekerli_estimating_2004`. I find the third derivative and method VII to be the most consistent. We will use the third derivative method in this tutorial. The way I typically differentiate signals is by using [numpy.gradient](https://numpy.org/doc/stable/reference/generated/numpy.gradient.html). Unlike [numpy.diff](https://numpy.org/doc/stable/reference/generated/numpy.diff.html), [numpy.gradient](https://numpy.org/doc/stable/reference/generated/numpy.gradient.html) returns an array of the same length as the input signal which makes downstream analysis easier. It has the downside in that if you have small peaks you will get some artifacts in the signal which upsampling can counteract. One problem I found with the third derivative is that the peaks found a usually to late by 1 sample at 10000 Hz so I adjust the spike threshold backwards by 1 sample. I also z-score the derivative since this keeps the peak finding threshold consistent between acquisitions."
   ]
  },
  {
   "cell_type": "markdown",
   "metadata": {},
   "source": [
    "First lets look a single acquisition and see how the different derivatives look. One thing we are going to do just for visualization purposes is limit the extent of the x-axis so that we are just looking at the first spike and for a point of reference we are going to use the spike peak. If you look at the third derivative we want to extract the first positive peak. There are some additions that I have found are helpful."
   ]
  },
  {
   "cell_type": "code",
   "execution_count": null,
   "metadata": {
    "tags": [
     "hide-input"
    ]
   },
   "outputs": [],
   "source": [
    "voltages = np.array(exp_dict[rheobase_acq[0]][\"array\"])\n",
    "peak = exp_dict[rheobase_acq[0]][\"peaks\"][0] - pulse_start\n",
    "\n",
    "# grab the voltages just inside the current pulse\n",
    "voltages = voltages[pulse_start:pulse_end]\n",
    "x = np.arange(voltages.size)\n",
    "\n",
    "# First derivative\n",
    "dv = np.gradient(voltages)\n",
    "# Second derivative\n",
    "ddv = np.gradient(dv)\n",
    "# Third derivateive\n",
    "dddv = np.gradient(ddv)\n",
    "\n",
    "source = ColumnDataSource({\"x\": x, \"v\": voltages, \"dv\": dv, \"ddv\": ddv, \"dddv\": dddv})\n",
    "dst_end = Span(location=peak, dimension=\"height\", line_color=\"orange\", line_width=2)\n",
    "\n",
    "vplot = figure(title=\"Voltage (mV)\", width=300, height=200, x_range=(1120, 1220))\n",
    "vplot.line(x=\"x\", y=\"v\", source=source)\n",
    "vplot.add_layout(dst_end)\n",
    "dvplot = figure(title=\"dV\", width=300, height=200, x_range=vplot.x_range)\n",
    "dvplot.line(x=\"x\", y=\"dv\", source=source)\n",
    "dvplot.add_layout(dst_end)\n",
    "ddvplot = figure(title=\"ddV\", width=300, height=200, x_range=vplot.x_range)\n",
    "ddvplot.line(x=\"x\", y=\"ddv\", source=source)\n",
    "ddvplot.add_layout(dst_end)\n",
    "dddvplot = figure(title=\"dddV\", width=300, height=200, x_range=vplot.x_range)\n",
    "dddvplot.line(x=\"x\", y=\"dddv\", source=source)\n",
    "dddvplot.add_layout(dst_end)\n",
    "grid = gridplot([[vplot, dvplot], [ddvplot, dddvplot]])\n",
    "show(grid)"
   ]
  },
  {
   "cell_type": "markdown",
   "metadata": {},
   "source": [
    "We are going to calculate the spike threshold for every spike in an acquisition that contains spikes. We will use the third derivative method. To do this we will create two functions. One to find a spike threshold for a single spike in a window. The second function will loop through all of the spikes to find the spike threshold using a different start and stop values for each spike. "
   ]
  },
  {
   "cell_type": "code",
   "execution_count": null,
   "metadata": {},
   "outputs": [],
   "source": [
    "def find_spk_threshold(voltages: np.array, start: int, end: int):\n",
    "    dv = np.gradient(voltages)\n",
    "    ddv = np.gradient(dv)\n",
    "    dddv = np.gradient(ddv)\n",
    "\n",
    "    temp = dddv[start:end]\n",
    "    base = temp.argmin()\n",
    "    index = base - 1\n",
    "    val = temp[base] - temp[index]\n",
    "    while val < 0:\n",
    "        index -= 1\n",
    "        base -= 1\n",
    "        val = temp[base] - temp[index]\n",
    "    thresh_peak = start + index\n",
    "    return thresh_peak, voltages[thresh_peak]\n",
    "\n",
    "\n",
    "def find_all_spk_thresholds(voltages, peaks, pulse_start):\n",
    "    output = np.zeros((len(peaks), 2))\n",
    "    start_index = pulse_start\n",
    "    for index in range(len(peaks)):\n",
    "        if index < (len(peaks) - 1):\n",
    "            end_index = peaks[index]\n",
    "        else:\n",
    "            end_index = pulse_end\n",
    "        output[index] = find_spk_threshold(voltages, start_index, end_index)\n",
    "        start_index = peaks[index]\n",
    "    return output\n",
    "\n",
    "\n",
    "for acq in exp_dict.values():\n",
    "    voltages = np.array(acq[\"array\"])\n",
    "    peaks = acq[\"peaks\"]\n",
    "    if len(peaks) > 0:\n",
    "        output = find_all_spk_thresholds(voltages, peaks, pulse_start)\n",
    "        acq[\"spike_threshold\"] = output\n",
    "    else:\n",
    "        acq[\"spike_threshold\"] = None"
   ]
  },
  {
   "cell_type": "markdown",
   "metadata": {},
   "source": [
    "To calculate the spike threshold we are only going to get the spike threshold for the first spike of each rheobase acquisition. This is pretty common practice."
   ]
  },
  {
   "cell_type": "code",
   "execution_count": null,
   "metadata": {
    "tags": [
     "hide-input"
    ]
   },
   "outputs": [],
   "source": [
    "spike_threshold_x = []\n",
    "spike_threshold_y = []\n",
    "for i in rheobase_acq:\n",
    "    spike_threshold_y.append(exp_dict[i][\"spike_threshold\"][0, 1])\n",
    "    spike_threshold_x.append(exp_dict[i][\"spike_threshold\"][0, 0])\n",
    "\n",
    "print(f\"Spike threshold: {np.mean(spike_threshold_y):.3f} mV\")"
   ]
  },
  {
   "cell_type": "markdown",
   "metadata": {},
   "source": [
    "Let's inspect the output. While it may look like the spike threshold is climbing up the spike a little bit, it is important to remember what a failed spike looks like. There is often a hump suggesting there is a small and rapid climb in voltage before a spike can occur even if the spike does not occur. We are trying to find that bifurcation point. Unfortunately, I did not include an acquisition with a failed spike to show the difference."
   ]
  },
  {
   "cell_type": "code",
   "execution_count": null,
   "metadata": {
    "tags": [
     "hide-input"
    ]
   },
   "outputs": [],
   "source": [
    "figures = []\n",
    "temp = {str(i): exp_dict[i][\"array\"] for i in rheobase_acq}\n",
    "temp[\"x\"] = np.arange(len(temp[str(rheobase_acq[0])])) / 10\n",
    "source = ColumnDataSource(data=temp)\n",
    "for sx, sy, acq_num in zip(spike_threshold_x, spike_threshold_y, rheobase_acq):\n",
    "    sx = sx / 10\n",
    "    vplot = figure(\n",
    "        x_axis_label=\"Time (ms)\",\n",
    "        y_axis_label=\"Voltage (mV)\",\n",
    "        width=300,\n",
    "        height=200,\n",
    "        x_range=(sx - 5, sx + 10),\n",
    "        y_range=(-50, 40),\n",
    "    )\n",
    "    vplot.line(x=\"x\", y=str(acq_num), source=source, color=\"black\")\n",
    "    vplot.scatter(sx, sy, size=10, color=\"orange\")\n",
    "    figures.append(vplot)\n",
    "show(gridplot([figures[:2], figures[2:]]))"
   ]
  },
  {
   "cell_type": "markdown",
   "metadata": {},
   "source": [
    "We will also look at how the spike threshold changes as the number of spikes increases and at the time the spike occurs."
   ]
  },
  {
   "cell_type": "code",
   "execution_count": null,
   "metadata": {
    "tags": [
     "hide-input"
    ]
   },
   "outputs": [],
   "source": [
    "thres_n = figure(\n",
    "    width=400,\n",
    "    height=250,\n",
    "    y_axis_label=\"Spike threshold (mV)\",\n",
    "    x_axis_label=\"Spike number\",\n",
    ")\n",
    "thres_time = figure(\n",
    "    width=400,\n",
    "    height=250,\n",
    "    y_axis_label=\"Spike threshold (mV)\",\n",
    "    x_axis_label=\"Spike time (ms)\",\n",
    ")\n",
    "thr = [i[\"spike_threshold\"] for i in exp_dict.values()]\n",
    "for p in thr:\n",
    "    if p is not None:\n",
    "        x = np.arange(p.shape[0]) + 1\n",
    "        thres_n.line(x, p[:, 1], color=\"black\")\n",
    "        thres_time.line(p[:, 0] / 10, p[:, 1], color=\"black\")\n",
    "show(row(thres_n, thres_time))"
   ]
  },
  {
   "cell_type": "markdown",
   "metadata": {},
   "source": [
    "## Spike (half) width\n",
    "The next waveform feature that we can measure is the spike (half) width. Half width is important because it can help you determine if there is broadening or shortening of the waveform. Broadening of the waveform can be due to inactivation of the voltage-gated potassium channels, slower-inactivating sodium channels or even decreased activation of voltage-gated calcium channels. Wavefrom broadening increases synaptic output by increasing release probability by increasing the time calcium is in the presynapse {cite}`zbili_past_2019`. This is where the voltage crosses half way between the spike threshold and peak. One important caveat of measuring spike width as the half-way point is that if your spike threshold or peak is changed then your half-width will likely be different."
   ]
  },
  {
   "cell_type": "code",
   "execution_count": null,
   "metadata": {},
   "outputs": [],
   "source": [
    "def find_spk_width(\n",
    "    voltages: np.array, peak_x: int, spike_threshold: float, start: int, end: int\n",
    "):\n",
    "    volts = np.asarray(voltages[int(start) : int(end)])\n",
    "    masked_array = volts.copy()\n",
    "    mask = np.array(volts > spike_threshold)\n",
    "    masked_array[~mask] = spike_threshold\n",
    "    width = signal.peak_widths(masked_array, [int(peak_x - start)], rel_height=0.5)\n",
    "    width[2][0] += start\n",
    "    width[3][0] += start\n",
    "    width = np.array([width[2][0], width[3][0], width[1][0]])\n",
    "    return width\n",
    "\n",
    "\n",
    "def find_all_spk_widths(voltages, peaks, spike_thresholds, pulse_end):\n",
    "    output = np.zeros((len(peaks), 3))\n",
    "    for index in range(len(peaks)):\n",
    "        if index < (len(peaks) - 1):\n",
    "            end = spike_thresholds[index + 1, 0]\n",
    "        else:\n",
    "            # Adding 2000 samples (or 2 ms) to the end helps with spikes that occur just before the end of the acquisition\n",
    "            if (pulse_end - spike_thresholds[index, 0]) < 2000:\n",
    "                end = spike_thresholds[index, 0] + 2000\n",
    "            else:\n",
    "                end = pulse_end\n",
    "        output[index] = find_spk_width(\n",
    "            voltages,\n",
    "            peaks[index],\n",
    "            spike_thresholds[index, 1],\n",
    "            spike_thresholds[index, 0],\n",
    "            end,\n",
    "        )\n",
    "    return output"
   ]
  },
  {
   "cell_type": "code",
   "execution_count": null,
   "metadata": {},
   "outputs": [],
   "source": [
    "spike_width_x = []\n",
    "spike_width_y = []\n",
    "for acq in exp_dict.values():\n",
    "    voltages = acq[\"array\"]\n",
    "    spk_thresholds = acq[\"spike_threshold\"]\n",
    "    peaks = acq[\"peaks\"]\n",
    "    if len(peaks) > 0:\n",
    "        acq[\"spike_widths\"] = find_all_spk_widths(\n",
    "            voltages, peaks, spk_thresholds, pulse_end\n",
    "        )\n",
    "    else:\n",
    "        acq[\"spike_widths\"] = None"
   ]
  },
  {
   "cell_type": "markdown",
   "metadata": {},
   "source": [
    "To calculate the spike width we are only going to get the spike width for the first spike of each rheobase acquisition. This is pretty common practice."
   ]
  },
  {
   "cell_type": "code",
   "execution_count": null,
   "metadata": {
    "tags": [
     "hide-input"
    ]
   },
   "outputs": [],
   "source": [
    "spike_width = []\n",
    "for i in rheobase_acq:\n",
    "    spike_width.append(\n",
    "        (exp_dict[i][\"spike_widths\"][0, 1] - exp_dict[i][\"spike_widths\"][0, 0]) / 10\n",
    "    )\n",
    "\n",
    "print(f\"Spike width: {np.mean(spike_width):.3f} ms\")"
   ]
  },
  {
   "cell_type": "markdown",
   "metadata": {},
   "source": [
    "Let's inspect the spike width measurements to make sure they are correct."
   ]
  },
  {
   "cell_type": "code",
   "execution_count": null,
   "metadata": {
    "tags": [
     "hide-input"
    ]
   },
   "outputs": [],
   "source": [
    "figures = []\n",
    "for acq_num in rheobase_acq:\n",
    "    acq = exp_dict[acq_num]\n",
    "    sx = acq[\"spike_widths\"][0, :2]\n",
    "    sy = acq[\"spike_widths\"][0, 2]\n",
    "    sy = [sy, sy]\n",
    "    vplot = figure(\n",
    "        width=300,\n",
    "        height=200,\n",
    "        x_range=(sx[0] / 10 - 5, sx[0] / 10 + 10),\n",
    "        y_range=(-50, 40),\n",
    "        x_axis_label=\"Time (ms)\",\n",
    "        y_axis_label=\"Voltage (mV)\",\n",
    "    )\n",
    "    vplot.line(x=\"x\", y=str(acq_num), source=source, color=\"black\")\n",
    "    vplot.line(np.array(sx) / 10, sy, line_width=3, color=\"orange\")\n",
    "    figures.append(vplot)\n",
    "show(gridplot([figures[:2], figures[2:]]))"
   ]
  },
  {
   "cell_type": "markdown",
   "metadata": {},
   "source": [
    "Similar to spike threshold we can look at spike width as the number of spikes increases. Spike width in this cell shows logarithmic growth. We will also fit a curve to the cell's data. Note that we are fitting the spike number as x and not the time when the spike occurs."
   ]
  },
  {
   "cell_type": "code",
   "execution_count": null,
   "metadata": {
    "tags": [
     "hide-input"
    ]
   },
   "outputs": [],
   "source": [
    "def log_func(x, vscale, hscale, offset):\n",
    "    return vscale * np.log(hscale * x) + offset\n",
    "\n",
    "\n",
    "spk_width_n = figure(\n",
    "    width=400, height=250, y_axis_label=\"Spike width (ms)\", x_axis_label=\"Spike number\"\n",
    ")\n",
    "spk_width_time = figure(\n",
    "    width=400,\n",
    "    height=250,\n",
    "    y_axis_label=\"Spike width (ms)\",\n",
    "    x_axis_label=\"Spike time (ms)\",\n",
    ")\n",
    "width = [i[\"spike_widths\"] for i in exp_dict.values()]\n",
    "\n",
    "for p in width:\n",
    "    if p is not None:\n",
    "        y = (p[:, 1] - p[:, 0]) / 10\n",
    "        time = p[:, 0] / 10\n",
    "        spk_width_time.line(time, y, color=\"black\")\n",
    "        spk_width_n.line(np.arange(time.size) + 1, y, color=\"black\")\n",
    "\n",
    "xs = []\n",
    "ys = []\n",
    "for p in width:\n",
    "    if p is not None:\n",
    "        ys.extend((p[:, 1] - p[:, 0]) / 10)\n",
    "        xs.extend(np.arange(p.shape[0]) + 1)\n",
    "popt, pcov = optimize.curve_fit(log_func, xs, ys)\n",
    "x_fit = np.linspace(min(xs), max(xs), num=100)\n",
    "y_fit = log_func(x_fit, *popt)\n",
    "spk_width_n.line(x_fit, y_fit, color=\"orange\", width=3)\n",
    "\n",
    "show(row(spk_width_n, spk_width_time))"
   ]
  },
  {
   "cell_type": "markdown",
   "metadata": {},
   "source": [
    "## Spike afterhyperpolarization (AHP)\n",
    "The spike afterhyperpolarization (AHP) is the refactory period, the period where a neuron cannot fire another action potential. The AHP is defined as when the membrane voltage drops below the resting membrane potential of a neuron. However, when injecting current. you will rarely see the AHP drop below the resting membrane potential or the potential where the cell is being held. The are a a couple ways that you could analyze the AHP. One way is setting a time cutoff after the spike for what part of the AHP you want to analyze and integrate over that period. One thing to consider with this method is that you will likely want to integrate over a percent of the AHP rather than using a strict time cutoff since the AHP will get shorter at higher spike frequencies. This is typically how people calculate the slow and fast components of the AHP. You can also find the peak or most negative component of the AHP and when it occurs."
   ]
  },
  {
   "cell_type": "markdown",
   "metadata": {},
   "source": [
    "### Measuring the peak AHP"
   ]
  },
  {
   "cell_type": "code",
   "execution_count": null,
   "metadata": {},
   "outputs": [],
   "source": [
    "def find_all_ahp_peaks(voltages, peaks, pulse_end):\n",
    "    output = np.zeros((len(peaks), 2))\n",
    "    for index in range(len(peaks)):\n",
    "        if index < (len(peaks) - 1):\n",
    "            t = np.argmin(voltages[peaks[index] : peaks[index + 1]]) + peaks[index]\n",
    "            v = voltages[t]\n",
    "        else:\n",
    "            t = np.argmin(voltages[peaks[index] : pulse_end]) + peaks[index]\n",
    "            v = voltages[t]\n",
    "        output[index] = [t, v]\n",
    "    return output\n",
    "\n",
    "\n",
    "for acq in exp_dict.values():\n",
    "    voltages = acq[\"array\"]\n",
    "    peaks = acq[\"peaks\"]\n",
    "    if len(peaks) > 0:\n",
    "        acq[\"ahp\"] = find_all_ahp_peaks(voltages, peaks, pulse_end)\n",
    "    else:\n",
    "        acq[\"ahp\"] = None"
   ]
  },
  {
   "cell_type": "code",
   "execution_count": null,
   "metadata": {},
   "outputs": [],
   "source": [
    "spike_ahp_time = []\n",
    "spike_ahp_volt = []\n",
    "for i in rheobase_acq:\n",
    "    spike_ahp_time.append(exp_dict[i][\"ahp\"][0, 0] / 10)\n",
    "    spike_ahp_volt.append(exp_dict[i][\"ahp\"][0, 1])\n",
    "print(f\"AHP time: {np.mean(spike_ahp_time):.3f} ms\")\n",
    "print(f\"AHP volt: {np.mean(spike_ahp_volt):.3f} mV\")"
   ]
  },
  {
   "cell_type": "code",
   "execution_count": null,
   "metadata": {},
   "outputs": [],
   "source": [
    "figures = []\n",
    "for acq_num in rheobase_acq:\n",
    "    acq = exp_dict[acq_num]\n",
    "    sx = acq[\"ahp\"][0, 0] / 10\n",
    "    sy = acq[\"ahp\"][0, 1]\n",
    "    vplot = figure(\n",
    "        width=300,\n",
    "        height=200,\n",
    "        x_range=(sx - 100, sx + 200),\n",
    "        y_range=(-60, 45),\n",
    "        x_axis_label=\"Time (ms)\",\n",
    "        y_axis_label=\"Voltage (mV)\",\n",
    "    )\n",
    "    vplot.line(x=\"x\", y=str(acq_num), source=source, color=\"black\")\n",
    "    vplot.scatter(sx, sy, size=10, color=\"orange\")\n",
    "    figures.append(vplot)\n",
    "show(gridplot([figures[:2], figures[2:]]))"
   ]
  },
  {
   "cell_type": "markdown",
   "metadata": {},
   "source": [
    "We can look at the AHP as the number of spikes increases. One thing you will notice is that the the last AHP on several acquisitions is much higher than the rest of the AHPs. This is because those spikes are truncated by the end of the current injection. You can filter those out if you want or leave them in."
   ]
  },
  {
   "cell_type": "code",
   "execution_count": null,
   "metadata": {
    "tags": [
     "hide-input"
    ]
   },
   "outputs": [],
   "source": [
    "spk_ahp_n = figure(\n",
    "    width=400, height=250, y_axis_label=\"Voltage (mV)\", x_axis_label=\"Spike number\"\n",
    ")\n",
    "spk_ahp_time = figure(\n",
    "    width=400,\n",
    "    height=250,\n",
    "    y_axis_label=\"Spike width (ms)\",\n",
    "    x_axis_label=\"Spike time (ms)\",\n",
    ")\n",
    "width = [i[\"ahp\"] for i in exp_dict.values()]\n",
    "for w in width:\n",
    "    if w is not None:\n",
    "        time = w[:, 0] / 10\n",
    "        y = w[:, 1]\n",
    "        spk_ahp_time.line(time, y, color=\"black\")\n",
    "        spk_ahp_n.line(np.arange(time.size) + 1, y, color=\"black\")\n",
    "show(row(spk_ahp_n, spk_ahp_time))"
   ]
  },
  {
   "cell_type": "markdown",
   "metadata": {},
   "source": [
    "## Spike derivative\n",
    "The spike derivative is useful because we can look at the currents underlying the spike itself. While we cannot see the exact Na+, K+ and Ca+ currents we can get an idea of what currents might be altered. To convert a voltage spike to current spike we must multiply the spike derivative by the capacitance of the cell since the current (I) = -C*dV/dt. The current action potential is very similar to the current action potentials that you get when you record spontaneous action potentials is cell-attached voltage-clamp mode. This equation works because a cell is a capacitor due to the lipid membrane. The first peak, or most negative peak primarily consists of Na+ currents where as the second peak likely consists of K+ and Ca+ currents {cite}`bean_action_2007`. One interesting thing to note is the peak current in these spikes (~-2000 pA) is typically around the current you get with unclamped spikes when running a electrical/optical stimulation experiment."
   ]
  },
  {
   "cell_type": "code",
   "execution_count": null,
   "metadata": {},
   "outputs": [],
   "source": [
    "first_spikes = []\n",
    "offset = int(0.5*10)\n",
    "for acq in rheobase_acq:\n",
    "    array = exp_dict[acq][\"array\"]\n",
    "    start = int(exp_dict[acq][\"spike_threshold\"][0,0])-offset\n",
    "    if exp_dict[acq][\"spike_threshold\"].shape[0] > 1:\n",
    "        end = int(exp_dict[acq][\"spike_threshold\"][1,0])\n",
    "    else:\n",
    "        peak_x = exp_dict[acq][\"peaks\"][0]\n",
    "        thresh = exp_dict[acq][\"spike_threshold\"][0,1]\n",
    "        ind = np.where(array[peak_x:] < thresh)[0]+peak_x\n",
    "        end = min(ind[-1], pulse_end)\n",
    "    first_spikes.append(array[start:end])\n",
    "\n",
    "min_len = min([len(i) for i in first_spikes])\n",
    "first_spikes = [i[:min_len] for i in first_spikes]\n",
    "derivative = [np.gradient(i)*-85 for i in first_spikes]\n",
    "peak_na = np.mean([min(i) for i in derivative])\n",
    "peak_k_ca = np.mean([max(i) for i in derivative])\n",
    "print(f\"Peak Na+: {peak_na} pA; Peak K+/Ca2+: {peak_k_ca} pA\")"
   ]
  },
  {
   "cell_type": "code",
   "execution_count": null,
   "metadata": {
    "tags": [
     "hide-input"
    ]
   },
   "outputs": [],
   "source": [
    "fig1 = figure(height=250, width=300, y_axis_label=\"mV\")\n",
    "fig2 = figure(height=250, width=300, x_range=(0,40), y_axis_label=\"pA\")\n",
    "fig3 = figure(height=250, width=300)\n",
    "for i, j in zip(first_spikes, derivative):\n",
    "    x = np.arange(len(i))\n",
    "    fig1.line(x, i, color=\"black\")\n",
    "    fig2.line(x, j, color=\"black\")\n",
    "    fig3.line(i, -j, color=\"black\")\n",
    "show(row(fig1, fig2, fig3))"
   ]
  },
  {
   "cell_type": "markdown",
   "metadata": {},
   "source": [
    "## Rebound spikes\n",
    "Rebound spikes typically occur after a hyperpolarizing pulse. Dopaminergic cells typically have a rebound spike. I have not seen any analyses of the rebound spike(s), however this is feature that your cell could have and you could note the presence or number of the rebound spike(s)."
   ]
  },
  {
   "cell_type": "code",
   "execution_count": null,
   "metadata": {
    "tags": [
     "hide-input"
    ]
   },
   "outputs": [],
   "source": [
    "p = \"https://cdn.jsdelivr.net/gh/LarsHenrikNelson/PatchClampHandbook/data/rebound_spike/1.json\"\n",
    "with urllib.request.urlopen(p) as url:\n",
    "    file = json.load(url)\n",
    "array = file[\"array\"]\n",
    "rs = figure(height=250, width=400)\n",
    "rs.line(np.arange(len(array)), array, color=\"black\")\n",
    "show(rs)"
   ]
  },
  {
   "cell_type": "markdown",
   "metadata": {},
   "source": [
    "```{bibliography}\n",
    ":filter: docname in docnames\n",
    "```"
   ]
  }
 ],
 "metadata": {
  "kernelspec": {
   "display_name": "handbook",
   "language": "python",
   "name": "python3"
  },
  "language_info": {
   "codemirror_mode": {
    "name": "ipython",
    "version": 3
   },
   "file_extension": ".py",
   "mimetype": "text/x-python",
   "name": "python",
   "nbconvert_exporter": "python",
   "pygments_lexer": "ipython3",
   "version": "3.12.9"
  }
 },
 "nbformat": 4,
 "nbformat_minor": 2
}
