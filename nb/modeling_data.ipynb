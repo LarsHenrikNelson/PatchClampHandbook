{
 "cells": [
  {
   "cell_type": "markdown",
   "id": "047c2191",
   "metadata": {},
   "source": [
    "# Modeling data"
   ]
  },
  {
   "cell_type": "markdown",
   "id": "c9750dbb",
   "metadata": {},
   "source": []
  }
 ],
 "metadata": {
  "language_info": {
   "name": "python"
  }
 },
 "nbformat": 4,
 "nbformat_minor": 5
}
