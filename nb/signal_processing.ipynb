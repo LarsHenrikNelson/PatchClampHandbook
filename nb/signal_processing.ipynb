{
 "cells": [
  {
   "cell_type": "markdown",
   "id": "7a1b3974",
   "metadata": {},
   "source": [
    "# Signal processing"
   ]
  },
  {
   "cell_type": "code",
   "execution_count": null,
   "id": "6da09d5d",
   "metadata": {},
   "outputs": [],
   "source": [
    "import numpy as np\n",
    "from scipy import signal, fft\n",
    "from bokeh.io import output_notebook, show\n",
    "from bokeh.layouts import column, layout, row\n",
    "from bokeh.models import ColumnDataSource, CustomJS, Slider\n",
    "from bokeh.plotting import figure\n",
    "\n",
    "output_notebook()"
   ]
  },
  {
   "cell_type": "markdown",
   "id": "f30fdbdc",
   "metadata": {},
   "source": [
    "In this chapter we will cover what I consider core signal processing techniques such as convolution, filtering, FFT, peak finding, derivatives and integrals."
   ]
  },
  {
   "cell_type": "markdown",
   "id": "6e1a4e09",
   "metadata": {},
   "source": [
    "## Convolution\n",
    "Convolution is one the most used signal processing algorithms. It is used in filtering, template matching (which is a type of filtering), spike cross-correlation (different from Pearson's correlation) and is the core of convolution neural networks. We are going to focus on 1D convolution. If you have gone through the mspc chapter you have seen template matching (a version of convolution) used to find PCS. \n",
    "\n",
    "The basic idea of convolution is you are weighting an input array with a template and sliding that template over your input array. If you want to do correlation you just reverse your template. \n",
    "\n",
    "### Time domain convolution\n",
    "Below you can see an implementation of time domain convolution in Python. What happens is that for each value in one array you multiply all the values in the second array and add it to an output array. Time domain convolution outputs an array whose length equals `len(input) + len(template) - 1`. The additive length of your output means your signal is shifted in time by len(template)/2. There are several ways you can output time domain convolution. You can output the arrays only where there is 100% overlap overlap between the two. You can output the full output like I have done below. You can output the same length. For most electrophysiological signal processing we want the same length output. However, there are several ways you can output the same length. One is to get the \"zero phase\" output by subset the array like this `output[template.size//2:input.size+template.size//2]` or you can just grab\n",
    "\n",
    "### Frequency domain convolution\n",
    "For frequency domain convolution you need to run the forward FFT on both of your arrays. You will need to zero-pad your shortest array to the same length as the longer array. Once you have the forward FFT of both signals you just do element-wise multiplication then you take the resulting array and do the backward FFT. One thing to note is that if your input signals are real you can run a faster version of the FFT. The FFT convolution will output an array of length equal to the longest array even if you zero-pad your signal. \n",
    "\n",
    "Below you can see a comparison of the two by convolving an array of noise with a gaussian curve (a common way to filter a signal)."
   ]
  },
  {
   "cell_type": "code",
   "execution_count": null,
   "id": "bf719b79",
   "metadata": {},
   "outputs": [],
   "source": [
    "def time_convolution(array1, array2):\n",
    "    output = np.zeros(array1.size + array2.size - 1)\n",
    "    for i in range(array1.size):\n",
    "        for j in range(array2.size):\n",
    "            output[i + j] += array1[i] * array2[j]\n",
    "    return output\n",
    "\n",
    "\n",
    "def fft_convolution(array1, array2):\n",
    "    size = fft.next_fast_len(max(array1.size, array2.size))\n",
    "    output = fft.irfft(fft.rfft(array1, n=size) * fft.rfft(array2, n=size))\n",
    "    return output"
   ]
  },
  {
   "cell_type": "code",
   "execution_count": null,
   "id": "2ad3ad86",
   "metadata": {
    "tags": [
     "hide-input"
    ]
   },
   "outputs": [],
   "source": [
    "rng = np.random.default_rng(42)\n",
    "array1 = rng.random(1000)\n",
    "array1 -= array1.mean()\n",
    "array2 = signal.windows.gaussian(200, 3)\n",
    "tconv = time_convolution(array1, array2)\n",
    "fconv = fft_convolution(array1, array2)\n",
    "fig1 = figure(height=250, width=350)\n",
    "fig1.line(np.arange(array1.size), array1)\n",
    "fig2 = figure(height=250, width=350)\n",
    "fig2.line(np.arange(array2.size), array2)\n",
    "fig3 = figure(height=250, width=350)\n",
    "fig3.line(np.arange(tconv.size), tconv)\n",
    "fig4 = figure(height=250, width=350)\n",
    "fig4.line(np.arange(fconv.size), fconv)\n",
    "show(column(row(fig1, fig2), row(fig3, fig4)))"
   ]
  },
  {
   "cell_type": "markdown",
   "id": "14065db4",
   "metadata": {},
   "source": [
    "## Filtering\n",
    "Filtering comes in two main types: IIR and FIR filters. When we talk about designing filters, you may come across 4 types of filters: lowpass, highpass, bandpass and notch filters. Lowpass filters let low frequency signals pass and attenuate (reduce the gain/power) of high frequency signals. Highpass filters let high frequencies signals pass and attenuate low frequency signals. Bandpass filters attenuate both low and high frequencies but let frequenceis inbetween a set of frequencies pass such as 300-6000 Hz bandpass that can be used to isolate single unit spikes. Notch filters let most low and high frequency signals pass but typically attentuate a small frequency band such 58-62 Hz to remove line noise (at least in the US). The frequencies that filters let through unattenuated are considered the passband of the filter and the stopband is considered where the frequencies are fully attenuated by the filters (amount of attenuation depends on the filter). Most filters, particularly the ones we use, have a roll off which means that there is some set of frequencies that will be partially attenuated. Ripple is considered unwanted change in gain in the passband and stopband of a filter. Filters can also cause ripple in the time domain signal which means the filter is just introducing time-decaying oscillations into the signal which is usually unwanted. Filters with sharp cutoffs are more likely to have ripple and cause ringing.\n",
    "\n",
    "### Infinite impulse response (IIR) and minimal-phase filters (primarily the Bessel and Butterworth filters)\n",
    "IIR filters as their name implies have an impulse response that is infinitely long and have internal feedback. In Python they including digital versions of analog filters such as the Bessel and Butterworth filter. The Bessel and Butterworth filter are probably the most commonly used filters in electrophysiology. IIR filters are consider minimal-phase filters which means they disrupt the phase (oscillations) of the signal by introducing a frequency dependent delays in the signal. The Bessel and Butterworth filters have very little ripple or change in gain in frequencies due to the filter. Bessel and Butterworth filters basically are tradeoffs between ripple, the steepness of the filter cutoff and the phase delay. When designing these filters in Python we generally just need to supply the what type of passband we want (lowpass, highpass, bandpass) and the order of the filter. The order of the filter is the steepness of the cutoff between the passband and stopband. In Python there are several different computation ways to create and use these filters. You can use a A/B filter, SOS filter or create an impulse response and convolve the filter. Unless you need GPU acceleration I recommend the SOS filter since it is numerically stable compared the A/B filter and impulse response filter. Below are several examples of the Bessel filter."
   ]
  },
  {
   "cell_type": "markdown",
   "id": "51741c83",
   "metadata": {},
   "source": [
    "### Finite impulse response (FIR) and linear-phase filters\n",
    "FIR filters are purely digital filters whose impulse response goes to zero in a finite amount of time. FIR filters are considered linear phase which means they do not affect the phase of the signal in passband but can have variable phase disruptions in the stopband. Linear phase response is extremely useful for telecommunications applications. The most common FIR filters are the sinc function window by a window such as the gaussian or Hann window. FIR filters have an order which is basically the length in samples of the filter. FIR filters are also known to cause ringing, however this can be minimized with longer filters and choice of window."
   ]
  }
 ],
 "metadata": {
  "kernelspec": {
   "display_name": "ephysbook (3.12.1)",
   "language": "python",
   "name": "python3"
  },
  "language_info": {
   "codemirror_mode": {
    "name": "ipython",
    "version": 3
   },
   "file_extension": ".py",
   "mimetype": "text/x-python",
   "name": "python",
   "nbconvert_exporter": "python",
   "pygments_lexer": "ipython3",
   "version": "3.12.1"
  }
 },
 "nbformat": 4,
 "nbformat_minor": 5
}
