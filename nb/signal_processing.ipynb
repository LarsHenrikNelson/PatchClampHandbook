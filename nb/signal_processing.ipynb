{
 "cells": [
  {
   "cell_type": "markdown",
   "id": "7a1b3974",
   "metadata": {},
   "source": [
    "# Signal processing"
   ]
  }
 ],
 "metadata": {
  "language_info": {
   "name": "python"
  }
 },
 "nbformat": 4,
 "nbformat_minor": 5
}
