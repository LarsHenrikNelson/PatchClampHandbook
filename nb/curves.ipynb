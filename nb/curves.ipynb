{
 "cells": [
  {
   "cell_type": "markdown",
   "id": "4b419a00",
   "metadata": {},
   "source": [
    "# Curves\n",
    "When I mean curves I am talking about curve fitting non-linear curves. Technically linear regression is a curve but, that will be covered in the statistics chapter."
   ]
  }
 ],
 "metadata": {
  "language_info": {
   "name": "python"
  }
 },
 "nbformat": 4,
 "nbformat_minor": 5
}
