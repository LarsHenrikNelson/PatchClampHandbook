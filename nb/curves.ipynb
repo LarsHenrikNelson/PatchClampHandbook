{
 "cells": [
  {
   "cell_type": "markdown",
   "id": "4b419a00",
   "metadata": {},
   "source": [
    "# Curves\n",
    "Curves are abundant in nueroscience. In particular curves you will typically see are exponential decay, sigmoid, logarithmic and linear. Exponential decays occur in PSC/PSPs (both rise and decay), membrane taus (current clamp), and membrane currents (Ih-currents). Sigmoid currents occur in dose-response curves (FI curves and Ih currents). Logarithmic curves occur in membrane vorage changes in spiking activity in cells. Linear curves are seen in IV curves. In neuroscince many of these curves are measuring some sort of dose-response or response-time relationship.\n",
    "\n",
    "You have seen these curves in action in several chapters such as the [Current Clamp](current_clamp) and [m/sEPSC](mininature_psc). In this chapter we will delve into the specific parameters of the curves and how the curve_fit function in Scipy works."
   ]
  },
  {
   "cell_type": "markdown",
   "id": "fd444492",
   "metadata": {},
   "source": [
    "## Exponential decay\n",
    "Exponential decay occurs in processes where a value decreases proportionally to its current value. Exponential decay is primarily parameterized by the decay constant, $\\lambda$. $\\lambda$ can be describe as a time constant, $\\tau$ where $\\tau = \\frac{1}{\\lambda}$. $\\tau$, the time constant or the time if takes for the process to reach a value of ~1/3 or $\\frac{1}{e}$ the original value."
   ]
  }
 ],
 "metadata": {
  "kernelspec": {
   "display_name": "handbook",
   "language": "python",
   "name": "python3"
  },
  "language_info": {
   "name": "python",
   "version": "3.12.9"
  }
 },
 "nbformat": 4,
 "nbformat_minor": 5
}
