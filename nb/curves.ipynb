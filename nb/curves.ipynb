{
 "cells": [
  {
   "cell_type": "markdown",
   "id": "4b419a00",
   "metadata": {},
   "source": [
    "# Curves\n",
    "Curves are abundant in nueroscience. In particular curves you will typically see are exponential decay, sigmoid, logarithmic and linear. Exponential decays occur in PSC/PSPs (both rise and decay), membrane taus (current clamp), and membrane currents (Ih-currents). Sigmoid currents occur in dose-response curves (FI curves and Ih currents). Logarithmic curves occur in membrane vorage changes in spiking activity in cells. Linear curves are seen in IV curves. In neuroscince many of these curves are measuring some sort of dose-response or response-time relationship.\n",
    "\n",
    "You have seen these curves in action in several chapters such as the [Current Clamp](current_clamp) and [m/sEPSC](mininature_psc). In this chapter we will delve into the specific parameters of the curves and how the curve_fit function in Scipy works.\n",
    "\n",
    "Some quick basics that all curves typically have. Many curves go from 0 to 1 or 1 to 0. However, most data we collect is not scaled like this. Curves typically have some scaling factor which means you divide or multiple the equation by a number to change the range of possible the equation can output. Curves also have shifting factors which are added or subtracted to the equation and move the equation up or down or to the left or  right. This is really a core concept that I did not pick up early on but wish I had."
   ]
  },
  {
   "cell_type": "code",
   "execution_count": 3,
   "id": "95596f9e",
   "metadata": {},
   "outputs": [],
   "source": [
    "import numpy as np\n",
    "from bokeh.io import output_notebook, show\n",
    "from bokeh.layouts import column, row\n",
    "from bokeh.models import Checkbox, ColumnDataSource, CustomJS, Select, Slider, Spinner\n",
    "from bokeh.plotting import figure\n",
    "from scipy import  optimize\n",
    "\n",
    "# output_notebook()"
   ]
  },
  {
   "cell_type": "markdown",
   "id": "fd444492",
   "metadata": {},
   "source": [
    "## Exponential decay\n",
    "Exponential decay occurs in processes where a value decreases proportionally to its current value. Exponential decay is primarily parameterized by the decay constant, $\\lambda$. $\\lambda$ can be describe as a time constant, $\\tau$ where $\\tau = \\frac{1}{\\lambda}$. $\\tau$, the time constant or the time if takes for the process to reach a value of ~1/3 or $\\frac{1}{e}$ of the original value. The basic exponential equation is: $N_{0}e^{-\\frac{t}{\\tau}}$. $N_{0}$ is the original value, and in electrophysiological terms is the amplitude of a PSC/PSP. The equation expects some things. One is that you value decay towards zero. The second is that typically $N_{0}$ is at time point zero. When we curve fit the mEPSCs in the [m/sEPSC](mininature_psc) chapter we created a new time array that started at zero.\n",
    "\n",
    "The decay equation can be scaled and shifted in several ways. $N_{0}$ can be positive or negative. $N_{0}$ is multiplicative scaling factor, since you leave it out of the equation and you will just get 1 for time value zero since $e^0 = 1$. $\\tau$ is a also just a multiplicative scaling factor but for time. You can shift the whole equation up or down by adding a constant if your decay does not converge towards zero but some other constant value. There is no way to just shift the equation along in time. That is because you are assumming $N_{0}$ is $time = 0$ and if you shift $t$ in the equations you change where you are measuring the decay from. To shift the equation in time you just add a constant to your x values after putting them through the equation. You can also add decay equations together to get double, triple or even more decays. However, adding more than 2 or 3 decays together can lead to over fitting and decreased interpretability."
   ]
  },
  {
   "cell_type": "markdown",
   "id": "abb7dc3e",
   "metadata": {},
   "source": [
    "### Single exponential decay"
   ]
  },
  {
   "cell_type": "code",
   "execution_count": null,
   "id": "c60b4ebe",
   "metadata": {},
   "outputs": [],
   "source": [
    "def exp_decay(x, amplitude=1, tau=1, yshift=0):\n",
    "    y = yshift+(amplitude * np.exp(-x / tau))\n",
    "    return y\n",
    "\n",
    "\n",
    "x = np.arange(300)/10\n",
    "source = ColumnDataSource({\"x\": x, \"y\": exp_decay(x)})\n",
    "\n",
    "plot = figure(width=400, height=400)\n",
    "\n",
    "plot.line(x, exp_decay(x), color=\"black\")\n",
    "plot.line(\"x\", \"y\", source=source, line_width=3, line_alpha=0.6, line_color=\"magenta\")\n",
    "\n",
    "yshift = Slider(start=-10, end=10, value=0, step=0.25, title=\"Y shift\")\n",
    "decay_tau = Slider(start=0.75, end=50, value=1, step=0.25, title=\"Decay tau\")\n",
    "amplitude = Slider(start=-30, end=30, value=1, step=0.5, title=\"Amplitude\")\n",
    "length = Slider(start=10, end=70, value=30, step=0.25, title=\"Length\")\n",
    "\n",
    "callback = CustomJS(\n",
    "    args=dict(\n",
    "        source=source,\n",
    "        decay_tau=decay_tau,\n",
    "        amplitude=amplitude,\n",
    "        length=length,\n",
    "        yshift=yshift,\n",
    "    ),\n",
    "    code=\"\"\"\n",
    "    const len = Math.round(length.value * 10)\n",
    "    const t_length = Array.from({ length: len }, (_, i) => (0 + i)/10)\n",
    "    const y = t_length.map(x => {\n",
    "        return (amplitude.value * Math.exp((-x) / decay_tau.value))+yshift.value\n",
    "    })\n",
    "    source.data.x = t_length;\n",
    "    source.data.y = y;\n",
    "    source.change.emit();\n",
    "\"\"\",\n",
    ")\n",
    "\n",
    "yshift.js_on_change(\"value\", callback)\n",
    "decay_tau.js_on_change(\"value\", callback)\n",
    "amplitude.js_on_change(\"value\", callback)\n",
    "length.js_on_change(\"value\", callback)\n",
    "\n",
    "show(row(plot, column(decay_tau, amplitude, length, yshift)))"
   ]
  },
  {
   "cell_type": "markdown",
   "id": "6e2e1cda",
   "metadata": {},
   "source": [
    "### Double exponential decay\n",
    "You will see that you can get much more complicated shapes with a double exponential decay. Some shapes don't even look like a regular decay. There are a couple ways you can parameterize the double exponential decay. You could have a y_shift for each decay or just one for both. Usually when we think a curve is a double exponential decay we are assuming that the amplitude of both decays has the same sign. Additionally, you could make the amplitude the same for each decay or allow them to be different. It starts to get very complicated. You can have any combination of factors you choose. For fitting PSC/PSP decays I usually include an amplitude and tau parameter for each decay but ensure that the amplitudes both have the same sign. In the example below I do not ensure the amplitudes are the same sign. I also encourage you to reparameterize the equation if you feel confident enough."
   ]
  },
  {
   "cell_type": "code",
   "execution_count": 26,
   "id": "bb8999f1",
   "metadata": {},
   "outputs": [],
   "source": [
    "def db_decay(x, amplitude_fast=1, tau_fast=1, amplitude_slow=0, tau_slow=1):\n",
    "    y = (amplitude_slow * np.exp(-x / tau_slow)) + (\n",
    "        amplitude_fast * np.exp(-x / tau_fast)\n",
    "    )\n",
    "    return y\n",
    "\n",
    "\n",
    "x = np.arange(300) / 10\n",
    "source_db = ColumnDataSource({\"x\": x, \"y\": db_decay(x)})\n",
    "\n",
    "plot = figure(width=400, height=400)\n",
    "\n",
    "plot.line(x, db_decay(x), color=\"black\")\n",
    "plot.line(\"x\", \"y\", source=source_db, line_width=3, line_alpha=0.6, line_color=\"magenta\")\n",
    "\n",
    "tau_slow = Slider(start=0.75, end=50, value=1, step=0.25, title=\"Tau slow\")\n",
    "amplitude_slow = Slider(start=-30, end=30, value=1, step=0.5, title=\"Amplitude_slow\")\n",
    "tau_fast = Slider(start=0.75, end=50, value=1, step=0.25, title=\"Tau fast\")\n",
    "amplitude_fast = Slider(start=-30, end=30, value=0, step=0.5, title=\"Amplitude fast\")\n",
    "length = Slider(start=10, end=70, value=30, step=0.25, title=\"Length\")\n",
    "\n",
    "callback = CustomJS(\n",
    "    args=dict(\n",
    "        source=source_db,\n",
    "        tau_slow=tau_slow,\n",
    "        amplitude_slow=amplitude_slow,\n",
    "        tau_fast=tau_fast,\n",
    "        amplitude_fast=amplitude_fast,\n",
    "        length=length,\n",
    "    ),\n",
    "    code=\"\"\"\n",
    "    const len = Math.round(length.value * 10)\n",
    "    const t_length = Array.from({ length: len }, (_, i) => (0 + i)/10)\n",
    "    const y = t_length.map(x => {\n",
    "        return ((amplitude_slow.value * Math.exp((-x) / tau_slow.value))\n",
    "        +(amplitude_fast.value * Math.exp((-x) / tau_fast.value)))\n",
    "    })\n",
    "    source.data.x = t_length;\n",
    "    source.data.y = y;\n",
    "    source.change.emit();\n",
    "\"\"\",\n",
    ")\n",
    "\n",
    "tau_slow.js_on_change(\"value\", callback)\n",
    "amplitude_slow.js_on_change(\"value\", callback)\n",
    "tau_fast.js_on_change(\"value\", callback)\n",
    "amplitude_fast.js_on_change(\"value\", callback)\n",
    "length.js_on_change(\"value\", callback)\n",
    "\n",
    "show(row(plot, column(tau_slow, amplitude_slow, tau_fast, amplitude_fast, length)))"
   ]
  },
  {
   "cell_type": "markdown",
   "id": "71f92f32",
   "metadata": {},
   "source": [
    "## Sigmoid curve"
   ]
  }
 ],
 "metadata": {
  "kernelspec": {
   "display_name": "handbook",
   "language": "python",
   "name": "python3"
  },
  "language_info": {
   "codemirror_mode": {
    "name": "ipython",
    "version": 3
   },
   "file_extension": ".py",
   "mimetype": "text/x-python",
   "name": "python",
   "nbconvert_exporter": "python",
   "pygments_lexer": "ipython3",
   "version": "3.12.9"
  }
 },
 "nbformat": 4,
 "nbformat_minor": 5
}
