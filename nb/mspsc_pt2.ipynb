{
 "cells": [
  {
   "cell_type": "markdown",
   "id": "b22188ae",
   "metadata": {},
   "source": [
    "(mspsc_pt2)=\n",
    "# Miniature/spontaneous postsynaptic currents: Part 2\n",
    "\n",
    "In part 1 we covered how to extract the mEPSCs or sEPSCs. In this chapter we will dive into a more rigorous analysis of PSCs as well as look at how the shape of a PSC effects their integration."
   ]
  },
  {
   "cell_type": "code",
   "execution_count": null,
   "id": "142bca4d",
   "metadata": {},
   "outputs": [],
   "source": [
    "import numpy as np\n",
    "import pandas as pd\n",
    "from bokeh.io import output_notebook, show\n",
    "from bokeh.layouts import column, row\n",
    "from bokeh.models import ColumnDataSource, CustomJS, Select\n",
    "from bokeh.plotting import figure\n",
    "from scipy import stats\n",
    "\n",
    "output_notebook()"
   ]
  },
  {
   "cell_type": "code",
   "execution_count": null,
   "id": "5c932579",
   "metadata": {},
   "outputs": [],
   "source": [
    "url_path = \"https://cdn.jsdelivr.net/gh/LarsHenrikNelson/PatchClampHandbook/data/\"\n",
    "pv = pd.read_csv(url_path + \"pv/mini_data.csv\")\n",
    "msn = pd.read_csv(url_path + \"msn/mini_data.csv\")\n",
    "dfs = {\"PV\": pv, \"MSN\":msn}"
   ]
  },
  {
   "cell_type": "code",
   "execution_count": null,
   "id": "23f58f44",
   "metadata": {},
   "outputs": [],
   "source": [
    "columns = [\n",
    "    \"Est Tau (ms)\",\n",
    "    \"Rise Time (ms)\",\n",
    "    \"Amplitude (pA)\",\n",
    "    \"Rise Rate (pA/ms)\",\n",
    "    \"IEI (ms)\",\n",
    "]\n",
    "def kde(data):\n",
    "    min_val = min(data)\n",
    "    max_val = max(data)\n",
    "    padding = (max_val - min_val) * 0.1  # Add 10% padding\n",
    "    grid_min = min_val - padding\n",
    "    grid_max = max_val + padding\n",
    "    grid_min = max(grid_min, 0)\n",
    "    positions = np.linspace(grid_min, grid_max, num=124)\n",
    "    kernel = stats.gaussian_kde(data)\n",
    "    y = kernel(positions)\n",
    "    return positions, y\n",
    "\n",
    "source_dict = {key: {} for key in dfs.keys()}\n",
    "for key, dataset in dfs.items():\n",
    "    for i in columns:\n",
    "        data = dataset[i].dropna()\n",
    "        data = data[data != 0]\n",
    "        positions, y = kde(data)\n",
    "        source_dict[key][f\"{i}_x_identity\"] = positions\n",
    "        source_dict[key][f\"{i}_y_identity\"] = y\n",
    "        positions, y = kde(np.log10(data))\n",
    "        source_dict[key][f\"{i}_x_log\"] = positions\n",
    "        source_dict[key][f\"{i}_y_log\"] = y\n",
    "\n",
    "    source_dict[key][\"y\"] = source_dict[key][\"Amplitude (pA)_y_identity\"]\n",
    "    source_dict[key][\"x\"] = source_dict[key][\"Amplitude (pA)_x_identity\"]\n",
    "    source_dict[key] = ColumnDataSource(source_dict[key])"
   ]
  },
  {
   "cell_type": "markdown",
   "id": "0978e923",
   "metadata": {},
   "source": [
    "## Relationships between variables"
   ]
  },
  {
   "cell_type": "code",
   "execution_count": null,
   "id": "bdb691e5",
   "metadata": {},
   "outputs": [],
   "source": [
    "figs = []\n",
    "for key, value in source_dict.items():\n",
    "    fig = figure(height=250, width=350, title=key)\n",
    "    line = fig.line(x=\"x\", y=\"y\", source=value, line_color=\"black\")\n",
    "    figs.append(fig)\n",
    "\n",
    "menu = Select(title=\"Variables\", value=columns[0], options=columns)\n",
    "transform = Select(\n",
    "    title=\"Transform\",\n",
    "    value=\"identity\",\n",
    "    options=[\"identity\", \"log\"],\n",
    ")\n",
    "\n",
    "callback = CustomJS(\n",
    "    args=dict(\n",
    "        source=source_dict,\n",
    "        keys=list(source_dict.keys()),\n",
    "        menu=menu,\n",
    "        transform=transform\n",
    "    ),\n",
    "    code=\"\"\"\n",
    "    for (const item of keys) {\n",
    "        source[item].data.y = source[item].data[`${menu.value}_y_${transform.value}`];\n",
    "        source[item].data.x = source[item].data[`${menu.value}_x_${transform.value}`];\n",
    "        source[item].change.emit();\n",
    "    };\n",
    "\"\"\",\n",
    ")\n",
    "\n",
    "menu.js_on_change(\"value\", callback)\n",
    "transform.js_on_change(\"value\", callback)\n",
    "\n",
    "show(column(row(menu, transform), row(figs)))"
   ]
  }
 ],
 "metadata": {
  "kernelspec": {
   "display_name": "ephysbook (3.12.1)",
   "language": "python",
   "name": "python3"
  },
  "language_info": {
   "codemirror_mode": {
    "name": "ipython",
    "version": 3
   },
   "file_extension": ".py",
   "mimetype": "text/x-python",
   "name": "python",
   "nbconvert_exporter": "python",
   "pygments_lexer": "ipython3",
   "version": "3.12.1"
  }
 },
 "nbformat": 4,
 "nbformat_minor": 5
}
