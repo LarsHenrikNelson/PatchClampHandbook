{
 "cells": [
  {
   "cell_type": "markdown",
   "id": "b22188ae",
   "metadata": {},
   "source": [
    "# Miniature/spontaneous postsynaptic currents: Part 2\n",
    "\n",
    "In part 1 we covered how to extract the mEPSCs or sEPSCs. In this chapter we will dive into a more rigorous analysis of PSCs as well as look at how the shape of a PSC effects their integration."
   ]
  },
  {
   "cell_type": "code",
   "execution_count": null,
   "id": "142bca4d",
   "metadata": {},
   "outputs": [],
   "source": [
    "import numpy as np\n",
    "import pandas as pd\n",
    "from bokeh.io import output_notebook, show\n",
    "from bokeh.layouts import column, row\n",
    "from bokeh.models import ColumnDataSource, CustomJS, Select, Checkbox\n",
    "from bokeh.plotting import figure\n",
    "from scipy import stats\n",
    "\n",
    "output_notebook()"
   ]
  },
  {
   "cell_type": "code",
   "execution_count": 2,
   "id": "5c932579",
   "metadata": {},
   "outputs": [],
   "source": [
    "url_path = \"https://cdn.jsdelivr.net/gh/LarsHenrikNelson/PatchClampHandbook/data/\"\n",
    "pv = pd.read_csv(url_path + \"mini_data.csv\")"
   ]
  },
  {
   "cell_type": "markdown",
   "id": "0978e923",
   "metadata": {},
   "source": [
    "## Relationships between variables"
   ]
  },
  {
   "cell_type": "code",
   "execution_count": 6,
   "id": "bdb691e5",
   "metadata": {},
   "outputs": [],
   "source": [
    "fig = figure(height=250, width=400)\n",
    "columns = [\n",
    "    \"Est Tau (ms)\",\n",
    "    \"Rise Time (ms)\",\n",
    "    \"Amplitude (pA)\",\n",
    "    \"Rise Rate (pA/ms)\",\n",
    "    \"IEI (ms)\",\n",
    "]\n",
    "\n",
    "hist_dict = {}\n",
    "for i in columns:\n",
    "    data = pv[i]\n",
    "    min_val = min(data)\n",
    "    max_val = max(data)\n",
    "    padding = (max_val - min_val) * 0.1  # Add 10% padding\n",
    "    grid_min = min_val - padding\n",
    "    grid_max = max_val + padding\n",
    "    grid_min = max(grid_min, 0)\n",
    "    positions = np.linspace(grid_min, grid_max, num=124)\n",
    "    kernel = stats.gaussian_kde(data)\n",
    "    y = kernel(positions)\n",
    "    hist_dict[f\"{i}_x\"] = positions\n",
    "    hist_dict[f\"{i}_y\"] = y\n",
    "\n",
    "hist_dict[\"y\"] = hist_dict[\"Amplitude (pA)_y\"]\n",
    "hist_dict[\"x\"] = hist_dict[\"Amplitude (pA)_x\"]\n",
    "source = ColumnDataSource(hist_dict)\n",
    "\n",
    "line = fig.line(x=\"x\", y=\"y\", source=source, line_color=\"black\")\n",
    "\n",
    "menu = Select(title=\"Variables\", value=columns[0], options=columns)\n",
    "\n",
    "callback = CustomJS(\n",
    "    args=dict(\n",
    "        source=source,\n",
    "        menu=menu,\n",
    "    ),\n",
    "    code=\"\"\"\n",
    "    console.log(menu.value);\n",
    "    source.data.y = source.data[`${menu.value}_y`];\n",
    "    source.data.x = source.data[`${menu.value}_x`];\n",
    "    source.change.emit();\n",
    "\"\"\",\n",
    ")\n",
    "\n",
    "menu.js_on_change(\"value\", callback)\n",
    "\n",
    "show(column(row(menu), row(fig)))"
   ]
  },
  {
   "cell_type": "markdown",
   "id": "e0c31c45",
   "metadata": {},
   "source": []
  },
  {
   "cell_type": "code",
   "execution_count": null,
   "id": "af9f0c40",
   "metadata": {},
   "outputs": [],
   "source": [
    "scaled_events = events - events.max(axis=1, keepdims=True)\n",
    "scaled_events /= abs(scaled_events.min(axis=1, keepdims=True))\n",
    "source1 = ColumnDataSource(\n",
    "    {\"x\": list(x), \"events\": list(events), \"scaled_events\": list(scaled_events)}\n",
    ")\n",
    "source2 = ColumnDataSource(\n",
    "    {\n",
    "        \"x\": np.arange(max_event_length) / 10,\n",
    "        \"avg_event\": events.mean(axis=0),\n",
    "        \"avg_scaled\": scaled_events.mean(axis=0),\n",
    "    }\n",
    ")\n",
    "fig1 = figure(title=\"Events\", height=250, width=400, output_backend=\"webgl\")\n",
    "fig1.multi_line(\"x\", \"events\", source=source1, alpha=0.2, color=\"black\")\n",
    "fig1.line(\"x\", \"avg_event\", source=source2, color=\"orange\")\n",
    "fig2 = figure(title=\"Scaled events\", height=250, width=400, output_backend=\"webgl\")\n",
    "fig2.multi_line(\"x\", \"scaled_events\", source=source1, alpha=0.2, color=\"black\")\n",
    "fig2.line(\"x\", \"avg_scaled\", source=source2, color=\"orange\")\n",
    "show(row(fig1, fig2))"
   ]
  }
 ],
 "metadata": {
  "kernelspec": {
   "display_name": "handbook",
   "language": "python",
   "name": "python3"
  },
  "language_info": {
   "codemirror_mode": {
    "name": "ipython",
    "version": 3
   },
   "file_extension": ".py",
   "mimetype": "text/x-python",
   "name": "python",
   "nbconvert_exporter": "python",
   "pygments_lexer": "ipython3",
   "version": "3.12.0"
  }
 },
 "nbformat": 4,
 "nbformat_minor": 5
}
