{
 "cells": [
  {
   "cell_type": "code",
   "execution_count": null,
   "metadata": {
    "tags": [
     "remove-cell"
    ]
   },
   "outputs": [],
   "source": [
    "import pandas as pd\n",
    "from pathlib import Path\n",
    "cwd = Path.cwd().parent/\"data/external_solutions\""
   ]
  },
  {
   "cell_type": "markdown",
   "metadata": {},
   "source": [
    "(external_solutions)=\n",
    "# External solutions\n",
    "External solutions are very important for getting good recordings. External solutions are generally referred to as artificial cerebral spinal fluid (ACSF). Some recordings cannot be done without specific types of external solutions. Some protocols use different external solutions for cutting, incubation and recording while other protocols use one solution for everything. Some solutions need to be pH balanced by bubbling with carbogen gas (95% O2/5% CO2) and other solutions may not. Carbogen is also used to oxygenate tissue or cells in solution. If maintaining pH is not an issue, then O2 can be blown across the bath however, this is uncommon for standard slice electrophysiology. Osmolality of solutions is generally anywhere from 280-310 with the vast majority of papers reporting osmolality between 295-305. \n",
    "\n",
    "There are three stages of preparing and recording from brain slices for electrophysiology where different types of ACSF may be used: Cutting, recovery and recording. For cutting and/or recovery solutions labs often replace sodium chloride with NMDG, choline or sucrose. This is to prevent excess cell death due to rapid influx of NA+ and excitotoxic cell death or cell swelling then shrinkage. \n",
    "\n",
    "Some basic tips for making external solutions:\n",
    "- <font color=\"magenta\">**Important**</font>: Bubble the ACSF with carbogen before adding MgSO4, MgCl2 or CaCl2 as these can precipitate out. \n",
    "- <font color=\"magenta\">**Important**</font>: Bubble CaCl2 with carbogen before adding to the ACSF. \n",
    "- Use volumetric flasks if possible.\n",
    "- Always start with less water than you need, add the reagents and then top off the solution with water to the volume you need. \n",
    "- Always use high purity water, typically water made by a MilliQ machine or water that had ~18.2 MOhm of resistance (this is highly pure water).\n",
    "- Make stock solutions as these will save you time. Osmolarity can be adjusted primarily with glucose or dextrose.\n",
    "- Magnesium comes in a SO4 or a Cl2 form. Both forms are hydrated which means that the molecular weight is primarly water. You will need to caculate the pure molecular weight of MgSO4 or MgCl2 to calculate the concentration and adjust the amount of reagent used to account for the hydration of the magnesium reagent.\n",
    "- It is important to note that the NaCl and glucose/dextrose concentrations can be adjusted and are often different for lab to lab.\n",
    "- The Mg and Ca concentrations are often different from lab to lab however, you will the Ca concentration to be as much or more than the Mg concentrations."
   ]
  },
  {
   "cell_type": "markdown",
   "metadata": {},
   "source": [
    "## External solution recipes"
   ]
  },
  {
   "cell_type": "markdown",
   "metadata": {},
   "source": [
    "### Standard/Recording ACSF\n",
    "Standard ACSF is the primary solution for electrophysiology recording.  It generally contains Na+, K+, Ca2+, Mg2+, sodium phosphate (typically monosodium monophosphate monohydrate), sodium bicarbonate and glucose. The exact concentrations may vary by lab and there is typically no given reason for the small differences you will see between standard ACSF recipes. Recipes are handed down from lab personnel to lab personnel so the original considerations for using the recipe are typically lost to time. The concentrations of each of the ions are designed to mimic the environment in the brain and maintain a normal ionic gradient in the tissue/cells. Sodium bicarbonate provides pH buffering when the solution is bubbled with carbogen. Glucose is used for providing energy to the cells and also is an easy way to adjust the osmolarity without changing the ionic concentrations. Sodium phosphate is used to help balance the pH. Below is a protocol that you can use. You might see slight variations of the same protocol used in papers. For the KCl, MgCl2, and CaCl2 you can make 10x stock solutions.  \n",
    "\n",
    "Notes:\n",
    "- The first 4 ingredients can made as a 10x stock solution. \n",
    "- Bubble the ACSF with carbogen before adding MgCl2 or CaCl2 as these can precipitate out. \n",
    "- CaCl2 can be bubbled with carbogen before adding to the ACSF."
   ]
  },
  {
   "cell_type": "code",
   "execution_count": null,
   "metadata": {
    "tags": [
     "remove-input"
    ]
   },
   "outputs": [],
   "source": [
    "df = pd.read_csv(cwd/\"standard_acsf.csv\")\n",
    "styled_df = df.style.format(precision=2)\n",
    "styled_df.hide()"
   ]
  },
  {
   "cell_type": "markdown",
   "metadata": {},
   "source": [
    "### Choline ACSF \n",
    "Choline ACSF is like standard ACSF except that choline chloride is used instead of sodium chloride. Choline chloride is a methylated organic cation that leads to decreased sodium channel permeability. Choline ACSF can be used as a perfusion, cutting and short duration (~10 min) recovery solution. When used as a cutting solution it is generally chilled and when used as a recovery solution it is generally heated to ~32 C. Choline ACSF also contains thiourea (occasionally), Na-pyruvate and Na-ascorbate. Choline ACSF can be chilled before use or even frozen to a slush. However, we have found that slushy choline ACSF during the slicing step is bad for adult tissue. We advise using either room temperature or chilled choline ACSF. Choline is a mild agonist at acetylcholine receptors so if you are studying the cholinergic system do not use choline ACSF. When choline ACFS is used as a recovery solution do not leave the slices in choline ACSF for more than 10-15 min. In my hands prolonged incubation in choline ACSF increases access resistance to the point where it is impossible to get usable cells.\n",
    "\n",
    "Recipe notes:\n",
    "- The first 3 ingredients can be made as a 10x stock solution.\n",
    "- Choline is solid as a dehydrated powder and hydrates fairly quickly. It should be stored in a desiccant box or under vacuum. When choline hydrates it seems to go bad quickly. Choline hydration can change how much choline you are adding since there is water mixed in with the choline."
   ]
  },
  {
   "cell_type": "code",
   "execution_count": null,
   "metadata": {
    "tags": [
     "remove-input"
    ]
   },
   "outputs": [],
   "source": [
    "df = pd.read_csv(cwd/\"choline_acsf.csv\")\n",
    "styled_df = df.style.format(precision=2)\n",
    "styled_df.hide()"
   ]
  },
  {
   "cell_type": "markdown",
   "metadata": {},
   "source": [
    "### NMDG ACSF \n",
    "NMDG ACSF is similar to standard ACSF except that NMDG replaces the sodium chloride. NMDG chloride is a methylated organic cation that leads to decreased sodium channel permeability. NMDG ACSF can be used as a perfusion, cutting and short duration (~10 min) recovery solution. When used as a cutting solution it is generally chilled and when used as a recovery solution it is generally heated to ~32 C. NMDG ACSF also contains thiourea, Na-pyruvate and Na-ascorbate. NMDG ACSF can be chilled or used at room temperature for the slicing step. Freezing the NMDG to the point of being slushy is not recommended. Compared to sucrose based ACSF, NMDG is more effective at preventing cell swelling immediately after cutting and cell shrinkage in the long term. There are no studies comparing choline and NMDG. Do not leave your slices in the NMDG recovery solution for more than 12 min {cite}`martina_patch-clamp_2014`. NMDG recovery seems to promote good neuronal morphology at the expense of good neuronal function (i.e. your good neurons are easier to see but so are the bad neurons even if they don't look bad).\n",
    "\n",
    "Recipe notes:\n",
    "- The first 5 ingredients can be made as a 3x stock solution. The solution needs to have the pH adjusted with HCl to 7.3 before. The solution start off as cloudy and turn clear once the pH is 7.3. \n",
    "- Before adding the any reagents below HEPES make sure the pH is at 7.4 "
   ]
  },
  {
   "cell_type": "code",
   "execution_count": null,
   "metadata": {
    "tags": [
     "remove-input"
    ]
   },
   "outputs": [],
   "source": [
    "df = pd.read_csv(cwd/\"nmdg_acsf.csv\")\n",
    "styled_df = df.style.format(precision=2)\n",
    "styled_df.hide()"
   ]
  },
  {
   "cell_type": "markdown",
   "metadata": {},
   "source": [
    "### HEPES Holding ACSF \n",
    "HEPES holding ACSF is like standard ACSF except that it has lower Na+ and has HEPES added to prevent edema. Edema primarily occurs in adult brain slices, the older the mouse/rat the tissue came from the worse the edema. HEPES ACSF also contains thiourea, Na-pyruvate and Na-ascorbate similar to what you would find in the choline and NMDG ACSF. \n",
    "\n",
    "Recipe notes:\n",
    "- The first 5 ingredients can be made as a 10x stock solution."
   ]
  },
  {
   "cell_type": "code",
   "execution_count": null,
   "metadata": {
    "tags": [
     "remove-input"
    ]
   },
   "outputs": [],
   "source": [
    "df = pd.read_csv(cwd/\"hepes_acsf.csv\")\n",
    "styled_df = df.style.format(precision=2)\n",
    "styled_df.hide()"
   ]
  },
  {
   "cell_type": "markdown",
   "metadata": {},
   "source": [
    "### Sucrose ACSF \n",
    "Sucrose ACSF has all or some of the Na+ replaced with sucrose. The sucrose is primarily used to keep the osmolarity the same when the Na+ is removed. Sucrose ACSF can be used for perfusion, cutting and recovery, but not for holding or recording ACSF. "
   ]
  },
  {
   "cell_type": "code",
   "execution_count": null,
   "metadata": {
    "tags": [
     "remove-input"
    ]
   },
   "outputs": [],
   "source": [
    "df = pd.read_csv(cwd/\"sucrose_acsf.csv\")\n",
    "styled_df = df.style.format(precision=2)\n",
    "styled_df.hide()"
   ]
  },
  {
   "cell_type": "markdown",
   "metadata": {},
   "source": [
    "### Low magnesium ACSF\n",
    "Magnesium-free ACSF is ACSF with very little or no magnesium added and increased Ca2+ to make up for the osmolarity and ionic gradient difference. The only time I have seen this used is if you want to record NMDAR currents at -70 mV. Additionally, you will need to add TTX to the ACSF to prevent seizure-like activity."
   ]
  },
  {
   "cell_type": "code",
   "execution_count": null,
   "metadata": {
    "tags": [
     "remove-input"
    ]
   },
   "outputs": [],
   "source": [
    "df = pd.read_csv(cwd/\"low_magnesium_acsf.csv\")\n",
    "styled_df = df.style.format(precision=2)\n",
    "styled_df.hide()"
   ]
  },
  {
   "cell_type": "markdown",
   "metadata": {},
   "source": [
    "### Strontium ACSF \n",
    "\n",
    "Strontium ACSF has the calcium replaced with Sr2+. Generally, strontium ACSF recording projection/cell-type specific quantal events. Sr2+ is less effectively bound by proteins that are involved in synaptic vesicle release. As such when doing electrical or optogenetic stimulation you can get a large peak followed by small quantal events that occur during the decay of the event. It is not recommended to use this ACSF for holding tissue for long periods of time. See the optogenetic stimulation section for more about this experiment. \n",
    "\n",
    "Tissue generally needs to sit in Sr2+ ACSF for 15-30 min before enough Sr2+ had diffused intracellularly. You may be able to shorten the incubation period by increasing the Sr2+ concentration above what you normally use for Ca2+. \n",
    "\n",
    "Recipe notes:\n",
    "- It is recommended to add ~20 uM EGTA in the ACSF to bind any extra free Ca2+ that may be introduced by transferring the tissue to the bath or by Ca2+ that is released by the cells internal stores. "
   ]
  },
  {
   "cell_type": "code",
   "execution_count": null,
   "metadata": {
    "tags": [
     "remove-input"
    ]
   },
   "outputs": [],
   "source": [
    "df = pd.read_csv(cwd/\"strontium_acsf.csv\")\n",
    "styled_df = df.style.format(precision=2)\n",
    "styled_df.hide()"
   ]
  },
  {
   "cell_type": "markdown",
   "metadata": {},
   "source": [
    "## Drugs included in the external solutions\n",
    "There are a variety drugs and their concentrations that you can include in your external solutions. These drugs are primarily used to target different receptors. Below is a list of drugs and why they are used. Note that this list is not comprehensive.\n",
    "- (RS)-CPP/(R)-CPP (10 uM): Blocks NMDA receptors\n",
    "- NBQX (1 uM): Blocks AMPA and Kainate receptors\n",
    "- CNQX (10 uM): Blocks AMPA and Kainate receptors\n",
    "- DNQX (10 uM): Block AMPA and Kainate receptors\n",
    "- Gabazine/SR-95531 (2-20 uM): GABAA receptors\n",
    "- TTX (0.3-1 uM): Blocks voltage-gated Na+ channel\n",
    "- Picrotoxin (50 uM): Blocks GABAA receptors\n",
    "- AP5 (50 uM): Blocks NMDA receptors\n",
    "- 4-AP (50-1000 uM): Blocks voltage-gated K+ channels\n",
    "- Strychnine: Blocks glycine receptors\n",
    "- ZD-7288 (20 uM): Blocks HCN channels\n",
    "- TEA (5 uM): Blocks K+ channels\n",
    "- Cadmium chloride (0.1 uM): Blocks Ca2+ channels\n",
    "- Barium chloride (1 mM): Blocks K+ channels"
   ]
  }
 ],
 "metadata": {
  "kernelspec": {
   "display_name": "handbook",
   "language": "python",
   "name": "python3"
  },
  "language_info": {
   "codemirror_mode": {
    "name": "ipython",
    "version": 3
   },
   "file_extension": ".py",
   "mimetype": "text/x-python",
   "name": "python",
   "nbconvert_exporter": "python",
   "pygments_lexer": "ipython3",
   "version": "3.12.9"
  }
 },
 "nbformat": 4,
 "nbformat_minor": 2
}
