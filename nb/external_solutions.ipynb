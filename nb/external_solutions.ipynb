{
 "cells": [
  {
   "cell_type": "markdown",
   "metadata": {},
   "source": [
    "# External solutions\n",
    "External solutions are very important for getting good recordings. External solutions are generally referred to as artificial cerebral spinal fluid (ACSF). Some recordings cannot be done without specific types of external solutions. Some protocols use different external solutions for cutting, incubation and recording while other protocols use one solution for everything. Some solutions need to be pH balanced by bubbling with carbogen gas (95% O2/5% CO2) and other solutions may not. Carbogen is also used to oxygenate tissue or cells in solution. If maintaining pH is not an issue, then O2 can be blown across the bath however, this is uncommon for standard slice electrophysiology. Osmolality of solutions is generally anywhere from 280-310 with the vast majority of papers reporting osmolality between 295-305. \n",
    "\n",
    "There are three stages of preparing and recording from brain slices for electrophysiology where different types of ACSF may be used: Cutting, recovery and recording. For cutting and/or recovery solutions labs often replace sodium chloride with NMDG, choline or sucrose. This is to prevent excess cell death due to rapid influx of NA+ and excitotoxic cell death or cell swelling then shrinkage. \n",
    "\n",
    "Some basic tips for making external solutions. Use volumetric flasks if possible. Always start with less water than you need, add the reagents and then top off the solution with water to the volume you need. Always use high purity water, typically water made by a MilliQ machine or water that had ~18.2 MOhm of resistance (this is highly pure water). Make stock solutions as these will save you time. Osmolarity can be adjusted primarily with glucose or dextrose. "
   ]
  },
  {
   "cell_type": "markdown",
   "metadata": {},
   "source": [
    "## Standard/Recording ACSF\n",
    "Standard ACSF is the primary solution for electrophysiology recording.  It generally contains Na+, K+, Ca2+, Mg2+, sodium phosphate (typically monosodium monophosphate monohydrate), sodium bicarbonate and glucose. The exact concentrations may vary by lab and there is typically no given reason for the small differences you will see between standard ACSF recipes. Recipes are handed down from lab personnel to lab personnel so the original considerations for using the recipe are typically lost to time. The concentrations of each of the ions are designed to mimic the environment in the brain and maintain a normal ionic gradient in the tissue/cells. Sodium bicarbonate provides pH buffering when the solution is bubbled with carbogen. Glucose is used for providing energy to the cells and also is an easy way to adjust the osmolarity without changing the ionic concentrations. Sodium phosphate is used to help balance the pH. Below is a protocol that you can use. You might see slight variations of the same protocol used in papers. For the KCl, MgCl2, and CaCl2 you can make 10x stock solutions. "
   ]
  }
 ],
 "metadata": {
  "language_info": {
   "name": "python"
  }
 },
 "nbformat": 4,
 "nbformat_minor": 2
}
