{
 "cells": [
  {
   "cell_type": "code",
   "execution_count": 1,
   "metadata": {
    "tags": [
     "remove-cell"
    ]
   },
   "outputs": [],
   "source": [
    "import pandas as pd\n",
    "from pathlib import Path\n",
    "cwd = Path.cwd().parent/\"data/external_solutions\""
   ]
  },
  {
   "cell_type": "markdown",
   "metadata": {},
   "source": [
    "# External solutions\n",
    "External solutions are very important for getting good recordings. External solutions are generally referred to as artificial cerebral spinal fluid (ACSF). Some recordings cannot be done without specific types of external solutions. Some protocols use different external solutions for cutting, incubation and recording while other protocols use one solution for everything. Some solutions need to be pH balanced by bubbling with carbogen gas (95% O2/5% CO2) and other solutions may not. Carbogen is also used to oxygenate tissue or cells in solution. If maintaining pH is not an issue, then O2 can be blown across the bath however, this is uncommon for standard slice electrophysiology. Osmolality of solutions is generally anywhere from 280-310 with the vast majority of papers reporting osmolality between 295-305. \n",
    "\n",
    "There are three stages of preparing and recording from brain slices for electrophysiology where different types of ACSF may be used: Cutting, recovery and recording. For cutting and/or recovery solutions labs often replace sodium chloride with NMDG, choline or sucrose. This is to prevent excess cell death due to rapid influx of NA+ and excitotoxic cell death or cell swelling then shrinkage. \n",
    "\n",
    "Some basic tips for making external solutions:\n",
    "- <font color=\"magenta\">**Important**</font>: Bubble the ACSF with carbogen before adding MgSO4 or CaCl2 as these can precipitate out. \n",
    "- <font color=\"magenta\">**Important**</font>: Bubble CaCl2 with carbogen before adding to the ACSF. \n",
    "- Use volumetric flasks if possible.\n",
    "- Always start with less water than you need, add the reagents and then top off the solution with water to the volume you need. \n",
    "- Always use high purity water, typically water made by a MilliQ machine or water that had ~18.2 MOhm of resistance (this is highly pure water).\n",
    "- Make stock solutions as these will save you time. Osmolarity can be adjusted primarily with glucose or dextrose.\n",
    "- Magnesium comes in a SO4 or a Cl2 form. Both forms are hydrated which means that the molecular weight is primarly water. You will need to caculate the pure molecular weight of MgSO4 or MgCl2 to calculate the concentration and adjust the amount of reagent used to account for the hydration of the magnesium reagent.\n",
    "- It is important to note that the NaCl and glucose/dextrose concentrations can be adjusted and are often different for lab to lab.\n",
    "- The Mg and Ca concentrations are often different from lab to lab however, you will the Ca concentration to be as much or more than the Mg concentrations."
   ]
  },
  {
   "cell_type": "markdown",
   "metadata": {},
   "source": [
    "## Standard/Recording ACSF\n",
    "Standard ACSF is the primary solution for electrophysiology recording.  It generally contains Na+, K+, Ca2+, Mg2+, sodium phosphate (typically monosodium monophosphate monohydrate), sodium bicarbonate and glucose. The exact concentrations may vary by lab and there is typically no given reason for the small differences you will see between standard ACSF recipes. Recipes are handed down from lab personnel to lab personnel so the original considerations for using the recipe are typically lost to time. The concentrations of each of the ions are designed to mimic the environment in the brain and maintain a normal ionic gradient in the tissue/cells. Sodium bicarbonate provides pH buffering when the solution is bubbled with carbogen. Glucose is used for providing energy to the cells and also is an easy way to adjust the osmolarity without changing the ionic concentrations. Sodium phosphate is used to help balance the pH. Below is a protocol that you can use. You might see slight variations of the same protocol used in papers. For the KCl, MgCl2, and CaCl2 you can make 10x stock solutions.  \n",
    "\n",
    "Notes:\n",
    "- The first 4 ingredients can made as a 10x stock solution. \n",
    "- Bubble the ACSF with carbogen before adding MgCl2 or CaCl2 as these can precipitate out. \n",
    "- CaCl2 can be bubbled with carbogen before adding to the ACSF."
   ]
  },
  {
   "cell_type": "code",
   "execution_count": 2,
   "metadata": {
    "tags": [
     "remove-input"
    ]
   },
   "outputs": [
    {
     "data": {
      "text/html": [
       "<style type=\"text/css\">\n",
       "</style>\n",
       "<table id=\"T_3e277\">\n",
       "  <thead>\n",
       "    <tr>\n",
       "      <th id=\"T_3e277_level0_col0\" class=\"col_heading level0 col0\" >Reagent</th>\n",
       "      <th id=\"T_3e277_level0_col1\" class=\"col_heading level0 col1\" >Molar Mass (g/mol)</th>\n",
       "      <th id=\"T_3e277_level0_col2\" class=\"col_heading level0 col2\" >Concentration (mM)</th>\n",
       "      <th id=\"T_3e277_level0_col3\" class=\"col_heading level0 col3\" >g per 1L</th>\n",
       "    </tr>\n",
       "  </thead>\n",
       "  <tbody>\n",
       "    <tr>\n",
       "      <td id=\"T_3e277_row0_col0\" class=\"data row0 col0\" >Sodium Bicarbonate</td>\n",
       "      <td id=\"T_3e277_row0_col1\" class=\"data row0 col1\" >84.01</td>\n",
       "      <td id=\"T_3e277_row0_col2\" class=\"data row0 col2\" >25.00</td>\n",
       "      <td id=\"T_3e277_row0_col3\" class=\"data row0 col3\" >2.10</td>\n",
       "    </tr>\n",
       "    <tr>\n",
       "      <td id=\"T_3e277_row1_col0\" class=\"data row1 col0\" >NaCl</td>\n",
       "      <td id=\"T_3e277_row1_col1\" class=\"data row1 col1\" >58.44</td>\n",
       "      <td id=\"T_3e277_row1_col2\" class=\"data row1 col2\" >125.00</td>\n",
       "      <td id=\"T_3e277_row1_col3\" class=\"data row1 col3\" >7.31</td>\n",
       "    </tr>\n",
       "    <tr>\n",
       "      <td id=\"T_3e277_row2_col0\" class=\"data row2 col0\" >Sodium Phosphate monobasic monohydrate</td>\n",
       "      <td id=\"T_3e277_row2_col1\" class=\"data row2 col1\" >137.99</td>\n",
       "      <td id=\"T_3e277_row2_col2\" class=\"data row2 col2\" >1.25</td>\n",
       "      <td id=\"T_3e277_row2_col3\" class=\"data row2 col3\" >0.172</td>\n",
       "    </tr>\n",
       "    <tr>\n",
       "      <td id=\"T_3e277_row3_col0\" class=\"data row3 col0\" >KCl (1M liquid stock)</td>\n",
       "      <td id=\"T_3e277_row3_col1\" class=\"data row3 col1\" >74.56</td>\n",
       "      <td id=\"T_3e277_row3_col2\" class=\"data row3 col2\" >2.50</td>\n",
       "      <td id=\"T_3e277_row3_col3\" class=\"data row3 col3\" >2.5 mL</td>\n",
       "    </tr>\n",
       "    <tr>\n",
       "      <td id=\"T_3e277_row4_col0\" class=\"data row4 col0\" >Glucose</td>\n",
       "      <td id=\"T_3e277_row4_col1\" class=\"data row4 col1\" >180.20</td>\n",
       "      <td id=\"T_3e277_row4_col2\" class=\"data row4 col2\" >12.50</td>\n",
       "      <td id=\"T_3e277_row4_col3\" class=\"data row4 col3\" >2.25</td>\n",
       "    </tr>\n",
       "    <tr>\n",
       "      <td id=\"T_3e277_row5_col0\" class=\"data row5 col0\" >MgCl2 6*H2O (1M liquid Stock)</td>\n",
       "      <td id=\"T_3e277_row5_col1\" class=\"data row5 col1\" >203.30</td>\n",
       "      <td id=\"T_3e277_row5_col2\" class=\"data row5 col2\" >1.00</td>\n",
       "      <td id=\"T_3e277_row5_col3\" class=\"data row5 col3\" >1 mL</td>\n",
       "    </tr>\n",
       "    <tr>\n",
       "      <td id=\"T_3e277_row6_col0\" class=\"data row6 col0\" >CaCl2 (1M Stock)</td>\n",
       "      <td id=\"T_3e277_row6_col1\" class=\"data row6 col1\" >147.02</td>\n",
       "      <td id=\"T_3e277_row6_col2\" class=\"data row6 col2\" >2.00</td>\n",
       "      <td id=\"T_3e277_row6_col3\" class=\"data row6 col3\" >2 mL</td>\n",
       "    </tr>\n",
       "  </tbody>\n",
       "</table>\n"
      ],
      "text/plain": [
       "<pandas.io.formats.style.Styler at 0x70632815e6f0>"
      ]
     },
     "execution_count": 2,
     "metadata": {},
     "output_type": "execute_result"
    }
   ],
   "source": [
    "df = pd.read_csv(cwd/\"standard_acsf.csv\")\n",
    "styled_df = df.style.format(precision=2)\n",
    "styled_df.hide()"
   ]
  },
  {
   "cell_type": "markdown",
   "metadata": {},
   "source": [
    "## Choline ACSF \n",
    "Choline ACSF is like standard ACSF except that choline chloride is used instead of sodium chloride. Choline chloride is a methylated organic cation that leads to decreased sodium channel permeability. Choline ACSF can be used as a perfusion, cutting and short duration (~10 min) recovery solution. When used as a cutting solution it is generally chilled and when used as a recovery solution it is generally heated to ~32 C. Choline ACSF also contains thiourea (occasionally), Na-pyruvate and Na-ascorbate. Choline ACSF can be chilled before use or even frozen to a slush. However, we have found that slushy choline ACSF during the slicing step is bad for adult tissue. We advise using either room temperature or chilled choline ACSF. Choline is a mild agonist at acetylcholine receptors so if you are studying the cholinergic system do not use choline ACSF. When choline ACFS is used as a recovery solution do not leave the slices in choline ACSF for more than 10-15 min. In my hands prolonged incubation in choline ACSF increases access resistance to the point where it is impossible to get usable cells.\n",
    "\n",
    "Recipe notes:\n",
    "- The first 3 ingredients can be made as a 10x stock solution.\n",
    "- Choline is solid as a dehydrated powder and hydrates fairly quickly. It should be stored in a desiccant box or under vacuum. When choline hydrates it seems to go bad quickly. Choline hydration can change how much choline you are adding since there is water mixed in with the choline."
   ]
  },
  {
   "cell_type": "code",
   "execution_count": 3,
   "metadata": {
    "tags": [
     "remove-input"
    ]
   },
   "outputs": [
    {
     "data": {
      "text/html": [
       "<style type=\"text/css\">\n",
       "</style>\n",
       "<table id=\"T_da52b\">\n",
       "  <thead>\n",
       "    <tr>\n",
       "      <th id=\"T_da52b_level0_col0\" class=\"col_heading level0 col0\" >Reagent</th>\n",
       "      <th id=\"T_da52b_level0_col1\" class=\"col_heading level0 col1\" >Molar Mass (g/mol)</th>\n",
       "      <th id=\"T_da52b_level0_col2\" class=\"col_heading level0 col2\" >Concentration (mM)</th>\n",
       "      <th id=\"T_da52b_level0_col3\" class=\"col_heading level0 col3\" >g per 1L</th>\n",
       "    </tr>\n",
       "  </thead>\n",
       "  <tbody>\n",
       "    <tr>\n",
       "      <td id=\"T_da52b_row0_col0\" class=\"data row0 col0\" >Sodium Bicarbonate</td>\n",
       "      <td id=\"T_da52b_row0_col1\" class=\"data row0 col1\" >84.01</td>\n",
       "      <td id=\"T_da52b_row0_col2\" class=\"data row0 col2\" >25.00</td>\n",
       "      <td id=\"T_da52b_row0_col3\" class=\"data row0 col3\" >2.10</td>\n",
       "    </tr>\n",
       "    <tr>\n",
       "      <td id=\"T_da52b_row1_col0\" class=\"data row1 col0\" >Sodium Phosphate monobasic monohydrate</td>\n",
       "      <td id=\"T_da52b_row1_col1\" class=\"data row1 col1\" >137.99</td>\n",
       "      <td id=\"T_da52b_row1_col2\" class=\"data row1 col2\" >1.25</td>\n",
       "      <td id=\"T_da52b_row1_col3\" class=\"data row1 col3\" >0.172</td>\n",
       "    </tr>\n",
       "    <tr>\n",
       "      <td id=\"T_da52b_row2_col0\" class=\"data row2 col0\" >KCl (1M stock)</td>\n",
       "      <td id=\"T_da52b_row2_col1\" class=\"data row2 col1\" >74.56</td>\n",
       "      <td id=\"T_da52b_row2_col2\" class=\"data row2 col2\" >2.50</td>\n",
       "      <td id=\"T_da52b_row2_col3\" class=\"data row2 col3\" >2.5 mL</td>\n",
       "    </tr>\n",
       "    <tr>\n",
       "      <td id=\"T_da52b_row3_col0\" class=\"data row3 col0\" >MgCl2 6*H2O (1M stock)</td>\n",
       "      <td id=\"T_da52b_row3_col1\" class=\"data row3 col1\" >203.31</td>\n",
       "      <td id=\"T_da52b_row3_col2\" class=\"data row3 col2\" >7.00</td>\n",
       "      <td id=\"T_da52b_row3_col3\" class=\"data row3 col3\" >7 mL</td>\n",
       "    </tr>\n",
       "    <tr>\n",
       "      <td id=\"T_da52b_row4_col0\" class=\"data row4 col0\" >Glucose</td>\n",
       "      <td id=\"T_da52b_row4_col1\" class=\"data row4 col1\" >180.20</td>\n",
       "      <td id=\"T_da52b_row4_col2\" class=\"data row4 col2\" >12.50</td>\n",
       "      <td id=\"T_da52b_row4_col3\" class=\"data row4 col3\" >2.25</td>\n",
       "    </tr>\n",
       "    <tr>\n",
       "      <td id=\"T_da52b_row5_col0\" class=\"data row5 col0\" >CaCl2 (1M stock)</td>\n",
       "      <td id=\"T_da52b_row5_col1\" class=\"data row5 col1\" >147.02</td>\n",
       "      <td id=\"T_da52b_row5_col2\" class=\"data row5 col2\" >0.50</td>\n",
       "      <td id=\"T_da52b_row5_col3\" class=\"data row5 col3\" >0.5 mL</td>\n",
       "    </tr>\n",
       "    <tr>\n",
       "      <td id=\"T_da52b_row6_col0\" class=\"data row6 col0\" >Choline Chloride</td>\n",
       "      <td id=\"T_da52b_row6_col1\" class=\"data row6 col1\" >139.60</td>\n",
       "      <td id=\"T_da52b_row6_col2\" class=\"data row6 col2\" >110.00</td>\n",
       "      <td id=\"T_da52b_row6_col3\" class=\"data row6 col3\" >15.36</td>\n",
       "    </tr>\n",
       "    <tr>\n",
       "      <td id=\"T_da52b_row7_col0\" class=\"data row7 col0\" >Ascorbic acid</td>\n",
       "      <td id=\"T_da52b_row7_col1\" class=\"data row7 col1\" >198.10</td>\n",
       "      <td id=\"T_da52b_row7_col2\" class=\"data row7 col2\" >11.60</td>\n",
       "      <td id=\"T_da52b_row7_col3\" class=\"data row7 col3\" >2.3</td>\n",
       "    </tr>\n",
       "  </tbody>\n",
       "</table>\n"
      ],
      "text/plain": [
       "<pandas.io.formats.style.Styler at 0x7063207116d0>"
      ]
     },
     "execution_count": 3,
     "metadata": {},
     "output_type": "execute_result"
    }
   ],
   "source": [
    "df = pd.read_csv(cwd/\"choline_acsf.csv\")\n",
    "styled_df = df.style.format(precision=2)\n",
    "styled_df.hide()"
   ]
  },
  {
   "cell_type": "markdown",
   "metadata": {},
   "source": [
    "## NMDG ACSF \n",
    "NMDG ACSF is similar to standard ACSF except that NMDG replaces the sodium chloride. NMDG chloride is a methylated organic cation that leads to decreased sodium channel permeability. NMDG ACSF can be used as a perfusion, cutting and short duration (~10 min) recovery solution. When used as a cutting solution it is generally chilled and when used as a recovery solution it is generally heated to ~32 C. NMDG ACSF also contains thiourea, Na-pyruvate and Na-ascorbate. NMDG ACSF can be chilled or used at room temperature for the slicing step. Freezing the NMDG to the point of being slushy is not recommended. Compared to sucrose based ACSF, NMDG is more effective at preventing cell swelling immediately after cutting and cell shrinkage in the long term. There are no studies comparing choline and NMDG. Do not leave your slices in the NMDG recovery solution for more than 12 min {cite}`martina_patch-clamp_2014`.\n",
    "\n",
    "Recipe notes:\n",
    "- The first 5 ingredients can be made as a 3x stock solution. The solution needs to have the pH adjusted with HCl to 7.4 before storage. \n",
    "- Before adding the any reagents below HEPES make sure the pH is at 7.4 "
   ]
  },
  {
   "cell_type": "code",
   "execution_count": 4,
   "metadata": {
    "tags": [
     "remove-input"
    ]
   },
   "outputs": [
    {
     "data": {
      "text/html": [
       "<style type=\"text/css\">\n",
       "</style>\n",
       "<table id=\"T_a9fc1\">\n",
       "  <thead>\n",
       "    <tr>\n",
       "      <th id=\"T_a9fc1_level0_col0\" class=\"col_heading level0 col0\" >Reagent</th>\n",
       "      <th id=\"T_a9fc1_level0_col1\" class=\"col_heading level0 col1\" >Molar Mass (g/mol)</th>\n",
       "      <th id=\"T_a9fc1_level0_col2\" class=\"col_heading level0 col2\" >Concentration (mM)</th>\n",
       "      <th id=\"T_a9fc1_level0_col3\" class=\"col_heading level0 col3\" >g per 1L</th>\n",
       "    </tr>\n",
       "  </thead>\n",
       "  <tbody>\n",
       "    <tr>\n",
       "      <td id=\"T_a9fc1_row0_col0\" class=\"data row0 col0\" >NMDG</td>\n",
       "      <td id=\"T_a9fc1_row0_col1\" class=\"data row0 col1\" >195.22</td>\n",
       "      <td id=\"T_a9fc1_row0_col2\" class=\"data row0 col2\" >92.00</td>\n",
       "      <td id=\"T_a9fc1_row0_col3\" class=\"data row0 col3\" >5.02</td>\n",
       "    </tr>\n",
       "    <tr>\n",
       "      <td id=\"T_a9fc1_row1_col0\" class=\"data row1 col0\" >KCl</td>\n",
       "      <td id=\"T_a9fc1_row1_col1\" class=\"data row1 col1\" >74.55</td>\n",
       "      <td id=\"T_a9fc1_row1_col2\" class=\"data row1 col2\" >2.50</td>\n",
       "      <td id=\"T_a9fc1_row1_col3\" class=\"data row1 col3\" >0.18</td>\n",
       "    </tr>\n",
       "    <tr>\n",
       "      <td id=\"T_a9fc1_row2_col0\" class=\"data row2 col0\" >Sodium Phosphate monobasic monohydrate</td>\n",
       "      <td id=\"T_a9fc1_row2_col1\" class=\"data row2 col1\" >138.00</td>\n",
       "      <td id=\"T_a9fc1_row2_col2\" class=\"data row2 col2\" >1.20</td>\n",
       "      <td id=\"T_a9fc1_row2_col3\" class=\"data row2 col3\" >0.16</td>\n",
       "    </tr>\n",
       "    <tr>\n",
       "      <td id=\"T_a9fc1_row3_col0\" class=\"data row3 col0\" >Sodium Bicarbonate</td>\n",
       "      <td id=\"T_a9fc1_row3_col1\" class=\"data row3 col1\" >84.01</td>\n",
       "      <td id=\"T_a9fc1_row3_col2\" class=\"data row3 col2\" >35.00</td>\n",
       "      <td id=\"T_a9fc1_row3_col3\" class=\"data row3 col3\" >2.94</td>\n",
       "    </tr>\n",
       "    <tr>\n",
       "      <td id=\"T_a9fc1_row4_col0\" class=\"data row4 col0\" >HEPES</td>\n",
       "      <td id=\"T_a9fc1_row4_col1\" class=\"data row4 col1\" >238.31</td>\n",
       "      <td id=\"T_a9fc1_row4_col2\" class=\"data row4 col2\" >20.00</td>\n",
       "      <td id=\"T_a9fc1_row4_col3\" class=\"data row4 col3\" >4.76</td>\n",
       "    </tr>\n",
       "    <tr>\n",
       "      <td id=\"T_a9fc1_row5_col0\" class=\"data row5 col0\" >Glucose</td>\n",
       "      <td id=\"T_a9fc1_row5_col1\" class=\"data row5 col1\" >180.20</td>\n",
       "      <td id=\"T_a9fc1_row5_col2\" class=\"data row5 col2\" >25.00</td>\n",
       "      <td id=\"T_a9fc1_row5_col3\" class=\"data row5 col3\" >4.5</td>\n",
       "    </tr>\n",
       "    <tr>\n",
       "      <td id=\"T_a9fc1_row6_col0\" class=\"data row6 col0\" >Sodium Ascorbate</td>\n",
       "      <td id=\"T_a9fc1_row6_col1\" class=\"data row6 col1\" >198.00</td>\n",
       "      <td id=\"T_a9fc1_row6_col2\" class=\"data row6 col2\" >5.00</td>\n",
       "      <td id=\"T_a9fc1_row6_col3\" class=\"data row6 col3\" >1</td>\n",
       "    </tr>\n",
       "    <tr>\n",
       "      <td id=\"T_a9fc1_row7_col0\" class=\"data row7 col0\" >Thiourea</td>\n",
       "      <td id=\"T_a9fc1_row7_col1\" class=\"data row7 col1\" >76.12</td>\n",
       "      <td id=\"T_a9fc1_row7_col2\" class=\"data row7 col2\" >2.00</td>\n",
       "      <td id=\"T_a9fc1_row7_col3\" class=\"data row7 col3\" >0.16</td>\n",
       "    </tr>\n",
       "    <tr>\n",
       "      <td id=\"T_a9fc1_row8_col0\" class=\"data row8 col0\" >Sodium Pyruvate</td>\n",
       "      <td id=\"T_a9fc1_row8_col1\" class=\"data row8 col1\" >110.04</td>\n",
       "      <td id=\"T_a9fc1_row8_col2\" class=\"data row8 col2\" >3.00</td>\n",
       "      <td id=\"T_a9fc1_row8_col3\" class=\"data row8 col3\" >0.34</td>\n",
       "    </tr>\n",
       "    <tr>\n",
       "      <td id=\"T_a9fc1_row9_col0\" class=\"data row9 col0\" >MgSO4 7*H2O (2.5M stock)</td>\n",
       "      <td id=\"T_a9fc1_row9_col1\" class=\"data row9 col1\" >246.48</td>\n",
       "      <td id=\"T_a9fc1_row9_col2\" class=\"data row9 col2\" >10.00</td>\n",
       "      <td id=\"T_a9fc1_row9_col3\" class=\"data row9 col3\" >4 mL</td>\n",
       "    </tr>\n",
       "    <tr>\n",
       "      <td id=\"T_a9fc1_row10_col0\" class=\"data row10 col0\" >CaCl2 (2.5M stock)</td>\n",
       "      <td id=\"T_a9fc1_row10_col1\" class=\"data row10 col1\" >147.01</td>\n",
       "      <td id=\"T_a9fc1_row10_col2\" class=\"data row10 col2\" >0.50</td>\n",
       "      <td id=\"T_a9fc1_row10_col3\" class=\"data row10 col3\" >200 mL</td>\n",
       "    </tr>\n",
       "  </tbody>\n",
       "</table>\n"
      ],
      "text/plain": [
       "<pandas.io.formats.style.Styler at 0x7063203a58b0>"
      ]
     },
     "execution_count": 4,
     "metadata": {},
     "output_type": "execute_result"
    }
   ],
   "source": [
    "df = pd.read_csv(cwd/\"nmdg_acsf.csv\")\n",
    "styled_df = df.style.format(precision=2)\n",
    "styled_df.hide()"
   ]
  },
  {
   "cell_type": "markdown",
   "metadata": {},
   "source": [
    "## HEPES Holding ACSF \n",
    "HEPES holding ACSF is like standard ACSF except that it has lower Na+ and has HEPES added to prevent edema. Edema primarily occurs in adult brain slices, the older the mouse/rat the tissue came from the worse the edema. HEPES ACSF also contains thiourea, Na-pyruvate and Na-ascorbate similar to what you would find in the choline and NMDG ACSF. \n",
    "\n",
    "Recipe notes:\n",
    "- The first 5 ingredients can be made as a 10x stock solution."
   ]
  },
  {
   "cell_type": "code",
   "execution_count": 5,
   "metadata": {
    "tags": [
     "remove-input"
    ]
   },
   "outputs": [
    {
     "data": {
      "text/html": [
       "<style type=\"text/css\">\n",
       "</style>\n",
       "<table id=\"T_c9f08\">\n",
       "  <thead>\n",
       "    <tr>\n",
       "      <th id=\"T_c9f08_level0_col0\" class=\"col_heading level0 col0\" >Reagent</th>\n",
       "      <th id=\"T_c9f08_level0_col1\" class=\"col_heading level0 col1\" >Molar Mass (g/mol)</th>\n",
       "      <th id=\"T_c9f08_level0_col2\" class=\"col_heading level0 col2\" >Concentration (mM)</th>\n",
       "      <th id=\"T_c9f08_level0_col3\" class=\"col_heading level0 col3\" >g per 1L</th>\n",
       "    </tr>\n",
       "  </thead>\n",
       "  <tbody>\n",
       "    <tr>\n",
       "      <td id=\"T_c9f08_row0_col0\" class=\"data row0 col0\" >NaCl</td>\n",
       "      <td id=\"T_c9f08_row0_col1\" class=\"data row0 col1\" >58.44</td>\n",
       "      <td id=\"T_c9f08_row0_col2\" class=\"data row0 col2\" >86.00</td>\n",
       "      <td id=\"T_c9f08_row0_col3\" class=\"data row0 col3\" >5.02</td>\n",
       "    </tr>\n",
       "    <tr>\n",
       "      <td id=\"T_c9f08_row1_col0\" class=\"data row1 col0\" >KCl</td>\n",
       "      <td id=\"T_c9f08_row1_col1\" class=\"data row1 col1\" >74.55</td>\n",
       "      <td id=\"T_c9f08_row1_col2\" class=\"data row1 col2\" >2.50</td>\n",
       "      <td id=\"T_c9f08_row1_col3\" class=\"data row1 col3\" >0.18</td>\n",
       "    </tr>\n",
       "    <tr>\n",
       "      <td id=\"T_c9f08_row2_col0\" class=\"data row2 col0\" >Sodium Phosphate monobasic monohydrate</td>\n",
       "      <td id=\"T_c9f08_row2_col1\" class=\"data row2 col1\" >138</td>\n",
       "      <td id=\"T_c9f08_row2_col2\" class=\"data row2 col2\" >1.20</td>\n",
       "      <td id=\"T_c9f08_row2_col3\" class=\"data row2 col3\" >0.16</td>\n",
       "    </tr>\n",
       "    <tr>\n",
       "      <td id=\"T_c9f08_row3_col0\" class=\"data row3 col0\" >Sodium Bicarbonate</td>\n",
       "      <td id=\"T_c9f08_row3_col1\" class=\"data row3 col1\" >84.01</td>\n",
       "      <td id=\"T_c9f08_row3_col2\" class=\"data row3 col2\" >35.00</td>\n",
       "      <td id=\"T_c9f08_row3_col3\" class=\"data row3 col3\" >2.94</td>\n",
       "    </tr>\n",
       "    <tr>\n",
       "      <td id=\"T_c9f08_row4_col0\" class=\"data row4 col0\" >HEPES</td>\n",
       "      <td id=\"T_c9f08_row4_col1\" class=\"data row4 col1\" >238.31</td>\n",
       "      <td id=\"T_c9f08_row4_col2\" class=\"data row4 col2\" >20.00</td>\n",
       "      <td id=\"T_c9f08_row4_col3\" class=\"data row4 col3\" >4.76</td>\n",
       "    </tr>\n",
       "    <tr>\n",
       "      <td id=\"T_c9f08_row5_col0\" class=\"data row5 col0\" >Glucose</td>\n",
       "      <td id=\"T_c9f08_row5_col1\" class=\"data row5 col1\" >180.2</td>\n",
       "      <td id=\"T_c9f08_row5_col2\" class=\"data row5 col2\" >25.00</td>\n",
       "      <td id=\"T_c9f08_row5_col3\" class=\"data row5 col3\" >4.5</td>\n",
       "    </tr>\n",
       "    <tr>\n",
       "      <td id=\"T_c9f08_row6_col0\" class=\"data row6 col0\" >Sodium Ascorbate</td>\n",
       "      <td id=\"T_c9f08_row6_col1\" class=\"data row6 col1\" >198</td>\n",
       "      <td id=\"T_c9f08_row6_col2\" class=\"data row6 col2\" >5.00</td>\n",
       "      <td id=\"T_c9f08_row6_col3\" class=\"data row6 col3\" >1</td>\n",
       "    </tr>\n",
       "    <tr>\n",
       "      <td id=\"T_c9f08_row7_col0\" class=\"data row7 col0\" >Thiourea</td>\n",
       "      <td id=\"T_c9f08_row7_col1\" class=\"data row7 col1\" >76.12</td>\n",
       "      <td id=\"T_c9f08_row7_col2\" class=\"data row7 col2\" >2.00</td>\n",
       "      <td id=\"T_c9f08_row7_col3\" class=\"data row7 col3\" >0.16</td>\n",
       "    </tr>\n",
       "    <tr>\n",
       "      <td id=\"T_c9f08_row8_col0\" class=\"data row8 col0\" >Sodium Pyruvate</td>\n",
       "      <td id=\"T_c9f08_row8_col1\" class=\"data row8 col1\" >110.04</td>\n",
       "      <td id=\"T_c9f08_row8_col2\" class=\"data row8 col2\" >3.00</td>\n",
       "      <td id=\"T_c9f08_row8_col3\" class=\"data row8 col3\" >0.34</td>\n",
       "    </tr>\n",
       "    <tr>\n",
       "      <td id=\"T_c9f08_row9_col0\" class=\"data row9 col0\" >MgSO4 7*H20 (2.5M stock)</td>\n",
       "      <td id=\"T_c9f08_row9_col1\" class=\"data row9 col1\" >120/246.48</td>\n",
       "      <td id=\"T_c9f08_row9_col2\" class=\"data row9 col2\" >1.00</td>\n",
       "      <td id=\"T_c9f08_row9_col3\" class=\"data row9 col3\" >0.4 mL</td>\n",
       "    </tr>\n",
       "    <tr>\n",
       "      <td id=\"T_c9f08_row10_col0\" class=\"data row10 col0\" >CaCl2 (2.5M stock)</td>\n",
       "      <td id=\"T_c9f08_row10_col1\" class=\"data row10 col1\" >147.01</td>\n",
       "      <td id=\"T_c9f08_row10_col2\" class=\"data row10 col2\" >2.00</td>\n",
       "      <td id=\"T_c9f08_row10_col3\" class=\"data row10 col3\" >0.8 mL</td>\n",
       "    </tr>\n",
       "  </tbody>\n",
       "</table>\n"
      ],
      "text/plain": [
       "<pandas.io.formats.style.Styler at 0x70631401c2f0>"
      ]
     },
     "execution_count": 5,
     "metadata": {},
     "output_type": "execute_result"
    }
   ],
   "source": [
    "df = pd.read_csv(cwd/\"hepes_acsf.csv\")\n",
    "styled_df = df.style.format(precision=2)\n",
    "styled_df.hide()"
   ]
  },
  {
   "cell_type": "markdown",
   "metadata": {},
   "source": [
    "## Sucrose ACSF \n",
    "Sucrose ACSF has all or some of the Na+ replaced with sucrose. The sucrose is primarily used to keep the osmolarity the same when the Na+ is removed. Sucrose ACSF can be used for perfusion, cutting and recovery, but not for holding or recording ACSF. "
   ]
  },
  {
   "cell_type": "code",
   "execution_count": 6,
   "metadata": {
    "tags": [
     "remove-input"
    ]
   },
   "outputs": [
    {
     "data": {
      "text/html": [
       "<style type=\"text/css\">\n",
       "</style>\n",
       "<table id=\"T_8df65\">\n",
       "  <thead>\n",
       "    <tr>\n",
       "      <th id=\"T_8df65_level0_col0\" class=\"col_heading level0 col0\" >Reagent</th>\n",
       "      <th id=\"T_8df65_level0_col1\" class=\"col_heading level0 col1\" >Molar Mass (g/mol)</th>\n",
       "      <th id=\"T_8df65_level0_col2\" class=\"col_heading level0 col2\" >Concentration (mM)</th>\n",
       "      <th id=\"T_8df65_level0_col3\" class=\"col_heading level0 col3\" >g per 1 L</th>\n",
       "    </tr>\n",
       "  </thead>\n",
       "  <tbody>\n",
       "    <tr>\n",
       "      <td id=\"T_8df65_row0_col0\" class=\"data row0 col0\" >Sucrose</td>\n",
       "      <td id=\"T_8df65_row0_col1\" class=\"data row0 col1\" >342.30</td>\n",
       "      <td id=\"T_8df65_row0_col2\" class=\"data row0 col2\" >250.00</td>\n",
       "      <td id=\"T_8df65_row0_col3\" class=\"data row0 col3\" >85.575</td>\n",
       "    </tr>\n",
       "    <tr>\n",
       "      <td id=\"T_8df65_row1_col0\" class=\"data row1 col0\" >Sodium Bicarbonate</td>\n",
       "      <td id=\"T_8df65_row1_col1\" class=\"data row1 col1\" >84.01</td>\n",
       "      <td id=\"T_8df65_row1_col2\" class=\"data row1 col2\" >24.00</td>\n",
       "      <td id=\"T_8df65_row1_col3\" class=\"data row1 col3\" >2.02</td>\n",
       "    </tr>\n",
       "    <tr>\n",
       "      <td id=\"T_8df65_row2_col0\" class=\"data row2 col0\" >D-Glucose</td>\n",
       "      <td id=\"T_8df65_row2_col1\" class=\"data row2 col1\" >180.20</td>\n",
       "      <td id=\"T_8df65_row2_col2\" class=\"data row2 col2\" >25.00</td>\n",
       "      <td id=\"T_8df65_row2_col3\" class=\"data row2 col3\" >4.5</td>\n",
       "    </tr>\n",
       "    <tr>\n",
       "      <td id=\"T_8df65_row3_col0\" class=\"data row3 col0\" >KCl (1M liquid stock)</td>\n",
       "      <td id=\"T_8df65_row3_col1\" class=\"data row3 col1\" >74.56</td>\n",
       "      <td id=\"T_8df65_row3_col2\" class=\"data row3 col2\" >2.50</td>\n",
       "      <td id=\"T_8df65_row3_col3\" class=\"data row3 col3\" >2.5 mL</td>\n",
       "    </tr>\n",
       "    <tr>\n",
       "      <td id=\"T_8df65_row4_col0\" class=\"data row4 col0\" >Sodium Phosphate monobasic monohydrate</td>\n",
       "      <td id=\"T_8df65_row4_col1\" class=\"data row4 col1\" >137.99</td>\n",
       "      <td id=\"T_8df65_row4_col2\" class=\"data row4 col2\" >1.25</td>\n",
       "      <td id=\"T_8df65_row4_col3\" class=\"data row4 col3\" >0.172</td>\n",
       "    </tr>\n",
       "    <tr>\n",
       "      <td id=\"T_8df65_row5_col0\" class=\"data row5 col0\" >MgSO4 7*H20 (1M Stock)</td>\n",
       "      <td id=\"T_8df65_row5_col1\" class=\"data row5 col1\" >246.48</td>\n",
       "      <td id=\"T_8df65_row5_col2\" class=\"data row5 col2\" >1.50</td>\n",
       "      <td id=\"T_8df65_row5_col3\" class=\"data row5 col3\" >1.5 mL</td>\n",
       "    </tr>\n",
       "    <tr>\n",
       "      <td id=\"T_8df65_row6_col0\" class=\"data row6 col0\" >CaCl2 (1M Stock)</td>\n",
       "      <td id=\"T_8df65_row6_col1\" class=\"data row6 col1\" >147.02</td>\n",
       "      <td id=\"T_8df65_row6_col2\" class=\"data row6 col2\" >2.00</td>\n",
       "      <td id=\"T_8df65_row6_col3\" class=\"data row6 col3\" >2 mL</td>\n",
       "    </tr>\n",
       "    <tr>\n",
       "      <td id=\"T_8df65_row7_col0\" class=\"data row7 col0\" >Kynurenic acid</td>\n",
       "      <td id=\"T_8df65_row7_col1\" class=\"data row7 col1\" >189.17</td>\n",
       "      <td id=\"T_8df65_row7_col2\" class=\"data row7 col2\" >1.00</td>\n",
       "      <td id=\"T_8df65_row7_col3\" class=\"data row7 col3\" >0.189</td>\n",
       "    </tr>\n",
       "  </tbody>\n",
       "</table>\n"
      ],
      "text/plain": [
       "<pandas.io.formats.style.Styler at 0x7063097bb890>"
      ]
     },
     "execution_count": 6,
     "metadata": {},
     "output_type": "execute_result"
    }
   ],
   "source": [
    "df = pd.read_csv(cwd/\"sucrose_acsf.csv\")\n",
    "styled_df = df.style.format(precision=2)\n",
    "styled_df.hide()"
   ]
  },
  {
   "cell_type": "markdown",
   "metadata": {},
   "source": [
    "## Low magnesium ACSF\n",
    "Magnesium-free ACSF is ACSF with very little or no magnesium added and increased Ca2+ to make up for the osmolarity and ionic gradient difference. The only time I have seen this used is if you want to record NMDAR currents at -70 mV. Additionally, you will need to add TTX to the ACSF to prevent seizure-like activity."
   ]
  },
  {
   "cell_type": "code",
   "execution_count": 7,
   "metadata": {
    "tags": [
     "remove-input"
    ]
   },
   "outputs": [
    {
     "data": {
      "text/html": [
       "<style type=\"text/css\">\n",
       "</style>\n",
       "<table id=\"T_6d079\">\n",
       "  <thead>\n",
       "    <tr>\n",
       "      <th id=\"T_6d079_level0_col0\" class=\"col_heading level0 col0\" >Reagent</th>\n",
       "      <th id=\"T_6d079_level0_col1\" class=\"col_heading level0 col1\" >Molar Mass (g/mol)</th>\n",
       "      <th id=\"T_6d079_level0_col2\" class=\"col_heading level0 col2\" >Concentration (mM)</th>\n",
       "      <th id=\"T_6d079_level0_col3\" class=\"col_heading level0 col3\" >g per 1 L</th>\n",
       "    </tr>\n",
       "  </thead>\n",
       "  <tbody>\n",
       "    <tr>\n",
       "      <td id=\"T_6d079_row0_col0\" class=\"data row0 col0\" >Sodium Bicarbonate</td>\n",
       "      <td id=\"T_6d079_row0_col1\" class=\"data row0 col1\" >84.01</td>\n",
       "      <td id=\"T_6d079_row0_col2\" class=\"data row0 col2\" >25.00</td>\n",
       "      <td id=\"T_6d079_row0_col3\" class=\"data row0 col3\" >2.10</td>\n",
       "    </tr>\n",
       "    <tr>\n",
       "      <td id=\"T_6d079_row1_col0\" class=\"data row1 col0\" >NaCl</td>\n",
       "      <td id=\"T_6d079_row1_col1\" class=\"data row1 col1\" >58.44</td>\n",
       "      <td id=\"T_6d079_row1_col2\" class=\"data row1 col2\" >125.00</td>\n",
       "      <td id=\"T_6d079_row1_col3\" class=\"data row1 col3\" >7.31</td>\n",
       "    </tr>\n",
       "    <tr>\n",
       "      <td id=\"T_6d079_row2_col0\" class=\"data row2 col0\" >Sodium Phosphate monobasic monohydrate</td>\n",
       "      <td id=\"T_6d079_row2_col1\" class=\"data row2 col1\" >137.99</td>\n",
       "      <td id=\"T_6d079_row2_col2\" class=\"data row2 col2\" >1.25</td>\n",
       "      <td id=\"T_6d079_row2_col3\" class=\"data row2 col3\" >0.172</td>\n",
       "    </tr>\n",
       "    <tr>\n",
       "      <td id=\"T_6d079_row3_col0\" class=\"data row3 col0\" >KCl (1M liquid stock)</td>\n",
       "      <td id=\"T_6d079_row3_col1\" class=\"data row3 col1\" >74.56</td>\n",
       "      <td id=\"T_6d079_row3_col2\" class=\"data row3 col2\" >2.50</td>\n",
       "      <td id=\"T_6d079_row3_col3\" class=\"data row3 col3\" >2.5 mL</td>\n",
       "    </tr>\n",
       "    <tr>\n",
       "      <td id=\"T_6d079_row4_col0\" class=\"data row4 col0\" >Glucose</td>\n",
       "      <td id=\"T_6d079_row4_col1\" class=\"data row4 col1\" >180.20</td>\n",
       "      <td id=\"T_6d079_row4_col2\" class=\"data row4 col2\" >12.50</td>\n",
       "      <td id=\"T_6d079_row4_col3\" class=\"data row4 col3\" >2.25</td>\n",
       "    </tr>\n",
       "    <tr>\n",
       "      <td id=\"T_6d079_row5_col0\" class=\"data row5 col0\" >CaCl2 (1M Stock)</td>\n",
       "      <td id=\"T_6d079_row5_col1\" class=\"data row5 col1\" >147.02</td>\n",
       "      <td id=\"T_6d079_row5_col2\" class=\"data row5 col2\" >3.00</td>\n",
       "      <td id=\"T_6d079_row5_col3\" class=\"data row5 col3\" >3 mL</td>\n",
       "    </tr>\n",
       "    <tr>\n",
       "      <td id=\"T_6d079_row6_col0\" class=\"data row6 col0\" >MgCl2 6*H2O (1M liquid Stock)</td>\n",
       "      <td id=\"T_6d079_row6_col1\" class=\"data row6 col1\" >203.30</td>\n",
       "      <td id=\"T_6d079_row6_col2\" class=\"data row6 col2\" >0.10</td>\n",
       "      <td id=\"T_6d079_row6_col3\" class=\"data row6 col3\" >0.1 mL</td>\n",
       "    </tr>\n",
       "  </tbody>\n",
       "</table>\n"
      ],
      "text/plain": [
       "<pandas.io.formats.style.Styler at 0x706328053a40>"
      ]
     },
     "execution_count": 7,
     "metadata": {},
     "output_type": "execute_result"
    }
   ],
   "source": [
    "df = pd.read_csv(cwd/\"low_magnesium_acsf.csv\")\n",
    "styled_df = df.style.format(precision=2)\n",
    "styled_df.hide()"
   ]
  },
  {
   "cell_type": "markdown",
   "metadata": {},
   "source": [
    "## Strontium ACSF \n",
    "\n",
    "Strontium ACSF has the calcium replaced with Sr2+. Generally, strontium ACSF recording projection/cell-type specific quantal events. Sr2+ is less effectively bound by proteins that are involved in synaptic vesicle release. As such when doing electrical or optogenetic stimulation you can get a large peak followed by small quantal events that occur during the decay of the event. It is not recommended to use this ACSF for holding tissue for long periods of time. See the optogenetic stimulation section for more about this experiment. \n",
    "\n",
    "Tissue generally needs to sit in Sr2+ ACSF for 15-30 min before enough Sr2+ had diffused intracellularly. You may be able to shorten the incubation period by increasing the Sr2+ concentration above what you normally use for Ca2+. \n",
    "\n",
    "Recipe notes:\n",
    "- It is recommended to add ~20 uM EGTA in the ACSF to bind any extra free Ca2+ that may be introduced by transferring the tissue to the bath or by Ca2+ that is released by the cells internal stores. "
   ]
  },
  {
   "cell_type": "code",
   "execution_count": 8,
   "metadata": {
    "tags": [
     "remove-input"
    ]
   },
   "outputs": [
    {
     "data": {
      "text/html": [
       "<style type=\"text/css\">\n",
       "</style>\n",
       "<table id=\"T_53dab\">\n",
       "  <thead>\n",
       "    <tr>\n",
       "      <th id=\"T_53dab_level0_col0\" class=\"col_heading level0 col0\" >Reagent</th>\n",
       "      <th id=\"T_53dab_level0_col1\" class=\"col_heading level0 col1\" >Molar Mass (g/mol)</th>\n",
       "      <th id=\"T_53dab_level0_col2\" class=\"col_heading level0 col2\" >Concentration (mM)</th>\n",
       "      <th id=\"T_53dab_level0_col3\" class=\"col_heading level0 col3\" >g per 1 L</th>\n",
       "    </tr>\n",
       "  </thead>\n",
       "  <tbody>\n",
       "    <tr>\n",
       "      <td id=\"T_53dab_row0_col0\" class=\"data row0 col0\" >Sodium Bicarbonate</td>\n",
       "      <td id=\"T_53dab_row0_col1\" class=\"data row0 col1\" >84.01</td>\n",
       "      <td id=\"T_53dab_row0_col2\" class=\"data row0 col2\" >25</td>\n",
       "      <td id=\"T_53dab_row0_col3\" class=\"data row0 col3\" >2.10</td>\n",
       "    </tr>\n",
       "    <tr>\n",
       "      <td id=\"T_53dab_row1_col0\" class=\"data row1 col0\" >NaCl</td>\n",
       "      <td id=\"T_53dab_row1_col1\" class=\"data row1 col1\" >58.44</td>\n",
       "      <td id=\"T_53dab_row1_col2\" class=\"data row1 col2\" >125</td>\n",
       "      <td id=\"T_53dab_row1_col3\" class=\"data row1 col3\" >7.31</td>\n",
       "    </tr>\n",
       "    <tr>\n",
       "      <td id=\"T_53dab_row2_col0\" class=\"data row2 col0\" >Sodium Phosphate monobasic monohydrate</td>\n",
       "      <td id=\"T_53dab_row2_col1\" class=\"data row2 col1\" >137.99</td>\n",
       "      <td id=\"T_53dab_row2_col2\" class=\"data row2 col2\" >1.25</td>\n",
       "      <td id=\"T_53dab_row2_col3\" class=\"data row2 col3\" >0.172</td>\n",
       "    </tr>\n",
       "    <tr>\n",
       "      <td id=\"T_53dab_row3_col0\" class=\"data row3 col0\" >KCl (1M liquid stock)</td>\n",
       "      <td id=\"T_53dab_row3_col1\" class=\"data row3 col1\" >74.56</td>\n",
       "      <td id=\"T_53dab_row3_col2\" class=\"data row3 col2\" >2.5</td>\n",
       "      <td id=\"T_53dab_row3_col3\" class=\"data row3 col3\" >2.5 mL</td>\n",
       "    </tr>\n",
       "    <tr>\n",
       "      <td id=\"T_53dab_row4_col0\" class=\"data row4 col0\" >Glucose</td>\n",
       "      <td id=\"T_53dab_row4_col1\" class=\"data row4 col1\" >180.20</td>\n",
       "      <td id=\"T_53dab_row4_col2\" class=\"data row4 col2\" >12.5</td>\n",
       "      <td id=\"T_53dab_row4_col3\" class=\"data row4 col3\" >2.25</td>\n",
       "    </tr>\n",
       "    <tr>\n",
       "      <td id=\"T_53dab_row5_col0\" class=\"data row5 col0\" >MgCl2 6*H2O (1M liquid Stock)</td>\n",
       "      <td id=\"T_53dab_row5_col1\" class=\"data row5 col1\" >203.30</td>\n",
       "      <td id=\"T_53dab_row5_col2\" class=\"data row5 col2\" >1-4</td>\n",
       "      <td id=\"T_53dab_row5_col3\" class=\"data row5 col3\" >1-4 mL</td>\n",
       "    </tr>\n",
       "    <tr>\n",
       "      <td id=\"T_53dab_row6_col0\" class=\"data row6 col0\" >SrCl2 6*H2O (1M Stock)</td>\n",
       "      <td id=\"T_53dab_row6_col1\" class=\"data row6 col1\" >266.62</td>\n",
       "      <td id=\"T_53dab_row6_col2\" class=\"data row6 col2\" >3-4</td>\n",
       "      <td id=\"T_53dab_row6_col3\" class=\"data row6 col3\" >3-4 mL</td>\n",
       "    </tr>\n",
       "  </tbody>\n",
       "</table>\n"
      ],
      "text/plain": [
       "<pandas.io.formats.style.Styler at 0x706309783e60>"
      ]
     },
     "execution_count": 8,
     "metadata": {},
     "output_type": "execute_result"
    }
   ],
   "source": [
    "df = pd.read_csv(cwd/\"strontium_acsf.csv\")\n",
    "styled_df = df.style.format(precision=2)\n",
    "styled_df.hide()"
   ]
  }
 ],
 "metadata": {
  "kernelspec": {
   "display_name": "ephysbook",
   "language": "python",
   "name": "python3"
  },
  "language_info": {
   "codemirror_mode": {
    "name": "ipython",
    "version": 3
   },
   "file_extension": ".py",
   "mimetype": "text/x-python",
   "name": "python",
   "nbconvert_exporter": "python",
   "pygments_lexer": "ipython3",
   "version": "3.12.9"
  }
 },
 "nbformat": 4,
 "nbformat_minor": 2
}
